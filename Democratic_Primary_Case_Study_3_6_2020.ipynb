{
  "nbformat": 4,
  "nbformat_minor": 0,
  "metadata": {
    "colab": {
      "name": "REDUCED_Democratic_Primary_Case_Study_3_6_2020.ipynb",
      "provenance": [],
      "collapsed_sections": [
        "QqbucFBAgxu6",
        "-m2ehThtkFUN"
      ]
    },
    "kernelspec": {
      "name": "python3",
      "display_name": "Python 3"
    }
  },
  "cells": [
    {
      "cell_type": "markdown",
      "metadata": {
        "id": "AWfswokfWdr2",
        "colab_type": "text"
      },
      "source": [
        "#Predicting the 2020 Democratic Primary Election\n",
        "\n",
        "##Case Overview: \n",
        "\n",
        "\n",
        "\n",
        "\n",
        "\n",
        "The 2020 Democratic Primary Election will be a pivotal moment in American (and world) history. As such, this is an interesting and significant race to analyze and better understand. In this case study, we will explore the Democratic primary election from a variety of angles with the ultimate goal of predicting the nominee. Leveraging various data sources will enable us to understand what may influence the result. \n",
        "\n",
        "\n",
        "\n",
        "![](https://raw.githubusercontent.com/stat10/DS10-Case-Studies/master/Images/dems_heads.jpeg)\n",
        "\n",
        "\n",
        "![](https://raw.githubusercontent.com/stat10/DS10-Case-Studies/master/Images/xkcd_comic.jpeg)\n",
        "\n",
        "\n",
        "\n",
        "The comic refers to the fact that Nate Silver's statistical model (which is based mostly on combining information from pre-election polls) correctly predicted the outcome of the 2012 presidential race in all 50 states.\n",
        "\n",
        "\n",
        "\n",
        "\n",
        "\n"
      ]
    },
    {
      "cell_type": "markdown",
      "metadata": {
        "id": "P_RrZ_iAWe_h",
        "colab_type": "text"
      },
      "source": [
        "## DISCUSSION 1\n",
        "\n",
        "In the past, the outcome of political campaigns was predicted by political analysts and pundits, using a combination of their experience, intuition, and personal biases and preferences. In recent decades there has been a shift to a more scientific approach, in which election results are predicted statistically using a poll. A small random sample of voters is asked how they will vote, and from that the result of the entire election is extrapolated. \n",
        "\n",
        "\n",
        "\n",
        "Discuss what factors could have lead to this shift to a more scienfitic approach in determining the outcome of political campaigns?"
      ]
    },
    {
      "cell_type": "markdown",
      "metadata": {
        "id": "9UJHd0b2Wew_",
        "colab_type": "text"
      },
      "source": [
        "## DISCUSSION 2\n",
        "In practice, a poll's prediction must be taken with a grain of salt, because the sample is only approximately representative of the voting population. For example, in late October 2012, the Gallup poll consistently gave Romney a 6-percentage-point lead in the popular vote, but in fact Obama won the popular vote by 2.6 percentage points. On the other hand, RAND Corporation was biased toward the Democrats and tended to overstate Obama's lead by 1.5 percentage points. \n",
        "\n",
        "**What could lead to a sample (in terms of polls) not representing the population?**"
      ]
    },
    {
      "cell_type": "markdown",
      "metadata": {
        "id": "B5a3va7VWetd",
        "colab_type": "text"
      },
      "source": [
        "## DISCUSSION 3\n",
        "One approach to overcome this bias is by averaging together the different polls. This is better than trusting any one of them, but it is still rather crude. What if most of them are biased? \n",
        "\n",
        "Silver's approach is very sophisticated, but its key idea is to combine different polls using a weighted average. In a normal average, each data point contributes equally to the result. In a weighted average, some data points contribute more than others. Silver examined how well each polling organization had predicted previous elections, and then weighted their polls according to their accuracy: more biased pollsters had less effect on the weighted average.\n",
        "\n",
        "**Can you think of some things to consider when determining the weight of a poll (i.e. how accurate/reliable is this poll)?**"
      ]
    },
    {
      "cell_type": "markdown",
      "metadata": {
        "id": "ZMFVURo7rrUm",
        "colab_type": "text"
      },
      "source": [
        "#Bias in Survey Sampling\n",
        "\n",
        "In survey sampling, bias refers to the tendency of a sample statistic to systematically over- or under-estimate a population parameter. \n",
        "\n",
        "\n",
        "###Bias Due to Unrepresentative Samples\n",
        "\n",
        "\n",
        "- Undercoverage\n",
        "\n",
        "\n",
        "- Nonresponse bias. \n",
        "\n",
        "\n",
        "- Voluntary response bias.\n",
        "\n",
        "\n"
      ]
    },
    {
      "cell_type": "markdown",
      "metadata": {
        "id": "x98a2dAWrWcz",
        "colab_type": "text"
      },
      "source": [
        "## DISCUSSION 4\n",
        "\n",
        "**What methods could potentially overcome selection bias?**\n",
        "\n"
      ]
    },
    {
      "cell_type": "markdown",
      "metadata": {
        "id": "O-F8hUsnrKJv",
        "colab_type": "text"
      },
      "source": [
        "## Bias Due to Measurement Error\n",
        "\n",
        "A poor measurement process can also lead to bias. In survey research, the measurement process includes the environment in which the survey is conducted,the way that questions are asked, and the state of the survey respondent.\n",
        "\n",
        "## DISCUSSION 5 \n",
        "**Can you give some examples of response bias?**\n",
        "\n"
      ]
    },
    {
      "cell_type": "markdown",
      "metadata": {
        "id": "KrRfxlZqtQ4j",
        "colab_type": "text"
      },
      "source": [
        "##Test Your Understanding\n",
        "\n",
        "\n",
        "Which of the following statements are true?\n",
        "\n",
        "\n",
        "\n",
        "1. Random sampling is a good way to reduce response bias. \n",
        "2. To guard against bias from undercoverage, use a convenience sample.\n",
        "3. Increasing the sample size tends to reduce survey bias. \n",
        "4. To guard against nonresponse bias, use a mail-in survey.\n",
        "\n",
        "\n",
        "\n",
        "\n",
        "* (A) 1 only \n",
        "* (B) 2 only \n",
        "* (C) 3 only \n",
        "* (D) 4 only \n",
        "* (E) None of the above.\n",
        "\n",
        "\n",
        "\n",
        "\n"
      ]
    },
    {
      "cell_type": "markdown",
      "metadata": {
        "id": "4nipPFTqvFyU",
        "colab_type": "text"
      },
      "source": [
        "##Now to the fun stuff!"
      ]
    },
    {
      "cell_type": "code",
      "metadata": {
        "id": "3oGAKxMuNoUH",
        "colab_type": "code",
        "cellView": "form",
        "colab": {}
      },
      "source": [
        "#@title Load modules\n",
        "## Load your libraries\n",
        "## Libraries, also called \"modules\", contain functions and methods already written \n",
        "## by someone else. All you have to do is pass your argument(s) and call them yourself!\n",
        "\n",
        "\n",
        "## Load the pandas module and give it the name 'pd'.\n",
        "## Pandas is a software library written for the Python programming language for data manipulation and analysis.\n",
        "import pandas as pd \n",
        "\n",
        "## Load the python plotting modules\n",
        "## We don't need to import the entire matplotlib. We can just import the plotting utilities.\n",
        "import matplotlib.pyplot as plt\n",
        "\n",
        "##Load the numpy module. Numpy is \n",
        "import numpy as np\n",
        "\n",
        "## Load the datetime module\n",
        "import datetime\n",
        "\n",
        "##We might load other modules along the way."
      ],
      "execution_count": 0,
      "outputs": []
    },
    {
      "cell_type": "code",
      "metadata": {
        "id": "2wBrujdGNyyB",
        "colab_type": "code",
        "outputId": "ca37419f-3c47-420d-c390-e81ffb52e046",
        "cellView": "form",
        "colab": {
          "base_uri": "https://localhost:8080/",
          "height": 753
        }
      },
      "source": [
        "#@title Fetch Polling Data\n",
        "##Now we'll fetch our polling data from FiveThirtyEight. The data for this case study is hosted at the following link. \n",
        "##Pandas has a read_csv function which takes the data_link as an argument.\n",
        "\n",
        "data_link = \"https://projects.fivethirtyeight.com/polls-page/president_primary_polls.csv\"\n",
        "\n",
        "poll_df = pd.read_csv(data_link)\n",
        "\n",
        "##Display the first 10 rows.\n",
        "poll_df.head(n=10)"
      ],
      "execution_count": 2,
      "outputs": [
        {
          "output_type": "stream",
          "text": [
            "/usr/local/lib/python3.6/dist-packages/IPython/core/interactiveshell.py:2718: DtypeWarning: Columns (19) have mixed types. Specify dtype option on import or set low_memory=False.\n",
            "  interactivity=interactivity, compiler=compiler, result=result)\n"
          ],
          "name": "stderr"
        },
        {
          "output_type": "execute_result",
          "data": {
            "text/html": [
              "<div>\n",
              "<style scoped>\n",
              "    .dataframe tbody tr th:only-of-type {\n",
              "        vertical-align: middle;\n",
              "    }\n",
              "\n",
              "    .dataframe tbody tr th {\n",
              "        vertical-align: top;\n",
              "    }\n",
              "\n",
              "    .dataframe thead th {\n",
              "        text-align: right;\n",
              "    }\n",
              "</style>\n",
              "<table border=\"1\" class=\"dataframe\">\n",
              "  <thead>\n",
              "    <tr style=\"text-align: right;\">\n",
              "      <th></th>\n",
              "      <th>question_id</th>\n",
              "      <th>poll_id</th>\n",
              "      <th>cycle</th>\n",
              "      <th>state</th>\n",
              "      <th>pollster_id</th>\n",
              "      <th>pollster</th>\n",
              "      <th>sponsor_ids</th>\n",
              "      <th>sponsors</th>\n",
              "      <th>display_name</th>\n",
              "      <th>pollster_rating_id</th>\n",
              "      <th>pollster_rating_name</th>\n",
              "      <th>fte_grade</th>\n",
              "      <th>sample_size</th>\n",
              "      <th>population</th>\n",
              "      <th>population_full</th>\n",
              "      <th>methodology</th>\n",
              "      <th>office_type</th>\n",
              "      <th>start_date</th>\n",
              "      <th>end_date</th>\n",
              "      <th>sponsor_candidate</th>\n",
              "      <th>internal</th>\n",
              "      <th>partisan</th>\n",
              "      <th>tracking</th>\n",
              "      <th>nationwide_batch</th>\n",
              "      <th>created_at</th>\n",
              "      <th>notes</th>\n",
              "      <th>url</th>\n",
              "      <th>stage</th>\n",
              "      <th>party</th>\n",
              "      <th>answer</th>\n",
              "      <th>candidate_id</th>\n",
              "      <th>candidate_name</th>\n",
              "      <th>pct</th>\n",
              "    </tr>\n",
              "  </thead>\n",
              "  <tbody>\n",
              "    <tr>\n",
              "      <th>0</th>\n",
              "      <td>119743</td>\n",
              "      <td>64748</td>\n",
              "      <td>2020</td>\n",
              "      <td>Michigan</td>\n",
              "      <td>317</td>\n",
              "      <td>Mitchell Research &amp; Communications</td>\n",
              "      <td>NaN</td>\n",
              "      <td>NaN</td>\n",
              "      <td>Mitchell Research &amp; Communications</td>\n",
              "      <td>213.0</td>\n",
              "      <td>Mitchell Research &amp; Communications</td>\n",
              "      <td>D</td>\n",
              "      <td>602</td>\n",
              "      <td>lv</td>\n",
              "      <td>lv-d</td>\n",
              "      <td>Automated Phone</td>\n",
              "      <td>U.S. President</td>\n",
              "      <td>3/8/20</td>\n",
              "      <td>3/8/20</td>\n",
              "      <td>NaN</td>\n",
              "      <td>False</td>\n",
              "      <td>NaN</td>\n",
              "      <td>False</td>\n",
              "      <td>False</td>\n",
              "      <td>3/8/20 23:48</td>\n",
              "      <td>NaN</td>\n",
              "      <td>https://www.realclearpolitics.com/docs/2020/Mi...</td>\n",
              "      <td>primary</td>\n",
              "      <td>DEM</td>\n",
              "      <td>Biden</td>\n",
              "      <td>13256</td>\n",
              "      <td>Joseph R. Biden Jr.</td>\n",
              "      <td>54.0</td>\n",
              "    </tr>\n",
              "    <tr>\n",
              "      <th>1</th>\n",
              "      <td>119743</td>\n",
              "      <td>64748</td>\n",
              "      <td>2020</td>\n",
              "      <td>Michigan</td>\n",
              "      <td>317</td>\n",
              "      <td>Mitchell Research &amp; Communications</td>\n",
              "      <td>NaN</td>\n",
              "      <td>NaN</td>\n",
              "      <td>Mitchell Research &amp; Communications</td>\n",
              "      <td>213.0</td>\n",
              "      <td>Mitchell Research &amp; Communications</td>\n",
              "      <td>D</td>\n",
              "      <td>602</td>\n",
              "      <td>lv</td>\n",
              "      <td>lv-d</td>\n",
              "      <td>Automated Phone</td>\n",
              "      <td>U.S. President</td>\n",
              "      <td>3/8/20</td>\n",
              "      <td>3/8/20</td>\n",
              "      <td>NaN</td>\n",
              "      <td>False</td>\n",
              "      <td>NaN</td>\n",
              "      <td>False</td>\n",
              "      <td>False</td>\n",
              "      <td>3/8/20 23:48</td>\n",
              "      <td>NaN</td>\n",
              "      <td>https://www.realclearpolitics.com/docs/2020/Mi...</td>\n",
              "      <td>primary</td>\n",
              "      <td>DEM</td>\n",
              "      <td>Bloomberg</td>\n",
              "      <td>13289</td>\n",
              "      <td>Michael Bloomberg</td>\n",
              "      <td>1.0</td>\n",
              "    </tr>\n",
              "    <tr>\n",
              "      <th>2</th>\n",
              "      <td>119743</td>\n",
              "      <td>64748</td>\n",
              "      <td>2020</td>\n",
              "      <td>Michigan</td>\n",
              "      <td>317</td>\n",
              "      <td>Mitchell Research &amp; Communications</td>\n",
              "      <td>NaN</td>\n",
              "      <td>NaN</td>\n",
              "      <td>Mitchell Research &amp; Communications</td>\n",
              "      <td>213.0</td>\n",
              "      <td>Mitchell Research &amp; Communications</td>\n",
              "      <td>D</td>\n",
              "      <td>602</td>\n",
              "      <td>lv</td>\n",
              "      <td>lv-d</td>\n",
              "      <td>Automated Phone</td>\n",
              "      <td>U.S. President</td>\n",
              "      <td>3/8/20</td>\n",
              "      <td>3/8/20</td>\n",
              "      <td>NaN</td>\n",
              "      <td>False</td>\n",
              "      <td>NaN</td>\n",
              "      <td>False</td>\n",
              "      <td>False</td>\n",
              "      <td>3/8/20 23:48</td>\n",
              "      <td>NaN</td>\n",
              "      <td>https://www.realclearpolitics.com/docs/2020/Mi...</td>\n",
              "      <td>primary</td>\n",
              "      <td>DEM</td>\n",
              "      <td>Buttigieg</td>\n",
              "      <td>13345</td>\n",
              "      <td>Pete Buttigieg</td>\n",
              "      <td>1.0</td>\n",
              "    </tr>\n",
              "    <tr>\n",
              "      <th>3</th>\n",
              "      <td>119743</td>\n",
              "      <td>64748</td>\n",
              "      <td>2020</td>\n",
              "      <td>Michigan</td>\n",
              "      <td>317</td>\n",
              "      <td>Mitchell Research &amp; Communications</td>\n",
              "      <td>NaN</td>\n",
              "      <td>NaN</td>\n",
              "      <td>Mitchell Research &amp; Communications</td>\n",
              "      <td>213.0</td>\n",
              "      <td>Mitchell Research &amp; Communications</td>\n",
              "      <td>D</td>\n",
              "      <td>602</td>\n",
              "      <td>lv</td>\n",
              "      <td>lv-d</td>\n",
              "      <td>Automated Phone</td>\n",
              "      <td>U.S. President</td>\n",
              "      <td>3/8/20</td>\n",
              "      <td>3/8/20</td>\n",
              "      <td>NaN</td>\n",
              "      <td>False</td>\n",
              "      <td>NaN</td>\n",
              "      <td>False</td>\n",
              "      <td>False</td>\n",
              "      <td>3/8/20 23:48</td>\n",
              "      <td>NaN</td>\n",
              "      <td>https://www.realclearpolitics.com/docs/2020/Mi...</td>\n",
              "      <td>primary</td>\n",
              "      <td>DEM</td>\n",
              "      <td>Klobuchar</td>\n",
              "      <td>13310</td>\n",
              "      <td>Amy Klobuchar</td>\n",
              "      <td>1.0</td>\n",
              "    </tr>\n",
              "    <tr>\n",
              "      <th>4</th>\n",
              "      <td>119743</td>\n",
              "      <td>64748</td>\n",
              "      <td>2020</td>\n",
              "      <td>Michigan</td>\n",
              "      <td>317</td>\n",
              "      <td>Mitchell Research &amp; Communications</td>\n",
              "      <td>NaN</td>\n",
              "      <td>NaN</td>\n",
              "      <td>Mitchell Research &amp; Communications</td>\n",
              "      <td>213.0</td>\n",
              "      <td>Mitchell Research &amp; Communications</td>\n",
              "      <td>D</td>\n",
              "      <td>602</td>\n",
              "      <td>lv</td>\n",
              "      <td>lv-d</td>\n",
              "      <td>Automated Phone</td>\n",
              "      <td>U.S. President</td>\n",
              "      <td>3/8/20</td>\n",
              "      <td>3/8/20</td>\n",
              "      <td>NaN</td>\n",
              "      <td>False</td>\n",
              "      <td>NaN</td>\n",
              "      <td>False</td>\n",
              "      <td>False</td>\n",
              "      <td>3/8/20 23:48</td>\n",
              "      <td>NaN</td>\n",
              "      <td>https://www.realclearpolitics.com/docs/2020/Mi...</td>\n",
              "      <td>primary</td>\n",
              "      <td>DEM</td>\n",
              "      <td>Sanders</td>\n",
              "      <td>13257</td>\n",
              "      <td>Bernard Sanders</td>\n",
              "      <td>33.0</td>\n",
              "    </tr>\n",
              "    <tr>\n",
              "      <th>5</th>\n",
              "      <td>119743</td>\n",
              "      <td>64748</td>\n",
              "      <td>2020</td>\n",
              "      <td>Michigan</td>\n",
              "      <td>317</td>\n",
              "      <td>Mitchell Research &amp; Communications</td>\n",
              "      <td>NaN</td>\n",
              "      <td>NaN</td>\n",
              "      <td>Mitchell Research &amp; Communications</td>\n",
              "      <td>213.0</td>\n",
              "      <td>Mitchell Research &amp; Communications</td>\n",
              "      <td>D</td>\n",
              "      <td>602</td>\n",
              "      <td>lv</td>\n",
              "      <td>lv-d</td>\n",
              "      <td>Automated Phone</td>\n",
              "      <td>U.S. President</td>\n",
              "      <td>3/8/20</td>\n",
              "      <td>3/8/20</td>\n",
              "      <td>NaN</td>\n",
              "      <td>False</td>\n",
              "      <td>NaN</td>\n",
              "      <td>False</td>\n",
              "      <td>False</td>\n",
              "      <td>3/8/20 23:48</td>\n",
              "      <td>NaN</td>\n",
              "      <td>https://www.realclearpolitics.com/docs/2020/Mi...</td>\n",
              "      <td>primary</td>\n",
              "      <td>DEM</td>\n",
              "      <td>Steyer</td>\n",
              "      <td>13327</td>\n",
              "      <td>Tom Steyer</td>\n",
              "      <td>1.0</td>\n",
              "    </tr>\n",
              "    <tr>\n",
              "      <th>6</th>\n",
              "      <td>119743</td>\n",
              "      <td>64748</td>\n",
              "      <td>2020</td>\n",
              "      <td>Michigan</td>\n",
              "      <td>317</td>\n",
              "      <td>Mitchell Research &amp; Communications</td>\n",
              "      <td>NaN</td>\n",
              "      <td>NaN</td>\n",
              "      <td>Mitchell Research &amp; Communications</td>\n",
              "      <td>213.0</td>\n",
              "      <td>Mitchell Research &amp; Communications</td>\n",
              "      <td>D</td>\n",
              "      <td>602</td>\n",
              "      <td>lv</td>\n",
              "      <td>lv-d</td>\n",
              "      <td>Automated Phone</td>\n",
              "      <td>U.S. President</td>\n",
              "      <td>3/8/20</td>\n",
              "      <td>3/8/20</td>\n",
              "      <td>NaN</td>\n",
              "      <td>False</td>\n",
              "      <td>NaN</td>\n",
              "      <td>False</td>\n",
              "      <td>False</td>\n",
              "      <td>3/8/20 23:48</td>\n",
              "      <td>NaN</td>\n",
              "      <td>https://www.realclearpolitics.com/docs/2020/Mi...</td>\n",
              "      <td>primary</td>\n",
              "      <td>DEM</td>\n",
              "      <td>Warren</td>\n",
              "      <td>13258</td>\n",
              "      <td>Elizabeth Warren</td>\n",
              "      <td>3.0</td>\n",
              "    </tr>\n",
              "    <tr>\n",
              "      <th>7</th>\n",
              "      <td>119758</td>\n",
              "      <td>64753</td>\n",
              "      <td>2020</td>\n",
              "      <td>Illinois</td>\n",
              "      <td>1230</td>\n",
              "      <td>Ogden &amp; Fry</td>\n",
              "      <td>1249</td>\n",
              "      <td>Northwest Side GOP Club</td>\n",
              "      <td>Ogden &amp; Fry</td>\n",
              "      <td>425.0</td>\n",
              "      <td>Ogden &amp; Fry</td>\n",
              "      <td>B/C</td>\n",
              "      <td>457</td>\n",
              "      <td>lv</td>\n",
              "      <td>lv-d</td>\n",
              "      <td>Automated Phone</td>\n",
              "      <td>U.S. President</td>\n",
              "      <td>3/8/20</td>\n",
              "      <td>3/8/20</td>\n",
              "      <td>NaN</td>\n",
              "      <td>False</td>\n",
              "      <td>NaN</td>\n",
              "      <td>False</td>\n",
              "      <td>False</td>\n",
              "      <td>3/9/20 07:50</td>\n",
              "      <td>NaN</td>\n",
              "      <td>https://drive.google.com/file/d/1rcSCjbOdGq1Uz...</td>\n",
              "      <td>primary</td>\n",
              "      <td>DEM</td>\n",
              "      <td>Biden</td>\n",
              "      <td>13256</td>\n",
              "      <td>Joseph R. Biden Jr.</td>\n",
              "      <td>55.4</td>\n",
              "    </tr>\n",
              "    <tr>\n",
              "      <th>8</th>\n",
              "      <td>119758</td>\n",
              "      <td>64753</td>\n",
              "      <td>2020</td>\n",
              "      <td>Illinois</td>\n",
              "      <td>1230</td>\n",
              "      <td>Ogden &amp; Fry</td>\n",
              "      <td>1249</td>\n",
              "      <td>Northwest Side GOP Club</td>\n",
              "      <td>Ogden &amp; Fry</td>\n",
              "      <td>425.0</td>\n",
              "      <td>Ogden &amp; Fry</td>\n",
              "      <td>B/C</td>\n",
              "      <td>457</td>\n",
              "      <td>lv</td>\n",
              "      <td>lv-d</td>\n",
              "      <td>Automated Phone</td>\n",
              "      <td>U.S. President</td>\n",
              "      <td>3/8/20</td>\n",
              "      <td>3/8/20</td>\n",
              "      <td>NaN</td>\n",
              "      <td>False</td>\n",
              "      <td>NaN</td>\n",
              "      <td>False</td>\n",
              "      <td>False</td>\n",
              "      <td>3/9/20 07:50</td>\n",
              "      <td>NaN</td>\n",
              "      <td>https://drive.google.com/file/d/1rcSCjbOdGq1Uz...</td>\n",
              "      <td>primary</td>\n",
              "      <td>DEM</td>\n",
              "      <td>Sanders</td>\n",
              "      <td>13257</td>\n",
              "      <td>Bernard Sanders</td>\n",
              "      <td>26.4</td>\n",
              "    </tr>\n",
              "    <tr>\n",
              "      <th>9</th>\n",
              "      <td>119758</td>\n",
              "      <td>64753</td>\n",
              "      <td>2020</td>\n",
              "      <td>Illinois</td>\n",
              "      <td>1230</td>\n",
              "      <td>Ogden &amp; Fry</td>\n",
              "      <td>1249</td>\n",
              "      <td>Northwest Side GOP Club</td>\n",
              "      <td>Ogden &amp; Fry</td>\n",
              "      <td>425.0</td>\n",
              "      <td>Ogden &amp; Fry</td>\n",
              "      <td>B/C</td>\n",
              "      <td>457</td>\n",
              "      <td>lv</td>\n",
              "      <td>lv-d</td>\n",
              "      <td>Automated Phone</td>\n",
              "      <td>U.S. President</td>\n",
              "      <td>3/8/20</td>\n",
              "      <td>3/8/20</td>\n",
              "      <td>NaN</td>\n",
              "      <td>False</td>\n",
              "      <td>NaN</td>\n",
              "      <td>False</td>\n",
              "      <td>False</td>\n",
              "      <td>3/9/20 07:50</td>\n",
              "      <td>NaN</td>\n",
              "      <td>https://drive.google.com/file/d/1rcSCjbOdGq1Uz...</td>\n",
              "      <td>primary</td>\n",
              "      <td>DEM</td>\n",
              "      <td>Gabbard</td>\n",
              "      <td>13343</td>\n",
              "      <td>Tulsi Gabbard</td>\n",
              "      <td>2.0</td>\n",
              "    </tr>\n",
              "  </tbody>\n",
              "</table>\n",
              "</div>"
            ],
            "text/plain": [
              "   question_id  poll_id  cycle  ... candidate_id       candidate_name   pct\n",
              "0       119743    64748   2020  ...        13256  Joseph R. Biden Jr.  54.0\n",
              "1       119743    64748   2020  ...        13289    Michael Bloomberg   1.0\n",
              "2       119743    64748   2020  ...        13345       Pete Buttigieg   1.0\n",
              "3       119743    64748   2020  ...        13310        Amy Klobuchar   1.0\n",
              "4       119743    64748   2020  ...        13257      Bernard Sanders  33.0\n",
              "5       119743    64748   2020  ...        13327           Tom Steyer   1.0\n",
              "6       119743    64748   2020  ...        13258     Elizabeth Warren   3.0\n",
              "7       119758    64753   2020  ...        13256  Joseph R. Biden Jr.  55.4\n",
              "8       119758    64753   2020  ...        13257      Bernard Sanders  26.4\n",
              "9       119758    64753   2020  ...        13343        Tulsi Gabbard   2.0\n",
              "\n",
              "[10 rows x 33 columns]"
            ]
          },
          "metadata": {
            "tags": []
          },
          "execution_count": 2
        }
      ]
    },
    {
      "cell_type": "code",
      "metadata": {
        "id": "OuJzODHJRted",
        "colab_type": "code",
        "outputId": "6304a87b-84de-4807-ecdf-754777a8a0a2",
        "colab": {
          "base_uri": "https://localhost:8080/",
          "height": 34
        }
      },
      "source": [
        "## Notice that the poll_id is repeated several times.\n",
        "## What does each row represent?\n",
        "len(poll_df['poll_id'].unique())"
      ],
      "execution_count": 3,
      "outputs": [
        {
          "output_type": "execute_result",
          "data": {
            "text/plain": [
              "1050"
            ]
          },
          "metadata": {
            "tags": []
          },
          "execution_count": 3
        }
      ]
    },
    {
      "cell_type": "code",
      "metadata": {
        "id": "JMzOyatcRtky",
        "colab_type": "code",
        "outputId": "6ed919a4-de84-45db-b348-ab5cc92a55ad",
        "cellView": "form",
        "colab": {
          "base_uri": "https://localhost:8080/",
          "height": 578
        }
      },
      "source": [
        "#@title What features/metrics are available in this dataset? Let's take a look at the columns. \n",
        "## What features/metrics are available in this dataset? Let's take a look at the columns. \n",
        "list(poll_df.columns)"
      ],
      "execution_count": 4,
      "outputs": [
        {
          "output_type": "execute_result",
          "data": {
            "text/plain": [
              "['question_id',\n",
              " 'poll_id',\n",
              " 'cycle',\n",
              " 'state',\n",
              " 'pollster_id',\n",
              " 'pollster',\n",
              " 'sponsor_ids',\n",
              " 'sponsors',\n",
              " 'display_name',\n",
              " 'pollster_rating_id',\n",
              " 'pollster_rating_name',\n",
              " 'fte_grade',\n",
              " 'sample_size',\n",
              " 'population',\n",
              " 'population_full',\n",
              " 'methodology',\n",
              " 'office_type',\n",
              " 'start_date',\n",
              " 'end_date',\n",
              " 'sponsor_candidate',\n",
              " 'internal',\n",
              " 'partisan',\n",
              " 'tracking',\n",
              " 'nationwide_batch',\n",
              " 'created_at',\n",
              " 'notes',\n",
              " 'url',\n",
              " 'stage',\n",
              " 'party',\n",
              " 'answer',\n",
              " 'candidate_id',\n",
              " 'candidate_name',\n",
              " 'pct']"
            ]
          },
          "metadata": {
            "tags": []
          },
          "execution_count": 4
        }
      ]
    },
    {
      "cell_type": "markdown",
      "metadata": {
        "id": "XsHB_9WHSREF",
        "colab_type": "text"
      },
      "source": [
        "## Discussion 6:\n",
        "\n",
        " >  ### Which metrics can provide us with the most useful insight?\n",
        " >  ### If you had to choose only one, which would it be? \n",
        " >  ### Do any of the columns above look unusual?\n",
        " \n",
        "\n",
        "\n"
      ]
    },
    {
      "cell_type": "code",
      "metadata": {
        "id": "c-DhfIYgRtyq",
        "colab_type": "code",
        "outputId": "b732f2c8-4986-4684-83c8-f8d5feed30a5",
        "cellView": "form",
        "colab": {
          "base_uri": "https://localhost:8080/",
          "height": 54
        }
      },
      "source": [
        "#@title Name of the Polls\n",
        "##Print out the names of the polls.\n",
        "\n",
        "list_polls = list(poll_df['pollster'].unique())\n",
        "\n",
        "print(list_polls)"
      ],
      "execution_count": 5,
      "outputs": [
        {
          "output_type": "stream",
          "text": [
            "['Mitchell Research & Communications', 'Ogden & Fry', 'Concord Public Opinion Partners', 'Point Blank Political', 'Data for Progress', 'SSRS', 'SurveyUSA', 'EPIC-MRA', 'Morning Consult', 'Ipsos', 'Emerson College', 'Remington Research Group', 'St. Pete Polls', 'OH Predictive Insights/MBQF', 'YouGov', 'Change Research', 'AtlasIntel', 'Swayable', 'Spry Strategies', 'Harris Insights & Analytics', 'Glengariff Group Inc.', 'Elucd', 'Suffolk University', 'IBD/TIPP', 'East Carolina University', 'Gonzales Research & Marketing Strategies Inc.', 'High Point University', 'Trafalgar Group', 'Marist College', 'Starboard Communications', 'Fox News/Beacon Research/Shaw & Co. Research', 'MassINC Polling Group', 'Univision/University of Houston/Latino Decisions/North Star Opinion Research', 'University of Texas at Tyler', 'Public Policy Polling', 'Magellan Strategies', 'Monmouth University', 'University of California, Berkeley', 'Clemson University', 'Meredith College', 'Christopher Newport University', 'Marquette University Law School', 'Saint Leo University', 'Americana Analytics', 'Florida Southern College', 'SoonerPoll.com', 'Mason-Dixon Polling & Research Inc.', 'Siena College', 'University of Massachusetts Lowell', 'Victory Research', 'Goucher College', 'Winthrop University', 'Evan Falchuk and Lou DiNatale', 'Elway Research', 'Tel Opinion Research', 'NBC News/Wall Street Journal', 'ABC News/Washington Post', 'Southern Illinois University', 'Public Policy Institute of California', 'Fairleigh Dickinson University (PublicMind)', 'Beacon Research', 'Zogby Interactive/JZ Analytics', 'WPA Intelligence (WPAi)', 'Cole Hargrave Snodgrass & Associates', 'SocialSphere', 'Landmark Communications', 'McLaughlin & Associates', 'Braun Research', 'American Research Group', 'University of New Hampshire', 'Capitol Weekly', 'Quinnipiac University', 'RKM Research and Communications Inc.', 'Hendrix College', 'St. Anselm', 'David Binder Research', 'Civiqs', 'Park Street Strategies', 'USC Dornsife/LA Times', 'YouGov Blue/Data for Progress', 'Franklin & Marshall College', 'Siena College/New York Times Upshot', 'Echelon Insights', 'Morningside College', 'Baldwin Wallace University/Oakland University/Ohio Northern University', 'Civis Analytics', 'Texas Lyceum', 'Pew Research Center', 'Neighborhood Research and Media', 'GQR Research (GQRR)', 'Florida Atlantic University', 'Tulchin Research', 'Myers Research/Strategic Services', 'Selzer & Co.', 'Patinkin Research Strategies', 'Sacred Heart University', 'University of North Florida', 'Climate Nexus', 'University of Iowa', 'Mellman Group', \"Maine People's Resource Center\", 'Montana State University Billings', 'Kaiser Family Foundation', 'Public Religion Research Institute', 'Optimus', 'Gravis Marketing', 'Susquehanna Polling & Research Inc.', 'Avalanche Strategy', 'Denno Research', 'Show Me Victories', 'Research America Inc.', 'Bendixen & Amandi International', 'Benenson Strategy Group', 'Ragnar Research Partners', 'TargetPoint/GQR Research', 'Claster Consulting', 'SurveyMonkey', 'Chism Strategies', 'Hampton University', 'Crantford Research', 'GBAO', 'We Ask America', 'Muhlenberg College', 'D-CYFOR', 'Bold Blue Campaigns', 'Praecones Analytica']\n"
          ],
          "name": "stdout"
        }
      ]
    },
    {
      "cell_type": "code",
      "metadata": {
        "id": "pUMD_ZiZR1o4",
        "colab_type": "code",
        "outputId": "7da8e596-3234-4a5a-d166-a2284f280b1d",
        "cellView": "form",
        "colab": {
          "base_uri": "https://localhost:8080/",
          "height": 241
        }
      },
      "source": [
        "#@title Display the unique values from some columns.\n",
        "## Display the unique values in each of the following columns:\n",
        "\n",
        "## fte_grade\n",
        "## methodology\n",
        "## office_type\n",
        "## stage\n",
        "\n",
        "\n",
        "for column_name in ['fte_grade','methodology','office_type','stage']:\n",
        "  list_returned = list(poll_df[column_name].unique())\n",
        "  print(\"Column Name: \", column_name)\n",
        "  print(list_returned)\n",
        "  print(\"---------------\")"
      ],
      "execution_count": 6,
      "outputs": [
        {
          "output_type": "stream",
          "text": [
            "Column Name:  fte_grade\n",
            "['D', 'B/C', nan, 'A/B', 'A', 'B+', 'B-', 'A-', 'C-', 'C+', 'C', 'C/D', 'A+', 'B', 'D-']\n",
            "---------------\n",
            "Column Name:  methodology\n",
            "['Automated Phone', 'Live Phone', 'Online/Text', 'Online', 'IVR/Online/Text', 'Text', 'IVR/Live Phone', 'IVR/Online', 'Live Phone/Online', 'IVR/Live Phone/Text', 'IVR/Text', 'Live Phone/Text', nan, 'Online/IVR']\n",
            "---------------\n",
            "Column Name:  office_type\n",
            "['U.S. President']\n",
            "---------------\n",
            "Column Name:  stage\n",
            "['primary']\n",
            "---------------\n"
          ],
          "name": "stdout"
        }
      ]
    },
    {
      "cell_type": "markdown",
      "metadata": {
        "id": "c17HEmHmSov7",
        "colab_type": "text"
      },
      "source": [
        "## Discussion 7 \n",
        "PCT is the percentage of participants that chose that answer for a given question and poll id. \n",
        "\n",
        "**What should pct sum up to? Why?**\n",
        "\n"
      ]
    },
    {
      "cell_type": "markdown",
      "metadata": {
        "id": "MktFynU6PcHe",
        "colab_type": "text"
      },
      "source": [
        "\n",
        "\n",
        "### What are our main columns of interest? \n",
        "\n",
        "1. Candidate name\n",
        "2. PCT\n",
        "3. Pollster Rating\n",
        "\n",
        "Let's begin by doing some initial visualization to get a feel for the data. Our goal is to create a function that takes a poll id and graphs the pct for each candidate.\n",
        "\n",
        "We'll do this step by step"
      ]
    },
    {
      "cell_type": "code",
      "metadata": {
        "id": "f3pXt-H_Qxdy",
        "colab_type": "code",
        "cellView": "form",
        "colab": {}
      },
      "source": [
        "#@title Code hidden.\n",
        "## Now let's take everything we learned and put it into a function that\n",
        "## we can call instead of having to replicate those same lines of code everytime\n",
        "## we'd like to graph the polling percentage.\n",
        "import pdb\n",
        "\n",
        "def graph_poll_id(argument_poll_id):\n",
        "  #pdb.set_trace()\n",
        "  #Only get the rows where the column poll_id matches the poll_id passed in as an argument.\n",
        "  series_poll = poll_df[poll_df[\"poll_id\"]==argument_poll_id]\n",
        "  \n",
        "  #Sort\n",
        "  sorted_series_poll = series_poll.sort_values(by=\"pct\")\n",
        "\n",
        "  \n",
        "  ## Second we will remove candidates who have zero percent from the graph.\n",
        "  ## We'll do this by filtering the data such that we only consider rows where\n",
        "  ## the percentage is greater than 0.\n",
        "\n",
        "  ## Let's also give each candidate a different color.\n",
        "  filtered_series_poll = sorted_series_poll[sorted_series_poll['pct'] > 0]\n",
        "\n",
        "  bars = filtered_series_poll['candidate_name']\n",
        "  y_pos = np.arange(len(bars))\n",
        "  performance = filtered_series_poll['pct'] \n",
        "\n",
        "  ## try changing the orders of the colors yourself!\n",
        "  \n",
        "  colors = 'rgbkymc'  #red, green, blue, black, etc.\n",
        "  plt.barh(y_pos, performance, color=colors,align='center', alpha=0.5)\n",
        "  plt.yticks(y_pos, bars)\n",
        "  plt.xlabel('PCT')\n",
        "  \n",
        "  \n",
        "  ## Third we will we will add some metadata (poll name, sample size, date) to give more context.\n",
        "  date_of_poll = list(filtered_series_poll['start_date'])[0]\n",
        "  poll_name = list(filtered_series_poll['pollster'])[0]\n",
        "  \n",
        "  sample_size =  list(filtered_series_poll['sample_size'])[0]\n",
        "  \n",
        "  title_of_graph = \"Polling Percentage \\n Poll Name: {} \\n Date of Poll: {} \\n Sample Size: {}\\n \".format(poll_name,date_of_poll,sample_size)\n",
        "  plt.title(title_of_graph)\n",
        "\n",
        "  plt.show()\n"
      ],
      "execution_count": 0,
      "outputs": []
    },
    {
      "cell_type": "code",
      "metadata": {
        "id": "TPNkjwoBQxnY",
        "colab_type": "code",
        "outputId": "aebc7422-91f6-419b-f5c3-eeae37d09e52",
        "cellView": "form",
        "colab": {
          "base_uri": "https://localhost:8080/",
          "height": 1000
        }
      },
      "source": [
        "#@title Show results for 5 A polls.\n",
        "\n",
        "list_A_minus_poll_ids = list(poll_df[poll_df['fte_grade'] == \"A-\"][\"poll_id\"].unique())\n",
        "\n",
        "print(list_A_minus_poll_ids)\n",
        "\n",
        "## To get the first 5 elements in a list: use splicing list[:5]\n",
        "for poll_id in list_A_minus_poll_ids[:5]:\n",
        "  graph_poll_id(poll_id)\n",
        "  \n"
      ],
      "execution_count": 8,
      "outputs": [
        {
          "output_type": "stream",
          "text": [
            "[64732, 64645, 64646, 64635, 64644, 64590, 64591, 64481, 64503, 64350, 63488, 63489, 63490, 63483, 63484, 63479, 63480, 63471, 63472, 63455, 63454, 63449, 63448, 63438, 63437, 63429, 63426, 63354, 63355, 63338, 63350, 63358, 63298, 63306, 63291, 63269, 63244, 63245, 63246, 63224, 63139, 63116, 63115, 63060, 62978, 62969, 62715, 62685, 62628, 62629, 62538, 62539, 62536, 62508, 62517, 62233, 61985, 60106, 60082, 59938, 59820, 59857, 59858, 59642, 59640, 59611, 59591, 59583, 59522, 59503, 59443, 59449, 58930, 58906, 58820, 58821, 58759, 58731, 58648, 58623, 58595, 58535, 58497, 58467, 58410, 58399, 58187, 58085, 58058, 57962, 57971, 57884, 57834, 57799, 57788, 57742, 57741, 57712, 57697, 57656, 57612, 57574, 57532, 57445, 57374, 57075]\n"
          ],
          "name": "stdout"
        },
        {
          "output_type": "display_data",
          "data": {
            "image/png": "[encoded data removed]",
            "text/plain": [
              "<Figure size 432x288 with 1 Axes>"
            ]
          },
          "metadata": {
            "tags": []
          }
        },
        {
          "output_type": "display_data",
          "data": {
            "image/png": "[encoded data removed]",
            "text/plain": [
              "<Figure size 432x288 with 1 Axes>"
            ]
          },
          "metadata": {
            "tags": []
          }
        },
        {
          "output_type": "display_data",
          "data": {
            "image/png": "[encoded data removed]",
            "text/plain": [
              "<Figure size 432x288 with 1 Axes>"
            ]
          },
          "metadata": {
            "tags": []
          }
        },
        {
          "output_type": "display_data",
          "data": {
            "image/png": "[encoded data removed]",
            "text/plain": [
              "<Figure size 432x288 with 1 Axes>"
            ]
          },
          "metadata": {
            "tags": []
          }
        },
        {
          "output_type": "display_data",
          "data": {
            "image/png": "[encoded data removed]",
            "text/plain": [
              "<Figure size 432x288 with 1 Axes>"
            ]
          },
          "metadata": {
            "tags": []
          }
        }
      ]
    },
    {
      "cell_type": "markdown",
      "metadata": {
        "id": "F_YCRtRtRLfm",
        "colab_type": "text"
      },
      "source": [
        "## Reminder: Polls are approximate! \n"
      ]
    },
    {
      "cell_type": "markdown",
      "metadata": {
        "id": "BcSOVakFRb54",
        "colab_type": "text"
      },
      "source": [
        "## First, let's look at who the candidates are more closely."
      ]
    },
    {
      "cell_type": "code",
      "metadata": {
        "id": "nwflCmnnRYLH",
        "colab_type": "code",
        "outputId": "3e2c12df-4545-444d-aae6-1ebdec9ff834",
        "cellView": "form",
        "colab": {
          "base_uri": "https://localhost:8080/",
          "height": 374
        }
      },
      "source": [
        "#@title Who are the candidates? How many candidates are there?\n",
        "## Who are the candidates? \n",
        "candidates_object = poll_df[\"candidate_name\"].unique()\n",
        "print(candidates_object)\n",
        "\n",
        "## How many candidates are there? \n",
        "len(candidates_object)\n"
      ],
      "execution_count": 9,
      "outputs": [
        {
          "output_type": "stream",
          "text": [
            "['Joseph R. Biden Jr.' 'Michael Bloomberg' 'Pete Buttigieg'\n",
            " 'Amy Klobuchar' 'Bernard Sanders' 'Tom Steyer' 'Elizabeth Warren'\n",
            " 'Tulsi Gabbard' 'Donald Trump' 'William F. Weld' 'Roque De La Fuente'\n",
            " 'Michael F. Bennet' 'Cory A. Booker' 'Julián Castro' 'John K. Delaney'\n",
            " 'Joe Sestak' 'Marianne Williamson' 'Joe Walsh' 'Deval Patrick'\n",
            " 'Andrew Yang' 'Mosie Boyd' 'Michael Ellinger' 'Mark Stewart Greenstein'\n",
            " 'Mike Pence' 'Kamala D. Harris' 'Robert Wells' 'Nathan Bloxham'\n",
            " \"Beto O'Rourke\" 'Steve Bullock' 'Wayne Messam' 'Kirsten E. Gillibrand'\n",
            " 'Mike Gravel' 'Eric Swalwell' 'Tim Ryan' 'Hillary Rodham Clinton'\n",
            " 'Bill de Blasio' 'Jay Robert Inslee' 'John Kerry' 'Mark Sanford'\n",
            " 'John Hickenlooper' 'Mitt Romney' 'John Richard Kasich' 'Michelle Obama'\n",
            " 'Seth Moulton' 'Terry R. McAuliffe' 'Nimrata R. Haley'\n",
            " 'Stacey Yvonne Abrams' 'Bob Corker' 'Marco Rubio' 'Larry Hogan'\n",
            " 'Howard Schultz' 'Barack Obama' 'Jeff Flake' 'Jamie Dimon'\n",
            " 'Dwayne Johnson' 'Margaret Wood Hassan' 'Michael Avenatti' 'Andrew Cuomo'\n",
            " 'Ben Sasse' 'Eric H. Holder' 'Sherrod Brown' 'Oprah Winfrey'\n",
            " 'Mark Zuckerberg' 'Tim Kaine' 'Eric Garcetti' 'Gavin Newsom' 'Ted Cruz'\n",
            " 'Nancy Pelosi' 'Gary Johnson' 'Joseph Kennedy III' 'Dennis J. Kucinich'\n",
            " 'Jia Lee' 'Robert C. Scott' 'Kyrsten Sinema' 'Mark R. Warner'\n",
            " 'Richard Neece Ojeda' 'Jeb Bush' 'Paul Ryan' 'Charles D. Baker']\n"
          ],
          "name": "stdout"
        },
        {
          "output_type": "execute_result",
          "data": {
            "text/plain": [
              "79"
            ]
          },
          "metadata": {
            "tags": []
          },
          "execution_count": 9
        }
      ]
    },
    {
      "cell_type": "markdown",
      "metadata": {
        "id": "6Mg9rO4CTzll",
        "colab_type": "text"
      },
      "source": [
        "## DISCUSSION 8\n",
        "\n",
        "###1.   Any unusual names there?\n",
        "###2.   Any names you haven't heard of?\n",
        "###3.   Any names that dropped out?\n",
        "###4.   Any names that do not belong to the Democratic party?\n",
        "\n",
        "Since the group of those that are not running is much larger than those that are still running, we will create a list of those candidates that are still running.\n",
        "We will only consider those candidates. \n",
        "\n",
        "As of March 6, 2020, there are only two candidates left in the primary. "
      ]
    },
    {
      "cell_type": "code",
      "metadata": {
        "id": "qB7n36zqUjtN",
        "colab_type": "code",
        "outputId": "f274af66-9889-4b6c-b41b-104f756814f8",
        "cellView": "form",
        "colab": {
          "base_uri": "https://localhost:8080/",
          "height": 51
        }
      },
      "source": [
        "#@title Candidates still left in the primary\n",
        "## \n",
        "list_candidates = list(candidates_object[:2])\n",
        "print(list_candidates)\n",
        "print(len(list_candidates))"
      ],
      "execution_count": 10,
      "outputs": [
        {
          "output_type": "stream",
          "text": [
            "['Joseph R. Biden Jr.', 'Michael Bloomberg']\n",
            "2\n"
          ],
          "name": "stdout"
        }
      ]
    },
    {
      "cell_type": "markdown",
      "metadata": {
        "id": "oB-V6RxzZ8MR",
        "colab_type": "text"
      },
      "source": [
        "# Let's get a polling average.\n",
        "\n",
        "Since there's a lot of polling data, let's focus on the polls from the first half of 2019. This means we will only consider polls conducted between Jan. 1 and June 30, 2019. \n",
        "\n",
        "Our goal is to match the following numbers [in this 538 chart](https://fivethirtyeight.com/features/what-weve-gleaned-about-the-democratic-primary-from-6-months-of-polls/). See the chart with the title: \"How the 2020 Democratic primary field looks six months in.\"\n"
      ]
    },
    {
      "cell_type": "code",
      "metadata": {
        "id": "f1Pi-oVzbvgy",
        "colab_type": "code",
        "outputId": "13210b04-c257-4c3e-d21a-ecf76cb52975",
        "cellView": "form",
        "colab": {
          "base_uri": "https://localhost:8080/",
          "height": 142
        }
      },
      "source": [
        "#@title Get Polling Average from November 1, 2019 to March 5, 2020\n",
        "## First look at the columns we'll use to filter the data. \n",
        "## Columns: 'start_date' and 'end_date'\n",
        "#print(poll_df['start_date'])\n",
        "\n",
        "#print(\"-------------------this is just to seperate the two print statements----------------\")\n",
        "\n",
        "## DIY: Print the end_date column \n",
        "## Remove next line\n",
        "#print(poll_df['end_date'])\n",
        "## Now for us to be able to do manipulations (comparisons) on this data\n",
        "## we need to format it first. We can use pandas to change the formatting.\n",
        "## The returned value of pd.datetime is a timestamp object for comparisons\n",
        "## i.e. its not just a string. \n",
        "\n",
        "## Create a new column called formatted_start_date use the format m/d/y\n",
        "\n",
        "poll_df['formatted_start_date'] = pd.to_datetime(poll_df['start_date'], format='%m/%d/%y')\n",
        "\n",
        "##DIY: create the formatted end date column\n",
        "## Remove next line\n",
        "poll_df['formatted_end_date'] = pd.to_datetime(poll_df['end_date'], format='%m/%d/%y')\n",
        "## See the difference? \n",
        "poll_df['formatted_start_date'] \n",
        "## Now our conditions are that the poll's start date must be \n",
        "## between 1/1/2019 and 6/30/2019. \n",
        "\n",
        "## Let's create a january 1st timestamp object with the same format\n",
        "## as \"formatted_start_date\" column.\n",
        "\n",
        "#jan_1st_date = pd.to_datetime(\"1/1/19\", format='%m/%d/%y')\n",
        "jan_1st_date = pd.to_datetime(\"11/1/19\", format='%m/%d/%y')\n",
        "#print(jan_1st_date)\n",
        "#print(type(jan_1st_date))\n",
        "## DIY: Create the june 30, 2019 timestamp same as above. \n",
        "## Remove next line\n",
        "#june_30th_date = pd.to_datetime(\"6/30/19\", format='%m/%d/%y')\n",
        "june_30th_date = pd.to_datetime(\"3/5/20\", format='%m/%d/%y')\n",
        "#print(june_30th_date)\n",
        "\n",
        "## Now we will create boolean conditions to filter our pandas dataframe\n",
        "\n",
        "#Anytime on or after 1/1/19\n",
        "condition_1 = (poll_df['formatted_start_date'] >= jan_1st_date)\n",
        "\n",
        "## DIY: Create the condition for anytime on or before 6/30/19\n",
        "# Remove next line\n",
        "condition_2 = (poll_df['formatted_start_date'] <= june_30th_date)\n",
        "\n",
        "#Only consider democratic candidates!\n",
        "condition_3 = (poll_df['party'] == \"DEM\")\n",
        "\n",
        "#Only consider those candidates that are still running.\n",
        "condition_4 = (poll_df['candidate_name'].isin(list_candidates))\n",
        "\n",
        "# Apply the conditions! F for filtered.\n",
        "f_poll_df = poll_df[condition_1 & condition_2 & condition_3 & condition_4]\n",
        "\n",
        "## print out the filtered data frame\n",
        "#print(f_poll_df)\n",
        "\n",
        "## Now we will only look at the two important columns: candidate_name and pct\n",
        "f_poll_df = f_poll_df[['candidate_name','pct']]\n",
        "\n",
        "## print it out now. which columns are showing?\n",
        "#print(f_poll_df)\n",
        "\n",
        "## Now group by candidate name\n",
        "grouped_poll_df = f_poll_df.groupby(\"candidate_name\")\n",
        "\n",
        "## For each group (candidate), take the mean.\n",
        "mean_groups = grouped_poll_df.mean()\n",
        "\n",
        "## Then sort the values by pct. \n",
        "mean_groups.sort_values(by=\"pct\",ascending=False)"
      ],
      "execution_count": 11,
      "outputs": [
        {
          "output_type": "execute_result",
          "data": {
            "text/html": [
              "<div>\n",
              "<style scoped>\n",
              "    .dataframe tbody tr th:only-of-type {\n",
              "        vertical-align: middle;\n",
              "    }\n",
              "\n",
              "    .dataframe tbody tr th {\n",
              "        vertical-align: top;\n",
              "    }\n",
              "\n",
              "    .dataframe thead th {\n",
              "        text-align: right;\n",
              "    }\n",
              "</style>\n",
              "<table border=\"1\" class=\"dataframe\">\n",
              "  <thead>\n",
              "    <tr style=\"text-align: right;\">\n",
              "      <th></th>\n",
              "      <th>pct</th>\n",
              "    </tr>\n",
              "    <tr>\n",
              "      <th>candidate_name</th>\n",
              "      <th></th>\n",
              "    </tr>\n",
              "  </thead>\n",
              "  <tbody>\n",
              "    <tr>\n",
              "      <th>Joseph R. Biden Jr.</th>\n",
              "      <td>24.961167</td>\n",
              "    </tr>\n",
              "    <tr>\n",
              "      <th>Michael Bloomberg</th>\n",
              "      <td>11.719238</td>\n",
              "    </tr>\n",
              "  </tbody>\n",
              "</table>\n",
              "</div>"
            ],
            "text/plain": [
              "                           pct\n",
              "candidate_name                \n",
              "Joseph R. Biden Jr.  24.961167\n",
              "Michael Bloomberg    11.719238"
            ]
          },
          "metadata": {
            "tags": []
          },
          "execution_count": 11
        }
      ]
    },
    {
      "cell_type": "markdown",
      "metadata": {
        "id": "QqbucFBAgxu6",
        "colab_type": "text"
      },
      "source": [
        "## What can we say now?\n",
        "\n",
        "We just added another layer of information by \n",
        "1. using the PCT\n",
        "2. averaging the PCTs\n",
        "\n",
        "Can we make our prediction even better? What factors can we further consider that would provide us with more information?\n",
        "\n"
      ]
    },
    {
      "cell_type": "markdown",
      "metadata": {
        "id": "-m2ehThtkFUN",
        "colab_type": "text"
      },
      "source": [
        "## What about a weighted average? \n",
        "\n",
        "\n",
        "### What is a weighted average?\n",
        "\n",
        "A weighted average or mean is one where each item being averaged is multiplied by a number (weight) based on the item's relative importance, rather than treating each item equally. The weights or weightings are the equivalent of having that many similar items with the same value involved in the average. The result is summed and the total is divided by the sum of the weights.\n",
        "\n",
        "#### What is the weight in an arithmetic average? \n",
        "An arithmetic average can be considered a special case where all values are valued (weighted) equally.\n",
        "\n",
        "\n",
        "\n"
      ]
    },
    {
      "cell_type": "code",
      "metadata": {
        "id": "cfDUB1mBWrsv",
        "colab_type": "code",
        "colab": {}
      },
      "source": [
        ""
      ],
      "execution_count": 0,
      "outputs": []
    },
    {
      "cell_type": "markdown",
      "metadata": {
        "id": "TiJLAOvXWsJA",
        "colab_type": "text"
      },
      "source": [
        "## Discussion 9\n",
        "Give an everyday example of a weighted average in real life. \n",
        "\n"
      ]
    },
    {
      "cell_type": "markdown",
      "metadata": {
        "id": "xeIW8HWq3z4h",
        "colab_type": "text"
      },
      "source": [
        "##Which weighting scheme will we use? \n",
        "\n",
        "Older data contains more random noise than recent data: You not only have the random noise from sampling error, but also from the changes in polls that build up over time. By reducing the weight of this less reliable data, we diminish that noise.\n",
        "\n",
        "If we keep reducing the weight of old data, though, we eventually hit a point where we start throwing out more useful information than random noise, and going any further starts to make our estimate worse. \n",
        "\n",
        "Weighting depends partially on how much the polls changes from day to day, but it also depends on how much you can tell about the underlying trends from your data. In general, the more your recent observations tell you about the underlying candidate favorability, or the more data you have, the more aggressively you can discount past results.\n",
        "\n"
      ]
    },
    {
      "cell_type": "code",
      "metadata": {
        "id": "NZeQ-I24xgLw",
        "colab_type": "code",
        "outputId": "7b1bda3e-59bc-463e-c007-2f98f2bd159d",
        "colab": {
          "base_uri": "https://localhost:8080/",
          "height": 541
        }
      },
      "source": [
        "\n",
        "f_poll_df = poll_df[condition_1 & condition_2 & condition_3 & condition_4]\n",
        "\n",
        "f_poll_df['step'] = june_30th_date - f_poll_df['formatted_start_date']\n",
        "\n",
        "\n",
        "f_poll_df = f_poll_df[['candidate_name','formatted_start_date','pct','step']]\n",
        "f_poll_df\n"
      ],
      "execution_count": 12,
      "outputs": [
        {
          "output_type": "stream",
          "text": [
            "/usr/local/lib/python3.6/dist-packages/ipykernel_launcher.py:4: SettingWithCopyWarning: \n",
            "A value is trying to be set on a copy of a slice from a DataFrame.\n",
            "Try using .loc[row_indexer,col_indexer] = value instead\n",
            "\n",
            "See the caveats in the documentation: http://pandas.pydata.org/pandas-docs/stable/user_guide/indexing.html#returning-a-view-versus-a-copy\n",
            "  after removing the cwd from sys.path.\n"
          ],
          "name": "stderr"
        },
        {
          "output_type": "execute_result",
          "data": {
            "text/html": [
              "<div>\n",
              "<style scoped>\n",
              "    .dataframe tbody tr th:only-of-type {\n",
              "        vertical-align: middle;\n",
              "    }\n",
              "\n",
              "    .dataframe tbody tr th {\n",
              "        vertical-align: top;\n",
              "    }\n",
              "\n",
              "    .dataframe thead th {\n",
              "        text-align: right;\n",
              "    }\n",
              "</style>\n",
              "<table border=\"1\" class=\"dataframe\">\n",
              "  <thead>\n",
              "    <tr style=\"text-align: right;\">\n",
              "      <th></th>\n",
              "      <th>candidate_name</th>\n",
              "      <th>formatted_start_date</th>\n",
              "      <th>pct</th>\n",
              "      <th>step</th>\n",
              "    </tr>\n",
              "  </thead>\n",
              "  <tbody>\n",
              "    <tr>\n",
              "      <th>23</th>\n",
              "      <td>Joseph R. Biden Jr.</td>\n",
              "      <td>2020-03-04</td>\n",
              "      <td>62.00</td>\n",
              "      <td>1 days</td>\n",
              "    </tr>\n",
              "    <tr>\n",
              "      <th>27</th>\n",
              "      <td>Michael Bloomberg</td>\n",
              "      <td>2020-03-04</td>\n",
              "      <td>0.00</td>\n",
              "      <td>1 days</td>\n",
              "    </tr>\n",
              "    <tr>\n",
              "      <th>28</th>\n",
              "      <td>Joseph R. Biden Jr.</td>\n",
              "      <td>2020-03-04</td>\n",
              "      <td>77.00</td>\n",
              "      <td>1 days</td>\n",
              "    </tr>\n",
              "    <tr>\n",
              "      <th>31</th>\n",
              "      <td>Joseph R. Biden Jr.</td>\n",
              "      <td>2020-03-04</td>\n",
              "      <td>52.00</td>\n",
              "      <td>1 days</td>\n",
              "    </tr>\n",
              "    <tr>\n",
              "      <th>34</th>\n",
              "      <td>Joseph R. Biden Jr.</td>\n",
              "      <td>2020-03-04</td>\n",
              "      <td>36.36</td>\n",
              "      <td>1 days</td>\n",
              "    </tr>\n",
              "    <tr>\n",
              "      <th>...</th>\n",
              "      <td>...</td>\n",
              "      <td>...</td>\n",
              "      <td>...</td>\n",
              "      <td>...</td>\n",
              "    </tr>\n",
              "    <tr>\n",
              "      <th>5115</th>\n",
              "      <td>Joseph R. Biden Jr.</td>\n",
              "      <td>2019-11-05</td>\n",
              "      <td>13.00</td>\n",
              "      <td>121 days</td>\n",
              "    </tr>\n",
              "    <tr>\n",
              "      <th>5128</th>\n",
              "      <td>Joseph R. Biden Jr.</td>\n",
              "      <td>2019-11-03</td>\n",
              "      <td>26.00</td>\n",
              "      <td>123 days</td>\n",
              "    </tr>\n",
              "    <tr>\n",
              "      <th>5162</th>\n",
              "      <td>Joseph R. Biden Jr.</td>\n",
              "      <td>2019-11-01</td>\n",
              "      <td>22.00</td>\n",
              "      <td>125 days</td>\n",
              "    </tr>\n",
              "    <tr>\n",
              "      <th>5181</th>\n",
              "      <td>Joseph R. Biden Jr.</td>\n",
              "      <td>2019-11-01</td>\n",
              "      <td>24.00</td>\n",
              "      <td>125 days</td>\n",
              "    </tr>\n",
              "    <tr>\n",
              "      <th>5294</th>\n",
              "      <td>Joseph R. Biden Jr.</td>\n",
              "      <td>2019-11-01</td>\n",
              "      <td>26.00</td>\n",
              "      <td>125 days</td>\n",
              "    </tr>\n",
              "  </tbody>\n",
              "</table>\n",
              "<p>821 rows × 4 columns</p>\n",
              "</div>"
            ],
            "text/plain": [
              "           candidate_name formatted_start_date    pct     step\n",
              "23    Joseph R. Biden Jr.           2020-03-04  62.00   1 days\n",
              "27      Michael Bloomberg           2020-03-04   0.00   1 days\n",
              "28    Joseph R. Biden Jr.           2020-03-04  77.00   1 days\n",
              "31    Joseph R. Biden Jr.           2020-03-04  52.00   1 days\n",
              "34    Joseph R. Biden Jr.           2020-03-04  36.36   1 days\n",
              "...                   ...                  ...    ...      ...\n",
              "5115  Joseph R. Biden Jr.           2019-11-05  13.00 121 days\n",
              "5128  Joseph R. Biden Jr.           2019-11-03  26.00 123 days\n",
              "5162  Joseph R. Biden Jr.           2019-11-01  22.00 125 days\n",
              "5181  Joseph R. Biden Jr.           2019-11-01  24.00 125 days\n",
              "5294  Joseph R. Biden Jr.           2019-11-01  26.00 125 days\n",
              "\n",
              "[821 rows x 4 columns]"
            ]
          },
          "metadata": {
            "tags": []
          },
          "execution_count": 12
        }
      ]
    },
    {
      "cell_type": "markdown",
      "metadata": {
        "id": "8PFc6RUyFyhC",
        "colab_type": "text"
      },
      "source": [
        "## Exponentially Decaying Weights \n",
        "\n",
        "\n",
        "We will use exponentially decaying weights to weight more recent polls heavier than older polls. We will use this exponential decay function: α(1−α)^t\n",
        "\n"
      ]
    },
    {
      "cell_type": "code",
      "metadata": {
        "id": "n8z-iDMxJ7L9",
        "colab_type": "code",
        "cellView": "form",
        "outputId": "0bf56c39-09cc-4b95-e825-ef8d1e916223",
        "colab": {
          "base_uri": "https://localhost:8080/",
          "height": 111
        }
      },
      "source": [
        "#@title Calculate Weighted Average\n",
        "\n",
        "#@title Define get weight function\n",
        "#We will use this exponential decay function: α(1−α)^t\n",
        "## source #https://www.itl.nist.gov/div898/handbook/pmc/section4/pmc431.htm\n",
        "import math\n",
        "def get_weight(a,t):\n",
        "  base = math.fabs(1-a)\n",
        "  val = a*math.pow(base,t)\n",
        "  #print(\"a: {}, t: {} , val:{}\".format(a,t,val))\n",
        "  return val\n",
        "\n",
        "\n",
        "# see https://www.itl.nist.gov/div898/handbook/pmc/section4/pmc431.htm\n",
        "sp = (june_30th_date - f_poll_df['formatted_start_date'])\n",
        "##To use the function above, we need to calculate the time change, or delta, which will be the \n",
        "##step size, or t. \n",
        "deltas = sp.apply(lambda x: x.days)\n",
        "\n",
        "##Try using t as is, and try using t/7 (a week of information, sort of normalization\n",
        "##How do your results change?\n",
        "weights = deltas.apply(lambda x: get_weight(a=1.9,t=x/7))\n",
        "f_poll_df['weights'] = weights\n",
        "f_poll_df['weights'] \n",
        "##Group by candidate and get the mean pct. Then sort the values.\n",
        "\n",
        "grouped = f_poll_df.groupby(\"candidate_name\")\n",
        "\n",
        "grouped.mean().sort_values(by=\"pct\",ascending=False)['pct']\n",
        "\n",
        "##Now let's calculate a weighted average. \n",
        "\n",
        "weighted_averages = {}\n",
        "\n",
        "\n",
        "for candidate in grouped.groups:\n",
        "  \n",
        "  group = grouped.get_group(candidate)\n",
        "  \n",
        "  weights_list = []\n",
        "  pct_list = []\n",
        "  for row_number in range(len(group)):\n",
        "    row = group.values[row_number]\n",
        "    \n",
        "    pct = row[2]\n",
        "    weight = row[4]\n",
        "    weights_list.append(weight)\n",
        "    pct_list.append(pct)\n",
        "    \n",
        "  \n",
        "  \n",
        "  weighted_average = np.average(a=pct_list,weights=weights_list)\n",
        " \n",
        "  ## Save the results in a dictionary for displaying later\n",
        "  weighted_averages[candidate] = weighted_average\n",
        "\n",
        "\n",
        "\n",
        "\n",
        "##Sort the results we got above, then print them out.\n",
        "sorted_w_avgs = sorted(weighted_averages.items(), key=lambda x: x[1], reverse=True)\n",
        "\n",
        "#for candidate, weighted_avg in sorted_w_avgs:\n",
        "#  print(candidate, weighted_avg)\n",
        "\n",
        "## Here they are again side by side:\n",
        "\n",
        "unweighted_averages = grouped.mean().sort_values(by=\"pct\",ascending=False)['pct']\n",
        "\n",
        "weighted_averages_series = pd.Series(dict(sorted_w_avgs))\n",
        "\n",
        "combined_df = pd.DataFrame(weighted_averages_series)\n",
        "combined_df.columns = [\"weighted_average\"]\n",
        "combined_df['unweighted_average'] = unweighted_averages\n",
        "combined_df"
      ],
      "execution_count": 13,
      "outputs": [
        {
          "output_type": "execute_result",
          "data": {
            "text/html": [
              "<div>\n",
              "<style scoped>\n",
              "    .dataframe tbody tr th:only-of-type {\n",
              "        vertical-align: middle;\n",
              "    }\n",
              "\n",
              "    .dataframe tbody tr th {\n",
              "        vertical-align: top;\n",
              "    }\n",
              "\n",
              "    .dataframe thead th {\n",
              "        text-align: right;\n",
              "    }\n",
              "</style>\n",
              "<table border=\"1\" class=\"dataframe\">\n",
              "  <thead>\n",
              "    <tr style=\"text-align: right;\">\n",
              "      <th></th>\n",
              "      <th>weighted_average</th>\n",
              "      <th>unweighted_average</th>\n",
              "    </tr>\n",
              "  </thead>\n",
              "  <tbody>\n",
              "    <tr>\n",
              "      <th>Joseph R. Biden Jr.</th>\n",
              "      <td>24.898504</td>\n",
              "      <td>24.961167</td>\n",
              "    </tr>\n",
              "    <tr>\n",
              "      <th>Michael Bloomberg</th>\n",
              "      <td>13.892695</td>\n",
              "      <td>11.719238</td>\n",
              "    </tr>\n",
              "  </tbody>\n",
              "</table>\n",
              "</div>"
            ],
            "text/plain": [
              "                     weighted_average  unweighted_average\n",
              "Joseph R. Biden Jr.         24.898504           24.961167\n",
              "Michael Bloomberg           13.892695           11.719238"
            ]
          },
          "metadata": {
            "tags": []
          },
          "execution_count": 13
        }
      ]
    },
    {
      "cell_type": "markdown",
      "metadata": {
        "id": "8a_piWSLVl-y",
        "colab_type": "text"
      },
      "source": [
        "\n",
        "## Next we will do a fun vizualization using a map of the United States.\n",
        "\n",
        "Oftentimes, it's easier to vizualize certain data using more than just a graph. For example, our polling data includes geographic information (state in which the participants were polled). \n",
        "\n",
        "One way to incorporate this information is by using a chloropleth. A chloropleth map is a map in which areas are shaded or patterned in proportion to the measurement of the statiscial variable being displayed on the map, such as population density or per-capita income.\n",
        "\n",
        "Choropleth maps provide an easy way to visualize how a measurement varies across a geographic area or show the level of variability within a region.\n",
        "\n",
        "##We will use a chloropleth map of the USA to vizualize the leader in each state (those that we have data for).\n",
        "\n"
      ]
    },
    {
      "cell_type": "code",
      "metadata": {
        "id": "F6NgrxUjWDtB",
        "colab_type": "code",
        "cellView": "form",
        "outputId": "4cd286e9-d56a-429b-9816-97156267ac23",
        "colab": {
          "base_uri": "https://localhost:8080/",
          "height": 1000
        }
      },
      "source": [
        "#@title Map of Each State's (Weighted Avg) Poll Leader\n",
        "## Try grouping by state on this same filtered data.\n",
        "\n",
        "## SOLUTION (will be hidden/removed)\n",
        "\n",
        "filtered_poll_df = poll_df[condition_1 & condition_2 & condition_3][['state','candidate_name','pct']]\n",
        "\n",
        "grouped_state_poll_df = filtered_poll_df.groupby([\"state\",'candidate_name'])\n",
        "\n",
        "\n",
        "mean_state_df = grouped_state_poll_df.mean().sort_values(by=\"pct\",ascending=False)\n",
        "\n",
        "\n",
        "##Let's print Bernie's average in Alabama.\n",
        "#print(\"Bernie's average in Alabama\", mean_state_df['pct']['Alabama']['Bernard Sanders'])\n",
        "\n",
        "## Your turn! Print Elizabeth Warren's average in Massachussetts and California.\n",
        "\n",
        "##SOLUTION (will be removed/hidden later)\n",
        "#print(mean_state_df['pct']['California']['Elizabeth Warren'])\n",
        "#print(mean_state_df['pct']['Massachusetts']['Elizabeth Warren'])\n",
        "\n",
        "\n",
        "dict_state = {}\n",
        "\n",
        "list_means = []\n",
        "for name, group in grouped_state_poll_df:\n",
        "  \n",
        "  \n",
        "    state,candidate = name\n",
        "    data = (candidate, group.mean()[0])\n",
        "    if state not in dict_state.keys():\n",
        "      dict_state[state] = [data]\n",
        "    else:\n",
        "      dict_state[state].append(data)\n",
        "\n",
        "\n",
        "\n",
        "us_state_abbrev = {\n",
        "    'Alabama': 'AL',\n",
        "    'Alaska': 'AK',\n",
        "    'Arizona': 'AZ',\n",
        "    'Arkansas': 'AR',\n",
        "    'California': 'CA',\n",
        "    'Colorado': 'CO',\n",
        "    'Connecticut': 'CT',\n",
        "    'Delaware': 'DE',\n",
        "    'District of Columbia': 'DC',\n",
        "    'Florida': 'FL',\n",
        "    'Georgia': 'GA',\n",
        "    'Hawaii': 'HI',\n",
        "    'Idaho': 'ID',\n",
        "    'Illinois': 'IL',\n",
        "    'Indiana': 'IN',\n",
        "    'Iowa': 'IA',\n",
        "    'Kansas': 'KS',\n",
        "    'Kentucky': 'KY',\n",
        "    'Louisiana': 'LA',\n",
        "    'Maine': 'ME',\n",
        "    'Maryland': 'MD',\n",
        "    'Massachusetts': 'MA',\n",
        "    'Michigan': 'MI',\n",
        "    'Minnesota': 'MN',\n",
        "    'Mississippi': 'MS',\n",
        "    'Missouri': 'MO',\n",
        "    'Montana': 'MT',\n",
        "    'Nebraska': 'NE',\n",
        "    'Nevada': 'NV',\n",
        "    'New Hampshire': 'NH',\n",
        "    'New Jersey': 'NJ',\n",
        "    'New Mexico': 'NM',\n",
        "    'New York': 'NY',\n",
        "    'North Carolina': 'NC',\n",
        "    'North Dakota': 'ND',\n",
        "    'Northern Mariana Islands':'MP',\n",
        "    'Ohio': 'OH',\n",
        "    'Oklahoma': 'OK',\n",
        "    'Oregon': 'OR',\n",
        "    'Palau': 'PW',\n",
        "    'Pennsylvania': 'PA',\n",
        "    'Puerto Rico': 'PR',\n",
        "    'Rhode Island': 'RI',\n",
        "    'South Carolina': 'SC',\n",
        "    'South Dakota': 'SD',\n",
        "    'Tennessee': 'TN',\n",
        "    'Texas': 'TX',\n",
        "    'Utah': 'UT',\n",
        "    'Vermont': 'VT',\n",
        "    'Virgin Islands': 'VI',\n",
        "    'Virginia': 'VA',\n",
        "    'Washington': 'WA',\n",
        "    'West Virginia': 'WV',\n",
        "    'Wisconsin': 'WI',\n",
        "    'Wyoming': 'WY',\n",
        "}\n",
        "## Let's get the leader in each state so we can plot it!\n",
        "list_of_rows = []\n",
        "data_max_states = {}\n",
        "\n",
        "for state in dict_state.keys():\n",
        "  list_state_means = dict_state[state]\n",
        "  max_for_state = max(list_state_means, key=lambda x:x[1])\n",
        "  candidate, pct = max_for_state\n",
        "  state_abbrev = us_state_abbrev[state]\n",
        "  \n",
        "  print(state_abbrev,candidate, pct)\n",
        "  row = [state_abbrev,candidate, pct]\n",
        "  list_of_rows.append(row)\n",
        "  #data_max_states[state] = max_for_state\n",
        "\n",
        "df_new = pd.DataFrame(list_of_rows,columns=[\"State\",\"Candidate\",\"PCT\"])\n",
        "\n",
        "\n",
        "\n",
        "#We will need to install Plotly first on our virtual environments. Use !pip install plotly\n",
        "!pip install plotly==4.1.0\n",
        "\n",
        "##Then load the module.\n",
        "import plotly.graph_objects as go\n",
        "\n",
        "##Create the figure object\n",
        "fig = go.Figure(data=go.Choropleth(\n",
        "    locations=df_new['State'], # Spatial coordinates\n",
        "    z = df_new['PCT'].astype(float), # Data to be color-coded\n",
        "    text = df_new[\"Candidate\"],\n",
        "    locationmode = 'USA-states', # set of locations match entries in `locations`\n",
        "    colorscale = 'Blues',\n",
        "    #mode=\"text\",\n",
        "    colorbar_title = \"PCT Percentage\",\n",
        "))\n",
        "\n",
        "fig.update_layout(\n",
        "    title_text = 'Leaders in Polls',\n",
        "    geo_scope='usa', # limite map scope to USA\n",
        ")\n",
        "\n",
        "\n",
        "##Show the figure. You can hover and zoom!\n",
        "fig.show()"
      ],
      "execution_count": 14,
      "outputs": [
        {
          "output_type": "stream",
          "text": [
            "AL Joseph R. Biden Jr. 44.65\n",
            "AZ Joseph R. Biden Jr. 45.0\n",
            "AR Joseph R. Biden Jr. 27.433333333333334\n",
            "CA Bernard Sanders 32.54318181818182\n",
            "CO Bernard Sanders 31.160000000000004\n",
            "CT Joseph R. Biden Jr. 33.0\n",
            "DE Joseph R. Biden Jr. 35.0\n",
            "FL Joseph R. Biden Jr. 33.345454545454544\n",
            "GA Joseph R. Biden Jr. 34.525\n",
            "IL Bernard Sanders 20.866666666666667\n",
            "IA Bernard Sanders 22.02727272727273\n",
            "ME Bernard Sanders 32.15\n",
            "MD Bernard Sanders 23.65\n",
            "MA Bernard Sanders 22.25\n",
            "MI Joseph R. Biden Jr. 30.8\n",
            "MN Bernard Sanders 25.75\n",
            "MS Joseph R. Biden Jr. 77.0\n",
            "MO Joseph R. Biden Jr. 44.903999999999996\n",
            "NV Bernard Sanders 25.416666666666668\n",
            "NH Bernard Sanders 24.81272727272727\n",
            "NJ Bernard Sanders 24.566666666666666\n",
            "NM Bernard Sanders 28.2\n",
            "NY Joseph R. Biden Jr. 22.333333333333332\n",
            "NC Joseph R. Biden Jr. 25.535\n",
            "OH Joseph R. Biden Jr. 32.1\n",
            "OK Joseph R. Biden Jr. 23.34\n",
            "PA Joseph R. Biden Jr. 24.433333333333334\n",
            "SC Joseph R. Biden Jr. 33.9\n",
            "TN Joseph R. Biden Jr. 31.1\n",
            "TX Bernard Sanders 25.960869565217394\n",
            "UT Bernard Sanders 26.404999999999998\n",
            "VT Bernard Sanders 52.13333333333333\n",
            "VA Joseph R. Biden Jr. 33.9625\n",
            "WA Bernard Sanders 31.6525\n",
            "WI Bernard Sanders 23.314285714285713\n",
            "Collecting plotly==4.1.0\n",
            "\u001b[?25l  Downloading https://files.pythonhosted.org/packages/63/2b/4ca10995bfbdefd65c4238f9a2d3fde33705d18dd50914dd13302ec1daf1/plotly-4.1.0-py2.py3-none-any.whl (7.1MB)\n",
            "\u001b[K     |████████████████████████████████| 7.1MB 2.8MB/s \n",
            "\u001b[?25hRequirement already satisfied: retrying>=1.3.3 in /usr/local/lib/python3.6/dist-packages (from plotly==4.1.0) (1.3.3)\n",
            "Requirement already satisfied: six in /usr/local/lib/python3.6/dist-packages (from plotly==4.1.0) (1.12.0)\n",
            "\u001b[31mERROR: cufflinks 0.17.0 has requirement plotly>=4.1.1, but you'll have plotly 4.1.0 which is incompatible.\u001b[0m\n",
            "Installing collected packages: plotly\n",
            "  Found existing installation: plotly 4.4.1\n",
            "    Uninstalling plotly-4.4.1:\n",
            "      Successfully uninstalled plotly-4.4.1\n",
            "Successfully installed plotly-4.1.0\n"
          ],
          "name": "stdout"
        },
        {
          "output_type": "display_data",
          "data": {
            "text/html": [
              "<html>\n",
              "<head><meta charset=\"utf-8\" /></head>\n",
              "<body>\n",
              "    <div>\n",
              "            <script src=\"https://cdnjs.cloudflare.com/ajax/libs/mathjax/2.7.5/MathJax.js?config=TeX-AMS-MML_SVG\"></script><script type=\"text/javascript\">if (window.MathJax) {MathJax.Hub.Config({SVG: {font: \"STIX-Web\"}});}</script>\n",
              "                <script type=\"text/javascript\">window.PlotlyConfig = {MathJaxConfig: 'local'};</script>\n",
              "        <script src=\"https://cdn.plot.ly/plotly-latest.min.js\"></script>    \n",
              "            <div id=\"d310b26b-d645-4080-b8d2-159e4ebdda7e\" class=\"plotly-graph-div\" style=\"height:525px; width:100%;\"></div>\n",
              "            <script type=\"text/javascript\">\n",
              "                \n",
              "                    window.PLOTLYENV=window.PLOTLYENV || {};\n",
              "                    \n",
              "                if (document.getElementById(\"d310b26b-d645-4080-b8d2-159e4ebdda7e\")) {\n",
              "                    Plotly.newPlot(\n",
              "                        'd310b26b-d645-4080-b8d2-159e4ebdda7e',\n",
              "                        [{\"colorbar\": {\"title\": {\"text\": \"PCT Percentage\"}}, \"colorscale\": [[0.0, \"rgb(247,251,255)\"], [0.125, \"rgb(222,235,247)\"], [0.25, \"rgb(198,219,239)\"], [0.375, \"rgb(158,202,225)\"], [0.5, \"rgb(107,174,214)\"], [0.625, \"rgb(66,146,198)\"], [0.75, \"rgb(33,113,181)\"], [0.875, \"rgb(8,81,156)\"], [1.0, \"rgb(8,48,107)\"]], \"locationmode\": \"USA-states\", \"locations\": [\"AL\", \"AZ\", \"AR\", \"CA\", \"CO\", \"CT\", \"DE\", \"FL\", \"GA\", \"IL\", \"IA\", \"ME\", \"MD\", \"MA\", \"MI\", \"MN\", \"MS\", \"MO\", \"NV\", \"NH\", \"NJ\", \"NM\", \"NY\", \"NC\", \"OH\", \"OK\", \"PA\", \"SC\", \"TN\", \"TX\", \"UT\", \"VT\", \"VA\", \"WA\", \"WI\"], \"text\": [\"Joseph R. Biden Jr.\", \"Joseph R. Biden Jr.\", \"Joseph R. Biden Jr.\", \"Bernard Sanders\", \"Bernard Sanders\", \"Joseph R. Biden Jr.\", \"Joseph R. Biden Jr.\", \"Joseph R. Biden Jr.\", \"Joseph R. Biden Jr.\", \"Bernard Sanders\", \"Bernard Sanders\", \"Bernard Sanders\", \"Bernard Sanders\", \"Bernard Sanders\", \"Joseph R. Biden Jr.\", \"Bernard Sanders\", \"Joseph R. Biden Jr.\", \"Joseph R. Biden Jr.\", \"Bernard Sanders\", \"Bernard Sanders\", \"Bernard Sanders\", \"Bernard Sanders\", \"Joseph R. Biden Jr.\", \"Joseph R. Biden Jr.\", \"Joseph R. Biden Jr.\", \"Joseph R. Biden Jr.\", \"Joseph R. Biden Jr.\", \"Joseph R. Biden Jr.\", \"Joseph R. Biden Jr.\", \"Bernard Sanders\", \"Bernard Sanders\", \"Bernard Sanders\", \"Joseph R. Biden Jr.\", \"Bernard Sanders\", \"Bernard Sanders\"], \"type\": \"choropleth\", \"z\": [44.65, 45.0, 27.433333333333334, 32.54318181818182, 31.160000000000004, 33.0, 35.0, 33.345454545454544, 34.525, 20.866666666666667, 22.02727272727273, 32.15, 23.65, 22.25, 30.8, 25.75, 77.0, 44.903999999999996, 25.416666666666668, 24.81272727272727, 24.566666666666666, 28.2, 22.333333333333332, 25.535, 32.1, 23.34, 24.433333333333334, 33.9, 31.1, 25.960869565217394, 26.404999999999998, 52.13333333333333, 33.9625, 31.6525, 23.314285714285713]}],\n",
              "                        {\"geo\": {\"scope\": \"usa\"}, \"template\": {\"data\": {\"bar\": [{\"error_x\": {\"color\": \"#2a3f5f\"}, \"error_y\": {\"color\": \"#2a3f5f\"}, \"marker\": {\"line\": {\"color\": \"#E5ECF6\", \"width\": 0.5}}, \"type\": \"bar\"}], \"barpolar\": [{\"marker\": {\"line\": {\"color\": \"#E5ECF6\", \"width\": 0.5}}, \"type\": \"barpolar\"}], \"carpet\": [{\"aaxis\": {\"endlinecolor\": \"#2a3f5f\", \"gridcolor\": \"white\", \"linecolor\": \"white\", \"minorgridcolor\": \"white\", \"startlinecolor\": \"#2a3f5f\"}, \"baxis\": {\"endlinecolor\": \"#2a3f5f\", \"gridcolor\": \"white\", \"linecolor\": \"white\", \"minorgridcolor\": \"white\", \"startlinecolor\": \"#2a3f5f\"}, \"type\": \"carpet\"}], \"choropleth\": [{\"colorbar\": {\"outlinewidth\": 0, \"ticks\": \"\"}, \"type\": \"choropleth\"}], \"contour\": [{\"colorbar\": {\"outlinewidth\": 0, \"ticks\": \"\"}, \"colorscale\": [[0.0, \"#0d0887\"], [0.1111111111111111, \"#46039f\"], [0.2222222222222222, \"#7201a8\"], [0.3333333333333333, \"#9c179e\"], [0.4444444444444444, \"#bd3786\"], [0.5555555555555556, \"#d8576b\"], [0.6666666666666666, \"#ed7953\"], [0.7777777777777778, \"#fb9f3a\"], [0.8888888888888888, \"#fdca26\"], [1.0, \"#f0f921\"]], \"type\": \"contour\"}], \"contourcarpet\": [{\"colorbar\": {\"outlinewidth\": 0, \"ticks\": \"\"}, \"type\": \"contourcarpet\"}], \"heatmap\": [{\"colorbar\": {\"outlinewidth\": 0, \"ticks\": \"\"}, \"colorscale\": [[0.0, \"#0d0887\"], [0.1111111111111111, \"#46039f\"], [0.2222222222222222, \"#7201a8\"], [0.3333333333333333, \"#9c179e\"], [0.4444444444444444, \"#bd3786\"], [0.5555555555555556, \"#d8576b\"], [0.6666666666666666, \"#ed7953\"], [0.7777777777777778, \"#fb9f3a\"], [0.8888888888888888, \"#fdca26\"], [1.0, \"#f0f921\"]], \"type\": \"heatmap\"}], \"heatmapgl\": [{\"colorbar\": {\"outlinewidth\": 0, \"ticks\": \"\"}, \"colorscale\": [[0.0, \"#0d0887\"], [0.1111111111111111, \"#46039f\"], [0.2222222222222222, \"#7201a8\"], [0.3333333333333333, \"#9c179e\"], [0.4444444444444444, \"#bd3786\"], [0.5555555555555556, \"#d8576b\"], [0.6666666666666666, \"#ed7953\"], [0.7777777777777778, \"#fb9f3a\"], [0.8888888888888888, \"#fdca26\"], [1.0, \"#f0f921\"]], \"type\": \"heatmapgl\"}], \"histogram\": [{\"marker\": {\"colorbar\": {\"outlinewidth\": 0, \"ticks\": \"\"}}, \"type\": \"histogram\"}], \"histogram2d\": [{\"colorbar\": {\"outlinewidth\": 0, \"ticks\": \"\"}, \"colorscale\": [[0.0, \"#0d0887\"], [0.1111111111111111, \"#46039f\"], [0.2222222222222222, \"#7201a8\"], [0.3333333333333333, \"#9c179e\"], [0.4444444444444444, \"#bd3786\"], [0.5555555555555556, \"#d8576b\"], [0.6666666666666666, \"#ed7953\"], [0.7777777777777778, \"#fb9f3a\"], [0.8888888888888888, \"#fdca26\"], [1.0, \"#f0f921\"]], \"type\": \"histogram2d\"}], \"histogram2dcontour\": [{\"colorbar\": {\"outlinewidth\": 0, \"ticks\": \"\"}, \"colorscale\": [[0.0, \"#0d0887\"], [0.1111111111111111, \"#46039f\"], [0.2222222222222222, \"#7201a8\"], [0.3333333333333333, \"#9c179e\"], [0.4444444444444444, \"#bd3786\"], [0.5555555555555556, \"#d8576b\"], [0.6666666666666666, \"#ed7953\"], [0.7777777777777778, \"#fb9f3a\"], [0.8888888888888888, \"#fdca26\"], [1.0, \"#f0f921\"]], \"type\": \"histogram2dcontour\"}], \"mesh3d\": [{\"colorbar\": {\"outlinewidth\": 0, \"ticks\": \"\"}, \"type\": \"mesh3d\"}], \"parcoords\": [{\"line\": {\"colorbar\": {\"outlinewidth\": 0, \"ticks\": \"\"}}, \"type\": \"parcoords\"}], \"scatter\": [{\"marker\": {\"colorbar\": {\"outlinewidth\": 0, \"ticks\": \"\"}}, \"type\": \"scatter\"}], \"scatter3d\": [{\"line\": {\"colorbar\": {\"outlinewidth\": 0, \"ticks\": \"\"}}, \"marker\": {\"colorbar\": {\"outlinewidth\": 0, \"ticks\": \"\"}}, \"type\": \"scatter3d\"}], \"scattercarpet\": [{\"marker\": {\"colorbar\": {\"outlinewidth\": 0, \"ticks\": \"\"}}, \"type\": \"scattercarpet\"}], \"scattergeo\": [{\"marker\": {\"colorbar\": {\"outlinewidth\": 0, \"ticks\": \"\"}}, \"type\": \"scattergeo\"}], \"scattergl\": [{\"marker\": {\"colorbar\": {\"outlinewidth\": 0, \"ticks\": \"\"}}, \"type\": \"scattergl\"}], \"scattermapbox\": [{\"marker\": {\"colorbar\": {\"outlinewidth\": 0, \"ticks\": \"\"}}, \"type\": \"scattermapbox\"}], \"scatterpolar\": [{\"marker\": {\"colorbar\": {\"outlinewidth\": 0, \"ticks\": \"\"}}, \"type\": \"scatterpolar\"}], \"scatterpolargl\": [{\"marker\": {\"colorbar\": {\"outlinewidth\": 0, \"ticks\": \"\"}}, \"type\": \"scatterpolargl\"}], \"scatterternary\": [{\"marker\": {\"colorbar\": {\"outlinewidth\": 0, \"ticks\": \"\"}}, \"type\": \"scatterternary\"}], \"surface\": [{\"colorbar\": {\"outlinewidth\": 0, \"ticks\": \"\"}, \"colorscale\": [[0.0, \"#0d0887\"], [0.1111111111111111, \"#46039f\"], [0.2222222222222222, \"#7201a8\"], [0.3333333333333333, \"#9c179e\"], [0.4444444444444444, \"#bd3786\"], [0.5555555555555556, \"#d8576b\"], [0.6666666666666666, \"#ed7953\"], [0.7777777777777778, \"#fb9f3a\"], [0.8888888888888888, \"#fdca26\"], [1.0, \"#f0f921\"]], \"type\": \"surface\"}], \"table\": [{\"cells\": {\"fill\": {\"color\": \"#EBF0F8\"}, \"line\": {\"color\": \"white\"}}, \"header\": {\"fill\": {\"color\": \"#C8D4E3\"}, \"line\": {\"color\": \"white\"}}, \"type\": \"table\"}]}, \"layout\": {\"annotationdefaults\": {\"arrowcolor\": \"#2a3f5f\", \"arrowhead\": 0, \"arrowwidth\": 1}, \"colorscale\": {\"diverging\": [[0, \"#8e0152\"], [0.1, \"#c51b7d\"], [0.2, \"#de77ae\"], [0.3, \"#f1b6da\"], [0.4, \"#fde0ef\"], [0.5, \"#f7f7f7\"], [0.6, \"#e6f5d0\"], [0.7, \"#b8e186\"], [0.8, \"#7fbc41\"], [0.9, \"#4d9221\"], [1, \"#276419\"]], \"sequential\": [[0.0, \"#0d0887\"], [0.1111111111111111, \"#46039f\"], [0.2222222222222222, \"#7201a8\"], [0.3333333333333333, \"#9c179e\"], [0.4444444444444444, \"#bd3786\"], [0.5555555555555556, \"#d8576b\"], [0.6666666666666666, \"#ed7953\"], [0.7777777777777778, \"#fb9f3a\"], [0.8888888888888888, \"#fdca26\"], [1.0, \"#f0f921\"]], \"sequentialminus\": [[0.0, \"#0d0887\"], [0.1111111111111111, \"#46039f\"], [0.2222222222222222, \"#7201a8\"], [0.3333333333333333, \"#9c179e\"], [0.4444444444444444, \"#bd3786\"], [0.5555555555555556, \"#d8576b\"], [0.6666666666666666, \"#ed7953\"], [0.7777777777777778, \"#fb9f3a\"], [0.8888888888888888, \"#fdca26\"], [1.0, \"#f0f921\"]]}, \"colorway\": [\"#636efa\", \"#EF553B\", \"#00cc96\", \"#ab63fa\", \"#FFA15A\", \"#19d3f3\", \"#FF6692\", \"#B6E880\", \"#FF97FF\", \"#FECB52\"], \"font\": {\"color\": \"#2a3f5f\"}, \"geo\": {\"bgcolor\": \"white\", \"lakecolor\": \"white\", \"landcolor\": \"#E5ECF6\", \"showlakes\": true, \"showland\": true, \"subunitcolor\": \"white\"}, \"hoverlabel\": {\"align\": \"left\"}, \"hovermode\": \"closest\", \"mapbox\": {\"style\": \"light\"}, \"paper_bgcolor\": \"white\", \"plot_bgcolor\": \"#E5ECF6\", \"polar\": {\"angularaxis\": {\"gridcolor\": \"white\", \"linecolor\": \"white\", \"ticks\": \"\"}, \"bgcolor\": \"#E5ECF6\", \"radialaxis\": {\"gridcolor\": \"white\", \"linecolor\": \"white\", \"ticks\": \"\"}}, \"scene\": {\"xaxis\": {\"backgroundcolor\": \"#E5ECF6\", \"gridcolor\": \"white\", \"gridwidth\": 2, \"linecolor\": \"white\", \"showbackground\": true, \"ticks\": \"\", \"zerolinecolor\": \"white\"}, \"yaxis\": {\"backgroundcolor\": \"#E5ECF6\", \"gridcolor\": \"white\", \"gridwidth\": 2, \"linecolor\": \"white\", \"showbackground\": true, \"ticks\": \"\", \"zerolinecolor\": \"white\"}, \"zaxis\": {\"backgroundcolor\": \"#E5ECF6\", \"gridcolor\": \"white\", \"gridwidth\": 2, \"linecolor\": \"white\", \"showbackground\": true, \"ticks\": \"\", \"zerolinecolor\": \"white\"}}, \"shapedefaults\": {\"line\": {\"color\": \"#2a3f5f\"}}, \"ternary\": {\"aaxis\": {\"gridcolor\": \"white\", \"linecolor\": \"white\", \"ticks\": \"\"}, \"baxis\": {\"gridcolor\": \"white\", \"linecolor\": \"white\", \"ticks\": \"\"}, \"bgcolor\": \"#E5ECF6\", \"caxis\": {\"gridcolor\": \"white\", \"linecolor\": \"white\", \"ticks\": \"\"}}, \"title\": {\"x\": 0.05}, \"xaxis\": {\"automargin\": true, \"gridcolor\": \"white\", \"linecolor\": \"white\", \"ticks\": \"\", \"zerolinecolor\": \"white\", \"zerolinewidth\": 2}, \"yaxis\": {\"automargin\": true, \"gridcolor\": \"white\", \"linecolor\": \"white\", \"ticks\": \"\", \"zerolinecolor\": \"white\", \"zerolinewidth\": 2}}}, \"title\": {\"text\": \"Leaders in Polls\"}},\n",
              "                        {\"responsive\": true}\n",
              "                    ).then(function(){\n",
              "                            \n",
              "var gd = document.getElementById('d310b26b-d645-4080-b8d2-159e4ebdda7e');\n",
              "var x = new MutationObserver(function (mutations, observer) {{\n",
              "        var display = window.getComputedStyle(gd).display;\n",
              "        if (!display || display === 'none') {{\n",
              "            console.log([gd, 'removed!']);\n",
              "            Plotly.purge(gd);\n",
              "            observer.disconnect();\n",
              "        }}\n",
              "}});\n",
              "\n",
              "// Listen for the removal of the full notebook cells\n",
              "var notebookContainer = gd.closest('#notebook-container');\n",
              "if (notebookContainer) {{\n",
              "    x.observe(notebookContainer, {childList: true});\n",
              "}}\n",
              "\n",
              "// Listen for the clearing of the current output cell\n",
              "var outputEl = gd.closest('.output');\n",
              "if (outputEl) {{\n",
              "    x.observe(outputEl, {childList: true});\n",
              "}}\n",
              "\n",
              "                        })\n",
              "                };\n",
              "                \n",
              "            </script>\n",
              "        </div>\n",
              "</body>\n",
              "</html>"
            ]
          },
          "metadata": {
            "tags": []
          }
        }
      ]
    },
    {
      "cell_type": "markdown",
      "metadata": {
        "id": "foLzSmyOYKOL",
        "colab_type": "text"
      },
      "source": [
        "# PART 2: DEBATE ANALYSIS \n",
        "\n",
        "##In this section we will see how the Democratic debates afftected the polling averages! \n",
        "\n",
        "#18.1 million ...\n",
        "people watched the second round of the Democratic debate across NBC, MSNBC, and Telemundo, The Los Angeles Times reported, making it the MOST WATCHED Democratic debate in television history — and even more people tuned in to online livestreams. The previous viewership record for a Democratic debate took place in October 2015, when five Democratic candidates faced off as 15.4 million people watched. On Thursday night, there were twice as many candidates, and more viewers than ever before. [source](https://www.bustle.com/p/how-many-people-watched-the-democratic-debate-night-two-set-a-record-18157398)\n",
        "\n",
        "![](https://raw.githubusercontent.com/stat10/DS10-Case-Studies/master/Images/dem_debate_warren_booker.jpeg)\n",
        "\n",
        "\n",
        "\n",
        "The goal for this section is to use what we learned above to calculate a weighted average before and after the debate. Then we will calculate the net change between the those time periods to see how the debate might have impacted a candidates favorability in the polls. \n",
        "\n"
      ]
    },
    {
      "cell_type": "markdown",
      "metadata": {
        "id": "ZJK4_roBj-kr",
        "colab_type": "text"
      },
      "source": [
        "### For this section we will use FiveThirtyEight's pre-calculated weights for our weighted average. In addition, we will only consider a certain set of polls. \n",
        "\n",
        "According to Nate Silver:\n",
        "\n",
        ">\"So far, there have been five national polls conducted entirely after the debate that allow for a direct comparison to an earlier poll by the same pollster. These are the polls from Quinnipiac University, Ipsos, Morning Consult,1 YouGov and HarrisX.2 \n",
        "\n",
        "> I weighted the polls based on sample size and the pollster’s rating, as we do for our Trump approval tracker and in our election models.\"\n",
        "\n",
        "See below for the polls and their associated weights.\n",
        "\n",
        "\n",
        "Polls included in the weighted average are Quinnipiac (weight 1.40), Ipsos (1.49),  Morning Consult (2.13), \n",
        "HarrisX (1.16) and YouGov (0.94).  Only candidates who participated in the debates are listed in the table.\n",
        "\n",
        "Note: The second debate occured on July 30 and 31st.\n",
        "\n",
        "\n",
        "\n"
      ]
    },
    {
      "cell_type": "code",
      "metadata": {
        "id": "woD533T2fDva",
        "colab_type": "code",
        "cellView": "form",
        "outputId": "c7bea85a-cd17-4952-d07f-270ce9f68b59",
        "colab": {
          "base_uri": "https://localhost:8080/",
          "height": 766
        }
      },
      "source": [
        "#@title Pre (1 week) and Post (1 week) Debate (2/25/2020) Analysis\n",
        "weights_dict = {\n",
        "    'Quinnipiac University': 1.40,\n",
        "    \"Ipsos\": 1.49,\n",
        "    \"Morning Consult\": 2.13,\n",
        "    'HarrisX': 1.16,\n",
        "    \"YouGov\": 0.94\n",
        "  \n",
        "}\n",
        "\n",
        "candidates_participated = ['Joseph R. Biden Jr.',\n",
        " 'Bernard Sanders',\n",
        " 'Elizabeth Warren',\n",
        " '#Kamala D. Harris',\n",
        " 'Pete Buttigieg',\n",
        " #\"Beto O'Rourke\",\n",
        " #'Cory A. Booker',\n",
        " #'Julián Castro',\n",
        " 'Amy Klobuchar']\n",
        " #'Kirsten E. Gillibrand',\n",
        " #'John K. Delaney',\n",
        " #'Tulsi Gabbard',\n",
        " #'John Hickenlooper',\n",
        " #'Jay Robert Inslee',\n",
        " #'Marianne Williamson',\n",
        " #'Andrew Yang',\n",
        " #'Wayne Messam', #didn't make it.\n",
        " #'Seth Moulton',#didn't make it.\n",
        " #'Tim Ryan',\n",
        " #'Michael F. Bennet',\n",
        " #'Steve Bullock',\n",
        " #'Bill de Blasio'\n",
        " #'Joe Sestak',#didn't make it.\n",
        " #'Tom Steyer'#didn't make it.\n",
        "                  #  ]\n",
        "\n",
        "## Remind ourselves of all the pollsters in our original dataset.\n",
        "#poll_df['pollster'].unique()\n",
        "\n",
        "\n",
        "\n",
        "##We'll reuse the code above for a more precise investigation of the pcts.\n",
        "\n",
        "def get_weighted_averages(f_poll_df):\n",
        "  f_poll_df = f_poll_df[['candidate_name','pct','pollster']]\n",
        "  grouped = f_poll_df.groupby(\"candidate_name\")\n",
        "  weighted_averages = {}\n",
        "\n",
        "\n",
        "  for candidate in grouped.groups:\n",
        "   \n",
        "    group = grouped.get_group(candidate)\n",
        "    #print(candidate,group)\n",
        "    weights_list = []\n",
        "    pct_list = []\n",
        "    for row_number in range(len(group)):\n",
        "      row = group.values[row_number]\n",
        "      \n",
        "      pct = row[1]\n",
        "      pollster = row[2]\n",
        "      weight = weights_dict[pollster]\n",
        "      weights_list.append(weight)\n",
        "      pct_list.append(pct)\n",
        "\n",
        "\n",
        "\n",
        "    weighted_average = np.average(a=pct_list,weights=weights_list)\n",
        "    #np.mean(np.multiply(pct_list,weights_list))\n",
        "    #weighted_average = np.mean(np.multiply(pct_list,weights_list))\n",
        "    \n",
        "\n",
        "    ## Save the results in a dictionary for displaying later\n",
        "    weighted_averages[candidate] = weighted_average\n",
        "\n",
        "\n",
        "  sorted_w_avgs = sorted(weighted_averages.items(), key=lambda x: x[1], reverse=True)\n",
        "\n",
        "  for candidate, weighted_avg in sorted_w_avgs:\n",
        "    print(candidate, weighted_avg)\n",
        "  return sorted_w_avgs\n",
        "\n",
        "\n",
        "\n",
        "\n",
        "\n",
        "\n",
        "  #### Recycling and modularizing the code from before. \n",
        "\n",
        "##We'll pass the following as arguments to our function:\n",
        "## - entire dataframe (this contains our polling data)\n",
        "## - debate num (as of now only 2 debates have occured (6/26,27 and 7/30,31))\n",
        "from datetime import datetime, timedelta\n",
        "\n",
        "\n",
        "def before_after_debate(poll_df,debate_num):\n",
        "  \n",
        "  ## Now we will create boolean conditions to filter our pandas dataframe\n",
        "  if debate_num == 1:\n",
        "    print(\"Will analyze debate ONE \\n\")\n",
        "    night_one = pd.to_datetime(\"6/26/19\", format='%m/%d/%y')\n",
        "    night_two = pd.to_datetime(\"6/27/19\", format='%m/%d/%y')\n",
        "  elif debate_num == 2:\n",
        "    print(\"Will analyze debate TWO \\n\")\n",
        "    night_one = pd.to_datetime(\"7/30/19\", format='%m/%d/%y')\n",
        "    night_two = pd.to_datetime(\"7/31/19\", format='%m/%d/%y')\n",
        "    days_to_subtract = 7\n",
        "    timeframe_before = night_one - timedelta(days=days_to_subtract)\n",
        "    \n",
        "  elif debate_num == 3:\n",
        "    \n",
        "    night_one = pd.to_datetime(\"2/25/20\", format='%m/%d/%y')\n",
        "    night_two = pd.to_datetime(\"2/25/20\", format='%m/%d/%y')\n",
        "    days_to_subtract = 7\n",
        "    timeframe_before = night_one - timedelta(days=days_to_subtract)\n",
        "  \n",
        "  #aug_7_date = pd.to_datetime(\"8/07/19\", format='%m/%d/%y')\n",
        "  \n",
        "  #condition_before = (poll_df['formatted_start_date'] < night_one)\n",
        "  condition_before = (poll_df['formatted_start_date'] < night_one) & (poll_df['formatted_start_date'] > timeframe_before)\n",
        "  \n",
        "  \n",
        "  ##to copy Nate Silver, do only until august 7th\n",
        "  #condition_after = (poll_df['formatted_start_date'] > night_two) & (poll_df['formatted_end_date'] < aug_7_date) \n",
        "  #condition_after = (poll_df['formatted_start_date'] >= night_one) & (poll_df['formatted_end_date'] <= aug_7_date) \n",
        "  condition_after = (poll_df['formatted_start_date'] >= night_one) & (poll_df['formatted_end_date'] <= pd.to_datetime(\"3/1/20\", format='%m/%d/%y')) \n",
        "  \n",
        "  ## The pollster is one of the 5 listed above.\n",
        "  condition_1 = (poll_df['pollster'].isin(weights_dict.keys()))\n",
        " \n",
        "  #Only consider democratic candidates!\n",
        "  condition_2 = (poll_df['party'] == \"DEM\")\n",
        "\n",
        "  #Only consider those candidates that are still running.\n",
        "  condition_3 = (poll_df['candidate_name'].isin(candidates_participated))\n",
        "  print(candidates_participated)\n",
        "  \n",
        "  # Apply the conditions! F for filtered.\n",
        "\n",
        "  common_conditions = (condition_1 & condition_2 & condition_3)\n",
        "\n",
        "  data_before =  poll_df[common_conditions & condition_before]\n",
        "  data_after =  poll_df[common_conditions & condition_after]\n",
        "  \n",
        "  ## Perform some basic checks on our filtered datasets. \n",
        "  ## check the columns \n",
        "  #print(data_before.head(n=5))\n",
        "  #print(data_after.head(n=5))\n",
        "  \n",
        "  ###\n",
        "  #print(data_before['formatted_start_date'].unique())\n",
        "  \n",
        "  ##check the number of rows\n",
        "  #print(len(data_before))\n",
        "  #print(len(data_after))\n",
        "  ##check that we only use the specified pollsters\n",
        "  #print(data_before[\"pollster\"].unique())\n",
        "  #print(data_after[\"pollster\"].unique())\n",
        "  \n",
        "  sorted_before_w_avgs = get_weighted_averages(data_before)\n",
        "  #print(\"-----------\\n\\n----------\") #for seperation \n",
        "  sorted_after_w_avgs = get_weighted_averages(data_after)\n",
        "\n",
        "  return sorted_before_w_avgs, sorted_after_w_avgs\n",
        "\n",
        "\n",
        "\n",
        "\n",
        "\n",
        "## Call our function and save the results so we can use them later!\n",
        "\n",
        "sorted_before_w_avgs, sorted_after_w_avgs = before_after_debate(poll_df, 3)\n",
        "\n",
        "\n",
        "\n",
        "#sorted_before_w_avgs.keys ==sorted_after_w_avgs.keys\n",
        "# we need to create 3 seperate lists for ordering purposes so we cn presnet the data accurately.\n",
        "\n",
        "\n",
        "\n",
        "\n",
        "print(len(sorted_before_w_avgs)==len(sorted_after_w_avgs))\n",
        "cand_names = []\n",
        "\n",
        "before_pcts = []\n",
        "\n",
        "after_pcts = []\n",
        "\n",
        "net_changes = []\n",
        "\n",
        "for i in range(len(sorted_before_w_avgs)):\n",
        "  tuple_before = sorted_before_w_avgs[i]\n",
        "  cand_b = tuple_before[0]\n",
        "  \n",
        "  pct_before = tuple_before[1]\n",
        "  \n",
        "  ##look for the pct after the debate for that candidate\n",
        "  pct_after = [tuple_a[1] for tuple_a in sorted_after_w_avgs if tuple_a[0] == cand_b][0]\n",
        "  \n",
        "  net_change = pct_after - pct_before\n",
        "  #print(cand_b, pct_before, pct_after, net_change)\n",
        "  cand_names.append(cand_b)\n",
        "  before_pcts.append(pct_before)\n",
        "  after_pcts.append(pct_after)\n",
        "  net_changes.append(net_change)\n",
        "\n",
        "\n",
        "\n",
        "\n",
        "## Load the python module with table generating functions\n",
        "import plotly.graph_objects as go\n",
        "\n",
        "#fig = go.Figure(data=[go.Table(header=dict(values=['Candidate Name', 'Before Debate','After Debate','Net Change']),\n",
        "#                 cells=dict(values=[cand_names, before_pcts, after_pcts, net_changes]))\n",
        "#                     ])\n",
        "#fig.show()\n",
        "\n",
        "## Limit the pcts and net changes to 2 decimal points only.\n",
        "\n",
        "##the round function takes as an argument the element to be rounded and the number of digits to round to. \n",
        "## in our case we'd like to keep only 2 decimal points. \n",
        "\n",
        "rounded_before_pcts = [round(element,2) for element in before_pcts]\n",
        "rounded_after_pcts = [round(element,2) for element in after_pcts]\n",
        "rounded_net_changes = [round(element,2) for element in net_changes]\n",
        "\n",
        "##TBD \n",
        "##Could be DIY \n",
        "\n",
        "#Decimal Red, Green, Blue, and Opacity Color Codes\n",
        "#This page demonstrates the decimal representation of color of the form rgba(R,G,B,a), where R, G, and B are the decimal \n",
        "#values for the red, green, and blue values of the color on the range 0 to 255 and a is the opacity of the color (a = 0 = transparent; a = 1 = opaque). \n",
        "\n",
        "#https://www.december.com/html/spec/colorrgbadec.html\n",
        "\n",
        "##Use the link above and try changing the colors and the opacity! \n",
        "##DIY\n",
        "\n",
        "fig = go.Figure(data=[go.Table(header=dict(values=['Candidate Name', 'Before Debate','After Debate','Net Change']),\n",
        "                 cells=dict(values = [cand_names, rounded_before_pcts, rounded_after_pcts, rounded_net_changes],\n",
        "                           fill = dict(color=['rgb(245,245,245)',#unique color for the first column\n",
        "                                              'rgb(245,245,245)',#unique color for the second column\n",
        "                                              'rgb(245,245,245)',#unique color for the third column\n",
        "                                             ['rgba(0,250,0, 0.3)' if val>=0 else 'rgba(250,0,0, 0.3)' for val in rounded_net_changes] \n",
        "                                             \n",
        "                                             \n",
        "                                             ]\n",
        "                               #the cells in the second column colored with green or red, according to their values\n",
        "                                         ))\n",
        "                              \n",
        "                              \n",
        "                              )\n",
        "                     ])\n",
        "fig.show()\n"
      ],
      "execution_count": 15,
      "outputs": [
        {
          "output_type": "stream",
          "text": [
            "['Joseph R. Biden Jr.', 'Bernard Sanders', 'Elizabeth Warren', '#Kamala D. Harris', 'Pete Buttigieg', 'Amy Klobuchar']\n",
            "Bernard Sanders 28.24950298210736\n",
            "Joseph R. Biden Jr. 18.054671968190853\n",
            "Elizabeth Warren 11.927435387673958\n",
            "Pete Buttigieg 10.033797216699803\n",
            "Amy Klobuchar 4.305168986083499\n",
            "Bernard Sanders 30.062344139650875\n",
            "Joseph R. Biden Jr. 22.445137157107233\n",
            "Elizabeth Warren 14.164588528678305\n",
            "Pete Buttigieg 9.296758104738155\n",
            "Amy Klobuchar 4.203241895261844\n",
            "True\n"
          ],
          "name": "stdout"
        },
        {
          "output_type": "display_data",
          "data": {
            "text/html": [
              "<html>\n",
              "<head><meta charset=\"utf-8\" /></head>\n",
              "<body>\n",
              "    <div>\n",
              "            <script src=\"https://cdnjs.cloudflare.com/ajax/libs/mathjax/2.7.5/MathJax.js?config=TeX-AMS-MML_SVG\"></script><script type=\"text/javascript\">if (window.MathJax) {MathJax.Hub.Config({SVG: {font: \"STIX-Web\"}});}</script>\n",
              "                <script type=\"text/javascript\">window.PlotlyConfig = {MathJaxConfig: 'local'};</script>\n",
              "        <script src=\"https://cdn.plot.ly/plotly-latest.min.js\"></script>    \n",
              "            <div id=\"188ca2cf-8cae-42ee-b503-413c51e3064f\" class=\"plotly-graph-div\" style=\"height:525px; width:100%;\"></div>\n",
              "            <script type=\"text/javascript\">\n",
              "                \n",
              "                    window.PLOTLYENV=window.PLOTLYENV || {};\n",
              "                    \n",
              "                if (document.getElementById(\"188ca2cf-8cae-42ee-b503-413c51e3064f\")) {\n",
              "                    Plotly.newPlot(\n",
              "                        '188ca2cf-8cae-42ee-b503-413c51e3064f',\n",
              "                        [{\"cells\": {\"fill\": {\"color\": [\"rgb(245,245,245)\", \"rgb(245,245,245)\", \"rgb(245,245,245)\", [\"rgba(0,250,0, 0.3)\", \"rgba(0,250,0, 0.3)\", \"rgba(0,250,0, 0.3)\", \"rgba(250,0,0, 0.3)\", \"rgba(250,0,0, 0.3)\"]]}, \"values\": [[\"Bernard Sanders\", \"Joseph R. Biden Jr.\", \"Elizabeth Warren\", \"Pete Buttigieg\", \"Amy Klobuchar\"], [28.25, 18.05, 11.93, 10.03, 4.31], [30.06, 22.45, 14.16, 9.3, 4.2], [1.81, 4.39, 2.24, -0.74, -0.1]]}, \"header\": {\"values\": [\"Candidate Name\", \"Before Debate\", \"After Debate\", \"Net Change\"]}, \"type\": \"table\"}],\n",
              "                        {\"template\": {\"data\": {\"bar\": [{\"error_x\": {\"color\": \"#2a3f5f\"}, \"error_y\": {\"color\": \"#2a3f5f\"}, \"marker\": {\"line\": {\"color\": \"#E5ECF6\", \"width\": 0.5}}, \"type\": \"bar\"}], \"barpolar\": [{\"marker\": {\"line\": {\"color\": \"#E5ECF6\", \"width\": 0.5}}, \"type\": \"barpolar\"}], \"carpet\": [{\"aaxis\": {\"endlinecolor\": \"#2a3f5f\", \"gridcolor\": \"white\", \"linecolor\": \"white\", \"minorgridcolor\": \"white\", \"startlinecolor\": \"#2a3f5f\"}, \"baxis\": {\"endlinecolor\": \"#2a3f5f\", \"gridcolor\": \"white\", \"linecolor\": \"white\", \"minorgridcolor\": \"white\", \"startlinecolor\": \"#2a3f5f\"}, \"type\": \"carpet\"}], \"choropleth\": [{\"colorbar\": {\"outlinewidth\": 0, \"ticks\": \"\"}, \"type\": \"choropleth\"}], \"contour\": [{\"colorbar\": {\"outlinewidth\": 0, \"ticks\": \"\"}, \"colorscale\": [[0.0, \"#0d0887\"], [0.1111111111111111, \"#46039f\"], [0.2222222222222222, \"#7201a8\"], [0.3333333333333333, \"#9c179e\"], [0.4444444444444444, \"#bd3786\"], [0.5555555555555556, \"#d8576b\"], [0.6666666666666666, \"#ed7953\"], [0.7777777777777778, \"#fb9f3a\"], [0.8888888888888888, \"#fdca26\"], [1.0, \"#f0f921\"]], \"type\": \"contour\"}], \"contourcarpet\": [{\"colorbar\": {\"outlinewidth\": 0, \"ticks\": \"\"}, \"type\": \"contourcarpet\"}], \"heatmap\": [{\"colorbar\": {\"outlinewidth\": 0, \"ticks\": \"\"}, \"colorscale\": [[0.0, \"#0d0887\"], [0.1111111111111111, \"#46039f\"], [0.2222222222222222, \"#7201a8\"], [0.3333333333333333, \"#9c179e\"], [0.4444444444444444, \"#bd3786\"], [0.5555555555555556, \"#d8576b\"], [0.6666666666666666, \"#ed7953\"], [0.7777777777777778, \"#fb9f3a\"], [0.8888888888888888, \"#fdca26\"], [1.0, \"#f0f921\"]], \"type\": \"heatmap\"}], \"heatmapgl\": [{\"colorbar\": {\"outlinewidth\": 0, \"ticks\": \"\"}, \"colorscale\": [[0.0, \"#0d0887\"], [0.1111111111111111, \"#46039f\"], [0.2222222222222222, \"#7201a8\"], [0.3333333333333333, \"#9c179e\"], [0.4444444444444444, \"#bd3786\"], [0.5555555555555556, \"#d8576b\"], [0.6666666666666666, \"#ed7953\"], [0.7777777777777778, \"#fb9f3a\"], [0.8888888888888888, \"#fdca26\"], [1.0, \"#f0f921\"]], \"type\": \"heatmapgl\"}], \"histogram\": [{\"marker\": {\"colorbar\": {\"outlinewidth\": 0, \"ticks\": \"\"}}, \"type\": \"histogram\"}], \"histogram2d\": [{\"colorbar\": {\"outlinewidth\": 0, \"ticks\": \"\"}, \"colorscale\": [[0.0, \"#0d0887\"], [0.1111111111111111, \"#46039f\"], [0.2222222222222222, \"#7201a8\"], [0.3333333333333333, \"#9c179e\"], [0.4444444444444444, \"#bd3786\"], [0.5555555555555556, \"#d8576b\"], [0.6666666666666666, \"#ed7953\"], [0.7777777777777778, \"#fb9f3a\"], [0.8888888888888888, \"#fdca26\"], [1.0, \"#f0f921\"]], \"type\": \"histogram2d\"}], \"histogram2dcontour\": [{\"colorbar\": {\"outlinewidth\": 0, \"ticks\": \"\"}, \"colorscale\": [[0.0, \"#0d0887\"], [0.1111111111111111, \"#46039f\"], [0.2222222222222222, \"#7201a8\"], [0.3333333333333333, \"#9c179e\"], [0.4444444444444444, \"#bd3786\"], [0.5555555555555556, \"#d8576b\"], [0.6666666666666666, \"#ed7953\"], [0.7777777777777778, \"#fb9f3a\"], [0.8888888888888888, \"#fdca26\"], [1.0, \"#f0f921\"]], \"type\": \"histogram2dcontour\"}], \"mesh3d\": [{\"colorbar\": {\"outlinewidth\": 0, \"ticks\": \"\"}, \"type\": \"mesh3d\"}], \"parcoords\": [{\"line\": {\"colorbar\": {\"outlinewidth\": 0, \"ticks\": \"\"}}, \"type\": \"parcoords\"}], \"scatter\": [{\"marker\": {\"colorbar\": {\"outlinewidth\": 0, \"ticks\": \"\"}}, \"type\": \"scatter\"}], \"scatter3d\": [{\"line\": {\"colorbar\": {\"outlinewidth\": 0, \"ticks\": \"\"}}, \"marker\": {\"colorbar\": {\"outlinewidth\": 0, \"ticks\": \"\"}}, \"type\": \"scatter3d\"}], \"scattercarpet\": [{\"marker\": {\"colorbar\": {\"outlinewidth\": 0, \"ticks\": \"\"}}, \"type\": \"scattercarpet\"}], \"scattergeo\": [{\"marker\": {\"colorbar\": {\"outlinewidth\": 0, \"ticks\": \"\"}}, \"type\": \"scattergeo\"}], \"scattergl\": [{\"marker\": {\"colorbar\": {\"outlinewidth\": 0, \"ticks\": \"\"}}, \"type\": \"scattergl\"}], \"scattermapbox\": [{\"marker\": {\"colorbar\": {\"outlinewidth\": 0, \"ticks\": \"\"}}, \"type\": \"scattermapbox\"}], \"scatterpolar\": [{\"marker\": {\"colorbar\": {\"outlinewidth\": 0, \"ticks\": \"\"}}, \"type\": \"scatterpolar\"}], \"scatterpolargl\": [{\"marker\": {\"colorbar\": {\"outlinewidth\": 0, \"ticks\": \"\"}}, \"type\": \"scatterpolargl\"}], \"scatterternary\": [{\"marker\": {\"colorbar\": {\"outlinewidth\": 0, \"ticks\": \"\"}}, \"type\": \"scatterternary\"}], \"surface\": [{\"colorbar\": {\"outlinewidth\": 0, \"ticks\": \"\"}, \"colorscale\": [[0.0, \"#0d0887\"], [0.1111111111111111, \"#46039f\"], [0.2222222222222222, \"#7201a8\"], [0.3333333333333333, \"#9c179e\"], [0.4444444444444444, \"#bd3786\"], [0.5555555555555556, \"#d8576b\"], [0.6666666666666666, \"#ed7953\"], [0.7777777777777778, \"#fb9f3a\"], [0.8888888888888888, \"#fdca26\"], [1.0, \"#f0f921\"]], \"type\": \"surface\"}], \"table\": [{\"cells\": {\"fill\": {\"color\": \"#EBF0F8\"}, \"line\": {\"color\": \"white\"}}, \"header\": {\"fill\": {\"color\": \"#C8D4E3\"}, \"line\": {\"color\": \"white\"}}, \"type\": \"table\"}]}, \"layout\": {\"annotationdefaults\": {\"arrowcolor\": \"#2a3f5f\", \"arrowhead\": 0, \"arrowwidth\": 1}, \"colorscale\": {\"diverging\": [[0, \"#8e0152\"], [0.1, \"#c51b7d\"], [0.2, \"#de77ae\"], [0.3, \"#f1b6da\"], [0.4, \"#fde0ef\"], [0.5, \"#f7f7f7\"], [0.6, \"#e6f5d0\"], [0.7, \"#b8e186\"], [0.8, \"#7fbc41\"], [0.9, \"#4d9221\"], [1, \"#276419\"]], \"sequential\": [[0.0, \"#0d0887\"], [0.1111111111111111, \"#46039f\"], [0.2222222222222222, \"#7201a8\"], [0.3333333333333333, \"#9c179e\"], [0.4444444444444444, \"#bd3786\"], [0.5555555555555556, \"#d8576b\"], [0.6666666666666666, \"#ed7953\"], [0.7777777777777778, \"#fb9f3a\"], [0.8888888888888888, \"#fdca26\"], [1.0, \"#f0f921\"]], \"sequentialminus\": [[0.0, \"#0d0887\"], [0.1111111111111111, \"#46039f\"], [0.2222222222222222, \"#7201a8\"], [0.3333333333333333, \"#9c179e\"], [0.4444444444444444, \"#bd3786\"], [0.5555555555555556, \"#d8576b\"], [0.6666666666666666, \"#ed7953\"], [0.7777777777777778, \"#fb9f3a\"], [0.8888888888888888, \"#fdca26\"], [1.0, \"#f0f921\"]]}, \"colorway\": [\"#636efa\", \"#EF553B\", \"#00cc96\", \"#ab63fa\", \"#FFA15A\", \"#19d3f3\", \"#FF6692\", \"#B6E880\", \"#FF97FF\", \"#FECB52\"], \"font\": {\"color\": \"#2a3f5f\"}, \"geo\": {\"bgcolor\": \"white\", \"lakecolor\": \"white\", \"landcolor\": \"#E5ECF6\", \"showlakes\": true, \"showland\": true, \"subunitcolor\": \"white\"}, \"hoverlabel\": {\"align\": \"left\"}, \"hovermode\": \"closest\", \"mapbox\": {\"style\": \"light\"}, \"paper_bgcolor\": \"white\", \"plot_bgcolor\": \"#E5ECF6\", \"polar\": {\"angularaxis\": {\"gridcolor\": \"white\", \"linecolor\": \"white\", \"ticks\": \"\"}, \"bgcolor\": \"#E5ECF6\", \"radialaxis\": {\"gridcolor\": \"white\", \"linecolor\": \"white\", \"ticks\": \"\"}}, \"scene\": {\"xaxis\": {\"backgroundcolor\": \"#E5ECF6\", \"gridcolor\": \"white\", \"gridwidth\": 2, \"linecolor\": \"white\", \"showbackground\": true, \"ticks\": \"\", \"zerolinecolor\": \"white\"}, \"yaxis\": {\"backgroundcolor\": \"#E5ECF6\", \"gridcolor\": \"white\", \"gridwidth\": 2, \"linecolor\": \"white\", \"showbackground\": true, \"ticks\": \"\", \"zerolinecolor\": \"white\"}, \"zaxis\": {\"backgroundcolor\": \"#E5ECF6\", \"gridcolor\": \"white\", \"gridwidth\": 2, \"linecolor\": \"white\", \"showbackground\": true, \"ticks\": \"\", \"zerolinecolor\": \"white\"}}, \"shapedefaults\": {\"line\": {\"color\": \"#2a3f5f\"}}, \"ternary\": {\"aaxis\": {\"gridcolor\": \"white\", \"linecolor\": \"white\", \"ticks\": \"\"}, \"baxis\": {\"gridcolor\": \"white\", \"linecolor\": \"white\", \"ticks\": \"\"}, \"bgcolor\": \"#E5ECF6\", \"caxis\": {\"gridcolor\": \"white\", \"linecolor\": \"white\", \"ticks\": \"\"}}, \"title\": {\"x\": 0.05}, \"xaxis\": {\"automargin\": true, \"gridcolor\": \"white\", \"linecolor\": \"white\", \"ticks\": \"\", \"zerolinecolor\": \"white\", \"zerolinewidth\": 2}, \"yaxis\": {\"automargin\": true, \"gridcolor\": \"white\", \"linecolor\": \"white\", \"ticks\": \"\", \"zerolinecolor\": \"white\", \"zerolinewidth\": 2}}}},\n",
              "                        {\"responsive\": true}\n",
              "                    ).then(function(){\n",
              "                            \n",
              "var gd = document.getElementById('188ca2cf-8cae-42ee-b503-413c51e3064f');\n",
              "var x = new MutationObserver(function (mutations, observer) {{\n",
              "        var display = window.getComputedStyle(gd).display;\n",
              "        if (!display || display === 'none') {{\n",
              "            console.log([gd, 'removed!']);\n",
              "            Plotly.purge(gd);\n",
              "            observer.disconnect();\n",
              "        }}\n",
              "}});\n",
              "\n",
              "// Listen for the removal of the full notebook cells\n",
              "var notebookContainer = gd.closest('#notebook-container');\n",
              "if (notebookContainer) {{\n",
              "    x.observe(notebookContainer, {childList: true});\n",
              "}}\n",
              "\n",
              "// Listen for the clearing of the current output cell\n",
              "var outputEl = gd.closest('.output');\n",
              "if (outputEl) {{\n",
              "    x.observe(outputEl, {childList: true});\n",
              "}}\n",
              "\n",
              "                        })\n",
              "                };\n",
              "                \n",
              "            </script>\n",
              "        </div>\n",
              "</body>\n",
              "</html>"
            ]
          },
          "metadata": {
            "tags": []
          }
        }
      ]
    },
    {
      "cell_type": "markdown",
      "metadata": {
        "id": "2QpJaRTMef43",
        "colab_type": "text"
      },
      "source": [
        "## DISCUSSION 10\n",
        "- How did the trends change before and after the democratic debate ? \n",
        "- Are the changes real or random fluctuations/noise? \n",
        "- Can we conclusively say that the net changes are directly due to the debates? Why or why not?\n"
      ]
    },
    {
      "cell_type": "markdown",
      "metadata": {
        "id": "qwqBqdtPb1XZ",
        "colab_type": "text"
      },
      "source": [
        "# PART 3: Linear Regression Model - Primary Winner vs. Trump?\n",
        "\n",
        "\n",
        "\n"
      ]
    },
    {
      "cell_type": "markdown",
      "metadata": {
        "id": "S37WJttrod7d",
        "colab_type": "text"
      },
      "source": [
        "# **An Analysis of Presidential Approval Ratings**"
      ]
    },
    {
      "cell_type": "code",
      "metadata": {
        "id": "DTB-WR9DR_rQ",
        "colab_type": "code",
        "cellView": "form",
        "outputId": "29382ce7-b82e-490f-83b5-2bc75ae374d9",
        "colab": {
          "base_uri": "https://localhost:8080/",
          "height": 567
        }
      },
      "source": [
        "#@title Show Approval Ratings\n",
        "# Midterm election happens at: 365*2 - 79 = 651 days into office\n",
        "\n",
        "# Approval Rating Data\n",
        "# The dates during a presidency when approval ratings are measured:\n",
        "dates = [4,30,60,90,120,150,180,210,240,270,300,330,360,390,420,450,480,510,540,570,600,630,651]\n",
        "\n",
        "# Trump\n",
        "trump_approval_rate = [45.5,44.3,42.6,41.9,38.9,38.7,38.7,37.9,38.8, 38.1,36.5,39.1,41.4, 40.5,40.8,42.3,42.3,41.4,42.1,41.9,40,41.8,42.0]\n",
        "\n",
        "# Obama (lost both house and senate in midterm)\n",
        "obama_approval_rate = [68,62.7,59.2,60.2,60.4,57.9,55.1,52,53.2, 52.6, 52.1, 49.7,49.2,48.1,48.1,47.9,49.4,47.8,47, 45.9, 45.2, 45.2,44.9]\n",
        "\n",
        "# George W Bush\n",
        "gb_approval_rate = [46,52.2,55.7,54.1,54.4,52.2, 52.8,52.3,82.7,88.1,85.8,83.2,81.2,78.3,77.8,73.8,70.3,71.2,69.4,65.8,64.8,62.6,60.1]\n",
        "\n",
        "# Clinton (lost both house and senate in midterm)\n",
        "clinton_approval_rate = [54,53.2,55.4,53.4,47.9,42.9,45.7,44.2,48.3,49.7,46.9,54.5,56.2,55.4,50.9,53.3,54.2,50.8,46,45.3,43.2,43.9,45.4]\n",
        "\n",
        "# George H. W. Bush (lost both house and senate in midterm)\n",
        "ghwb_approval_rate = [61,61,59.1,58,61.9,70.2,67.1,68.8,69.5,67.7,69.8,71.2,78.3,73.3,62.2,68.1,66.8,67.9,63.2,59.8,75.9,66,54.9]\n",
        "\n",
        "# Reagan (lost house, same senate)\n",
        "reagan_approval_rate = [54,54,60,67.6,68,59,58.1,60.1,60.1,55.6,53.3,49.2,48.9,46.9,46.9,45,43.6,45,44,41.1,42,42,42]\n",
        "\n",
        "# Carter\n",
        "carter_approval_rate = [69.8,66,74.9,62.8,64.9,62.9,62,60.7,54.3,58.5,54.5,57,55,52.1,50.1,48,42.1,44,39.9,39,42.1,48.1,49]\n",
        "\n",
        "\n",
        "import numpy as np\n",
        "import matplotlib.pyplot as plt\n",
        "from sklearn.linear_model import LinearRegression\n",
        "\n",
        "# Before performing the regressions, we need to \"reshape\" the date data to transpose from being a horizontal list to\n",
        "# a vertical vector of numbers... this is just something that sklearn requires\n",
        "dates = np.array(dates).reshape(-1,1)\n",
        "linear_regressor = LinearRegression()  # create object from the class\n",
        "markers = [\".\", \"^\", \"v\", \"s\", \"8\", \"p\", \"P\"]\n",
        "names = [\"Trump\", \"Obama\", \"G.W. Bush\", \"Clinton\", \"G.H.W. Bush\", \"Reagan\", \"Carter\"]\n",
        "ratings = [trump_approval_rate, \n",
        "          obama_approval_rate, \n",
        "          gb_approval_rate, \n",
        "          clinton_approval_rate, \n",
        "          ghwb_approval_rate, \n",
        "          reagan_approval_rate, \n",
        "          carter_approval_rate]\n",
        "\n",
        "# loop through all the ratings and add a scatter plot + regression line to the plot\n",
        "for i, approval_rate in enumerate(ratings):\n",
        "  plt.scatter(dates, approval_rate, marker=markers[i], label = names[i])\n",
        "  linear_regressor.fit(dates, approval_rate)  # perform linear regression\n",
        "  pred = linear_regressor.predict(dates)  # make predictions\n",
        "  plt.plot(dates, pred)\n",
        "\n",
        "plt.title(\"Approval Ratings\")\n",
        "plt.xlabel(\"Days Since Start of Presidency\")\n",
        "plt.ylabel(\"Approval Rating as Percentage\")\n",
        "plt.legend()\n",
        "plt.gcf().set_size_inches(15, 9)\n",
        "plt.show()"
      ],
      "execution_count": 16,
      "outputs": [
        {
          "output_type": "display_data",
          "data": {
            "image/png": "[encoded data removed]",
            "text/plain": [
              "<Figure size 1080x648 with 1 Axes>"
            ]
          },
          "metadata": {
            "tags": []
          }
        }
      ]
    },
    {
      "cell_type": "code",
      "metadata": {
        "id": "be_tq5qYSVNi",
        "colab_type": "code",
        "outputId": "923db090-f7a2-405a-9233-341d3fc078dd",
        "cellView": "form",
        "colab": {
          "base_uri": "https://localhost:8080/",
          "height": 1000
        }
      },
      "source": [
        "#@title Fit a linear regression to each president. Calculate relative % change in approval from start of presidency to day 420\n",
        "# loop through all ratings and create a separate scatter plot + regression line for each one\n",
        "for i, approval_rate in enumerate(ratings):\n",
        "  plt.scatter(dates, approval_rate)\n",
        "  linear_regressor.fit(dates, approval_rate)  # perform linear regression\n",
        "  pred = linear_regressor.predict(dates)  # make predictions\n",
        "  plt.plot(dates, pred)\n",
        "  \n",
        "  # Calculate the relative % change in approval from start of presidency to day 420\n",
        "  diff = round(int(approval_rate[14] - approval_rate[0])/ int(approval_rate[0]) * 100)\n",
        "  plt.title(\"Approval Rating: {} Changed by {}% From Start to Month 16\".format(names[i], diff))\n",
        "  plt.xlabel(\"Days Since Start of Presidency\")\n",
        "  plt.ylabel(\"Approval Rating as Percentage\")\n",
        "  plt.gcf().set_size_inches(8, 6)\n",
        "  plt.show()"
      ],
      "execution_count": 17,
      "outputs": [
        {
          "output_type": "display_data",
          "data": {
            "image/png": "[encoded data removed]",
            "text/plain": [
              "<Figure size 576x432 with 1 Axes>"
            ]
          },
          "metadata": {
            "tags": []
          }
        },
        {
          "output_type": "display_data",
          "data": {
            "image/png": "[encoded data removed]",
            "text/plain": [
              "<Figure size 576x432 with 1 Axes>"
            ]
          },
          "metadata": {
            "tags": []
          }
        },
        {
          "output_type": "display_data",
          "data": {
            "image/png": "[encoded data removed]",
            "text/plain": [
              "<Figure size 576x432 with 1 Axes>"
            ]
          },
          "metadata": {
            "tags": []
          }
        },
        {
          "output_type": "display_data",
          "data": {
            "image/png": "[encoded data removed]",
            "text/plain": [
              "<Figure size 576x432 with 1 Axes>"
            ]
          },
          "metadata": {
            "tags": []
          }
        },
        {
          "output_type": "display_data",
          "data": {
            "image/png": "[encoded data removed]",
            "text/plain": [
              "<Figure size 576x432 with 1 Axes>"
            ]
          },
          "metadata": {
            "tags": []
          }
        },
        {
          "output_type": "display_data",
          "data": {
            "image/png": "[encoded data removed]",
            "text/plain": [
              "<Figure size 576x432 with 1 Axes>"
            ]
          },
          "metadata": {
            "tags": []
          }
        },
        {
          "output_type": "display_data",
          "data": {
            "image/png": "[encoded data removed]",
            "text/plain": [
              "<Figure size 576x432 with 1 Axes>"
            ]
          },
          "metadata": {
            "tags": []
          }
        }
      ]
    },
    {
      "cell_type": "code",
      "metadata": {
        "id": "i2mk6O8CYQIR",
        "colab_type": "code",
        "outputId": "a1bc92e4-900a-4de4-9552-96925f66c155",
        "cellView": "form",
        "colab": {
          "resources": {
            "http://localhost:8080/nbextensions/google.colab/files.js": {
              "data": "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",
              "ok": true,
              "headers": [
                [
                  "content-type",
                  "application/javascript"
                ]
              ],
              "status": 200,
              "status_text": ""
            }
          },
          "base_uri": "https://localhost:8080/",
          "height": 363
        }
      },
      "source": [
        "#@title # Load Data. You must select approval_topline.csv from your computer once downloaded from https://projects.fivethirtyeight.com/trump-approval-data/approval_topline.csv\n",
        "import pandas as pd\n",
        "from google.colab import files\n",
        "uploaded = files.upload() # perhaps easier way to do this in google colab?\n",
        "import io\n",
        "\n",
        "# This will load in the data. You must select approval_topline.csv from your computer once downloaded\n",
        "# from https://projects.fivethirtyeight.com/trump-approval-ratings/\n",
        "approvals = pd.read_csv(io.StringIO(uploaded['approval_topline.csv'].decode('utf-8')))\n",
        "approvals.head() # inspect first few rows of data"
      ],
      "execution_count": 19,
      "outputs": [
        {
          "output_type": "display_data",
          "data": {
            "text/html": [
              "\n",
              "     <input type=\"file\" id=\"files-54008ce8-a259-441b-9c1f-e6b511ef8232\" name=\"files[]\" multiple disabled />\n",
              "     <output id=\"result-54008ce8-a259-441b-9c1f-e6b511ef8232\">\n",
              "      Upload widget is only available when the cell has been executed in the\n",
              "      current browser session. Please rerun this cell to enable.\n",
              "      </output>\n",
              "      <script src=\"/nbextensions/google.colab/files.js\"></script> "
            ],
            "text/plain": [
              "<IPython.core.display.HTML object>"
            ]
          },
          "metadata": {
            "tags": []
          }
        },
        {
          "output_type": "stream",
          "text": [
            "Saving approval_topline.csv to approval_topline (1).csv\n"
          ],
          "name": "stdout"
        },
        {
          "output_type": "execute_result",
          "data": {
            "text/html": [
              "<div>\n",
              "<style scoped>\n",
              "    .dataframe tbody tr th:only-of-type {\n",
              "        vertical-align: middle;\n",
              "    }\n",
              "\n",
              "    .dataframe tbody tr th {\n",
              "        vertical-align: top;\n",
              "    }\n",
              "\n",
              "    .dataframe thead th {\n",
              "        text-align: right;\n",
              "    }\n",
              "</style>\n",
              "<table border=\"1\" class=\"dataframe\">\n",
              "  <thead>\n",
              "    <tr style=\"text-align: right;\">\n",
              "      <th></th>\n",
              "      <th>president</th>\n",
              "      <th>subgroup</th>\n",
              "      <th>modeldate</th>\n",
              "      <th>approve_estimate</th>\n",
              "      <th>approve_hi</th>\n",
              "      <th>approve_lo</th>\n",
              "      <th>disapprove_estimate</th>\n",
              "      <th>disapprove_hi</th>\n",
              "      <th>disapprove_lo</th>\n",
              "      <th>timestamp</th>\n",
              "    </tr>\n",
              "  </thead>\n",
              "  <tbody>\n",
              "    <tr>\n",
              "      <th>0</th>\n",
              "      <td>Donald Trump</td>\n",
              "      <td>Voters</td>\n",
              "      <td>3/9/2020</td>\n",
              "      <td>43.366988</td>\n",
              "      <td>47.896319</td>\n",
              "      <td>38.837657</td>\n",
              "      <td>53.031325</td>\n",
              "      <td>57.501169</td>\n",
              "      <td>48.561481</td>\n",
              "      <td>10:32:46  9 Mar 2020</td>\n",
              "    </tr>\n",
              "    <tr>\n",
              "      <th>1</th>\n",
              "      <td>Donald Trump</td>\n",
              "      <td>Adults</td>\n",
              "      <td>3/9/2020</td>\n",
              "      <td>41.915649</td>\n",
              "      <td>45.793856</td>\n",
              "      <td>38.037441</td>\n",
              "      <td>53.220919</td>\n",
              "      <td>57.461461</td>\n",
              "      <td>48.980376</td>\n",
              "      <td>10:31:22  9 Mar 2020</td>\n",
              "    </tr>\n",
              "    <tr>\n",
              "      <th>2</th>\n",
              "      <td>Donald Trump</td>\n",
              "      <td>All polls</td>\n",
              "      <td>3/9/2020</td>\n",
              "      <td>42.781591</td>\n",
              "      <td>47.409763</td>\n",
              "      <td>38.153420</td>\n",
              "      <td>53.013827</td>\n",
              "      <td>57.332966</td>\n",
              "      <td>48.694687</td>\n",
              "      <td>10:30:28  9 Mar 2020</td>\n",
              "    </tr>\n",
              "    <tr>\n",
              "      <th>3</th>\n",
              "      <td>Donald Trump</td>\n",
              "      <td>Voters</td>\n",
              "      <td>3/8/2020</td>\n",
              "      <td>43.325293</td>\n",
              "      <td>47.809233</td>\n",
              "      <td>38.841352</td>\n",
              "      <td>53.030179</td>\n",
              "      <td>57.504086</td>\n",
              "      <td>48.556272</td>\n",
              "      <td>09:47:26  9 Mar 2020</td>\n",
              "    </tr>\n",
              "    <tr>\n",
              "      <th>4</th>\n",
              "      <td>Donald Trump</td>\n",
              "      <td>All polls</td>\n",
              "      <td>3/8/2020</td>\n",
              "      <td>42.759827</td>\n",
              "      <td>47.329717</td>\n",
              "      <td>38.189937</td>\n",
              "      <td>52.995391</td>\n",
              "      <td>57.322780</td>\n",
              "      <td>48.668002</td>\n",
              "      <td>09:39:46  9 Mar 2020</td>\n",
              "    </tr>\n",
              "  </tbody>\n",
              "</table>\n",
              "</div>"
            ],
            "text/plain": [
              "      president   subgroup  ... disapprove_lo             timestamp\n",
              "0  Donald Trump     Voters  ...     48.561481  10:32:46  9 Mar 2020\n",
              "1  Donald Trump     Adults  ...     48.980376  10:31:22  9 Mar 2020\n",
              "2  Donald Trump  All polls  ...     48.694687  10:30:28  9 Mar 2020\n",
              "3  Donald Trump     Voters  ...     48.556272  09:47:26  9 Mar 2020\n",
              "4  Donald Trump  All polls  ...     48.668002  09:39:46  9 Mar 2020\n",
              "\n",
              "[5 rows x 10 columns]"
            ]
          },
          "metadata": {
            "tags": []
          },
          "execution_count": 19
        }
      ]
    },
    {
      "cell_type": "code",
      "metadata": {
        "id": "o16jqVPha9Fx",
        "colab_type": "code",
        "cellView": "form",
        "outputId": "a103b1cf-02f4-4bd3-93bb-a3b242fb0c19",
        "colab": {
          "base_uri": "https://localhost:8080/",
          "height": 567
        }
      },
      "source": [
        "#@title Graph a regression of Donald Trumps approval rating (using all polls as data points)\n",
        "# convert the dates from strings to pandas DateTime objects\n",
        "approvals[\"modeldate\"] = pd.to_datetime(approvals[\"modeldate\"], infer_datetime_format=True)  \n",
        "\n",
        "# this line converts all the DateTime objects to TimeDeltas since we would like every date to be\n",
        "# the time elapsed since Trump first took office (the first poll date will suffice for the start of his presidency)\n",
        "approvals[\"modeldate\"] = (approvals[\"modeldate\"] - approvals[\"modeldate\"].iloc[-1])\n",
        "\n",
        "# now we will only use the \"days\" portion of each TimeDelta\n",
        "approvals[\"modeldate\"] = approvals[\"modeldate\"].map(lambda x: x.days)\n",
        "\n",
        "# our dates now look like this! They are of type int\n",
        "#approvals[\"modeldate\"].head(10)\n",
        "\n",
        "# Graph a regression of Donald Trumps approval rating (using all polls as data points)\n",
        "# Also plot the result of every poll\n",
        "dates = np.array(approvals[\"modeldate\"]).reshape(-1,1)\n",
        "\n",
        "plt.scatter(dates, approvals[\"approve_estimate\"])\n",
        "linear_regressor.fit(dates, approvals[\"approve_estimate\"])  # perform linear regression\n",
        "pred = linear_regressor.predict(dates)  # make predictions\n",
        "plt.plot(dates, pred, \"red\")\n",
        "\n",
        "plt.title(\"Donald Trump Approval Rating\")\n",
        "plt.xlabel(\"Days Since Start of Presidency\")\n",
        "plt.ylabel(\"Approval Rating as Percentage\")\n",
        "plt.gcf().set_size_inches(15, 9)\n",
        "plt.show()"
      ],
      "execution_count": 20,
      "outputs": [
        {
          "output_type": "display_data",
          "data": {
            "image/png": "[encoded data removed]",
            "text/plain": [
              "<Figure size 1080x648 with 1 Axes>"
            ]
          },
          "metadata": {
            "tags": []
          }
        }
      ]
    },
    {
      "cell_type": "code",
      "metadata": {
        "id": "pu0uaKDyfp7M",
        "colab_type": "code",
        "outputId": "a1bdca49-7fe3-4e8e-b95d-e1c417000616",
        "cellView": "form",
        "colab": {
          "base_uri": "https://localhost:8080/",
          "height": 478
        }
      },
      "source": [
        "#@title Show OLS Results\n",
        "# Redo the above but using a different package to perfrom regression\n",
        "# this package will give us a nice output similar to what's given in R\n",
        "\n",
        "from statsmodels.formula.api import ols\n",
        "\n",
        "mod = ols(formula = \"approve_estimate ~ modeldate\", data=approvals)\n",
        "res = mod.fit()\n",
        "res.summary()"
      ],
      "execution_count": 21,
      "outputs": [
        {
          "output_type": "execute_result",
          "data": {
            "text/html": [
              "<table class=\"simpletable\">\n",
              "<caption>OLS Regression Results</caption>\n",
              "<tr>\n",
              "  <th>Dep. Variable:</th>    <td>approve_estimate</td> <th>  R-squared:         </th> <td>   0.117</td> \n",
              "</tr>\n",
              "<tr>\n",
              "  <th>Model:</th>                   <td>OLS</td>       <th>  Adj. R-squared:    </th> <td>   0.117</td> \n",
              "</tr>\n",
              "<tr>\n",
              "  <th>Method:</th>             <td>Least Squares</td>  <th>  F-statistic:       </th> <td>   452.7</td> \n",
              "</tr>\n",
              "<tr>\n",
              "  <th>Date:</th>             <td>Mon, 09 Mar 2020</td> <th>  Prob (F-statistic):</th> <td>1.90e-94</td> \n",
              "</tr>\n",
              "<tr>\n",
              "  <th>Time:</th>                 <td>15:21:09</td>     <th>  Log-Likelihood:    </th> <td> -7018.6</td> \n",
              "</tr>\n",
              "<tr>\n",
              "  <th>No. Observations:</th>      <td>  3426</td>      <th>  AIC:               </th> <td>1.404e+04</td>\n",
              "</tr>\n",
              "<tr>\n",
              "  <th>Df Residuals:</th>          <td>  3424</td>      <th>  BIC:               </th> <td>1.405e+04</td>\n",
              "</tr>\n",
              "<tr>\n",
              "  <th>Df Model:</th>              <td>     1</td>      <th>                     </th>     <td> </td>    \n",
              "</tr>\n",
              "<tr>\n",
              "  <th>Covariance Type:</th>      <td>nonrobust</td>    <th>                     </th>     <td> </td>    \n",
              "</tr>\n",
              "</table>\n",
              "<table class=\"simpletable\">\n",
              "<tr>\n",
              "      <td></td>         <th>coef</th>     <th>std err</th>      <th>t</th>      <th>P>|t|</th>  <th>[0.025</th>    <th>0.975]</th>  \n",
              "</tr>\n",
              "<tr>\n",
              "  <th>Intercept</th> <td>   39.9910</td> <td>    0.064</td> <td>  623.747</td> <td> 0.000</td> <td>   39.865</td> <td>   40.117</td>\n",
              "</tr>\n",
              "<tr>\n",
              "  <th>modeldate</th> <td>    0.0021</td> <td> 9.73e-05</td> <td>   21.276</td> <td> 0.000</td> <td>    0.002</td> <td>    0.002</td>\n",
              "</tr>\n",
              "</table>\n",
              "<table class=\"simpletable\">\n",
              "<tr>\n",
              "  <th>Omnibus:</th>       <td>95.524</td> <th>  Durbin-Watson:     </th> <td>   0.820</td>\n",
              "</tr>\n",
              "<tr>\n",
              "  <th>Prob(Omnibus):</th> <td> 0.000</td> <th>  Jarque-Bera (JB):  </th> <td> 142.125</td>\n",
              "</tr>\n",
              "<tr>\n",
              "  <th>Skew:</th>          <td> 0.283</td> <th>  Prob(JB):          </th> <td>1.37e-31</td>\n",
              "</tr>\n",
              "<tr>\n",
              "  <th>Kurtosis:</th>      <td> 3.822</td> <th>  Cond. No.          </th> <td>1.32e+03</td>\n",
              "</tr>\n",
              "</table><br/><br/>Warnings:<br/>[1] Standard Errors assume that the covariance matrix of the errors is correctly specified.<br/>[2] The condition number is large, 1.32e+03. This might indicate that there are<br/>strong multicollinearity or other numerical problems."
            ],
            "text/plain": [
              "<class 'statsmodels.iolib.summary.Summary'>\n",
              "\"\"\"\n",
              "                            OLS Regression Results                            \n",
              "==============================================================================\n",
              "Dep. Variable:       approve_estimate   R-squared:                       0.117\n",
              "Model:                            OLS   Adj. R-squared:                  0.117\n",
              "Method:                 Least Squares   F-statistic:                     452.7\n",
              "Date:                Mon, 09 Mar 2020   Prob (F-statistic):           1.90e-94\n",
              "Time:                        15:21:09   Log-Likelihood:                -7018.6\n",
              "No. Observations:                3426   AIC:                         1.404e+04\n",
              "Df Residuals:                    3424   BIC:                         1.405e+04\n",
              "Df Model:                           1                                         \n",
              "Covariance Type:            nonrobust                                         \n",
              "==============================================================================\n",
              "                 coef    std err          t      P>|t|      [0.025      0.975]\n",
              "------------------------------------------------------------------------------\n",
              "Intercept     39.9910      0.064    623.747      0.000      39.865      40.117\n",
              "modeldate      0.0021   9.73e-05     21.276      0.000       0.002       0.002\n",
              "==============================================================================\n",
              "Omnibus:                       95.524   Durbin-Watson:                   0.820\n",
              "Prob(Omnibus):                  0.000   Jarque-Bera (JB):              142.125\n",
              "Skew:                           0.283   Prob(JB):                     1.37e-31\n",
              "Kurtosis:                       3.822   Cond. No.                     1.32e+03\n",
              "==============================================================================\n",
              "\n",
              "Warnings:\n",
              "[1] Standard Errors assume that the covariance matrix of the errors is correctly specified.\n",
              "[2] The condition number is large, 1.32e+03. This might indicate that there are\n",
              "strong multicollinearity or other numerical problems.\n",
              "\"\"\""
            ]
          },
          "metadata": {
            "tags": []
          },
          "execution_count": 21
        }
      ]
    },
    {
      "cell_type": "code",
      "metadata": {
        "id": "OZCr_ySKmK4g",
        "colab_type": "code",
        "colab": {}
      },
      "source": [
        "# We see that the intercept is nearls 40 and there is a slight positive slope (0.0021).\n",
        "# The slope has a standard error of 9.85e-05 and it's p-value is extremely small, which indicates\n",
        "# that the probability of observing this positve slope given that the true slope is 0 (null hypothesis)\n",
        "# is very unlikely.\n",
        "\n",
        "# However, we also see from the data that a linear model may not be the best fit for this data! It seems\n",
        "# Trump's approval rating sank throughout the first 300 days of his presidency but now it is on a slow rise."
      ],
      "execution_count": 0,
      "outputs": []
    },
    {
      "cell_type": "markdown",
      "metadata": {
        "id": "KwPENhKGfucP",
        "colab_type": "text"
      },
      "source": [
        "## DISCUSSION 11\n",
        "- What assumptions are made under this analysis? \n",
        "- What assumpotions would you challenge? \n",
        "- What would you do differently?"
      ]
    }
  ]
}