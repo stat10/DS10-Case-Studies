{
  "nbformat": 4,
  "nbformat_minor": 0,
  "metadata": {
    "colab": {
      "name": "Finnish Baby Box.ipynb",
      "provenance": [],
      "collapsed_sections": [],
      "include_colab_link": true
    },
    "kernelspec": {
      "name": "python3",
      "display_name": "Python 3"
    }
  },
  "cells": [
    {
      "cell_type": "markdown",
      "metadata": {
        "id": "view-in-github",
        "colab_type": "text"
      },
      "source": [
        "<a href=\"https://colab.research.google.com/github/stat10/DS10-Case-Studies/blob/master/Finnish_Baby_Box.ipynb\" target=\"_parent\"><img src=\"https://colab.research.google.com/assets/colab-badge.svg\" alt=\"Open In Colab\"/></a>"
      ]
    },
    {
      "cell_type": "markdown",
      "metadata": {
        "id": "91DaXN0EgtpC",
        "colab_type": "text"
      },
      "source": [
        "Learning outcomes of case study:\n",
        "1. Students can understand graphs with time trends.\n",
        "> appreciate potential loops in displaying time trend over truncated period.\n",
        "2. Students can appreciate different ways of processing and analyzing the same data\n",
        "> difference can be demonstrated based on difference or rate of change\n",
        "2. Students demonstrate awareness of confounding factors when discussing a causal claim.\n",
        "3. Students understands the usefulness of randomized experiment in drawing causal conclusions.\n",
        "4. Students participate in a thoughtful discussion regarding evidence based policy making."
      ]
    },
    {
      "cell_type": "markdown",
      "metadata": {
        "id": "KdEkFAOtJB1d",
        "colab_type": "text"
      },
      "source": [
        "#Pre case reading\n",
        "\n",
        "\n",
        "[(Independent)Two charts which explain why babies whould sleep in cardboard boxes](https://www.independent.co.uk/life-style/health-and-families/two-charts-which-explain-why-babies-should-sleep-in-cardboard-boxes-a6729331.html)\n",
        "\n",
        "[(BBC)Why Finnish babies sleep in cardboard boxes](https://www.bbc.com/news/magazine-22751415)\n"
      ]
    },
    {
      "cell_type": "markdown",
      "metadata": {
        "id": "T48em-ujUBFR",
        "colab_type": "text"
      },
      "source": [
        "# **Thinking outside the Box**\n",
        "Do we want to copy the Finnish to save our babies?\n",
        "![alt text](https://cdn.notonthehighstreet.com/fs/2f/64/1cd6-cc17-45aa-ac22-560b3706160f/original_luxury-baby-box.jpg)"
      ]
    },
    {
      "cell_type": "markdown",
      "metadata": {
        "id": "dDBcJvYq3Z2H",
        "colab_type": "text"
      },
      "source": [
        "# Infant mortality\n",
        "Health is an important goal that we, as human being, strive towards. The 3rd [Sustainable Development Goal](https://sustainabledevelopment.un.org/sdg3) (previously Millenium Development Goal) is \n",
        "> *ensure healthy lives and promote well-being for all at all ages*.\n",
        "\n",
        "Four important areas are highlighted under SDG3: \n",
        "*   Reproductive, maternal, newborn and child health;\n",
        "*   Infectious diseases;\n",
        "* Non-communicable diseases, mental health and environmental risks;\n",
        "* Health systems and funding.\n",
        "\n",
        "Maternal and child health is a complicated concept. Monitoring improvements in maternal and child health involves multiple indicators. One important indicator is infant mortality - the death of and infant before the age of 1. \n",
        "\n",
        "---\n",
        "\n",
        "The infant mortality rate (in a region, within a fix time period) is defined as \n",
        "\n",
        "$$\\frac{\\text{Number of infant deaths before his or her first birthday}}{\\text{1000 Live births}  }$$\n",
        "\n",
        "---\n"
      ]
    },
    {
      "cell_type": "markdown",
      "metadata": {
        "id": "pmw1sREjXUr4",
        "colab_type": "text"
      },
      "source": [
        "## Infant mortality over the world\n"
      ]
    },
    {
      "cell_type": "markdown",
      "metadata": {
        "id": "zXTP3oMKhlSt",
        "colab_type": "text"
      },
      "source": [
        "Let's consider the following questions. \n",
        "\n",
        "**Questions**\n",
        "1. What are the top 10 richest countries in the world in 2015?\n",
        "2. What are the top 10 countries with lowest infant mortality rate (IMR) in 2015? "
      ]
    },
    {
      "cell_type": "markdown",
      "metadata": {
        "id": "5qknWVi6XoUa",
        "colab_type": "text"
      },
      "source": [
        "Do you think the answers to these questions are similar? Now, let's spend about 5 minutes to find a data source that can answer these questions. \n"
      ]
    },
    {
      "cell_type": "markdown",
      "metadata": {
        "id": "HT1Z40EFZQDc",
        "colab_type": "text"
      },
      "source": [
        "### [World Bank Open Data](https://data.worldbank.org/)"
      ]
    },
    {
      "cell_type": "markdown",
      "metadata": {
        "id": "QyOln3qfcwak",
        "colab_type": "text"
      },
      "source": [
        "> Pause and vote: How would you describe the IMR numbers? \n",
        "> * Absolute truth\n",
        "> * Measurements\n",
        "> * Estimates\n",
        "\n",
        "You might imagine that infant mortality numbers are measured based on recording number of infant deaths and number of births in a country-year, and calculated based on those numbers. \n",
        "\n",
        "However, such data is only available in countries with a good vital registry system. When agencies such as UNICEF and WHO wants to report on the situation in child mortality, they would like to give numbers for every country-year. Hence, a lot of effort has been put together to develop methods and models that integrates all available data (not just vital registry data) to provided reasonable estimates for every country in the world. The current numbers are provided by an [inter-agency group](https://childmortality.org/) led by UNICEF that closely monitors and reports child mortality across the world. The specific details of the model is beyond our discussion.\n",
        "\n",
        "However, we should be aware of the fact that the numbers we get from the world bank database are estimated from a model. Knowing the details of where our data came from allows us to be mindful of sources of bias and error."
      ]
    },
    {
      "cell_type": "markdown",
      "metadata": {
        "id": "Jzc949hid6zY",
        "colab_type": "text"
      },
      "source": [
        "Now that we have a dataset, we can go back to where we started from. What is the relationship between infant mortality rate, and country's average income?\n",
        "\n",
        "Let's play around with this dataset in the [Gapminder tool](https://tinyurl.com/tkzrfsd).  "
      ]
    },
    {
      "cell_type": "markdown",
      "metadata": {
        "colab_type": "text",
        "id": "AK7de8Cumsv-"
      },
      "source": [
        "Playing around with the data, we observe the following facts:\n",
        "1. In 2015, we observe a negative relationship between the average income of a country, and its infant mortality rate. \n",
        "2. We observe that United States has an infant mortality rate that is high for our average income level. \n",
        "3. For many countries, the negative relationship is consistent over time. Infant mortality rate decreases as average income increases. \n",
        "\n"
      ]
    },
    {
      "cell_type": "markdown",
      "metadata": {
        "id": "lkwpF55ZoEXO",
        "colab_type": "text"
      },
      "source": [
        "Let's focus on the United States. It turns out, many states in the US are aware of the problem on infant mortality and are doing something about it! "
      ]
    },
    {
      "cell_type": "markdown",
      "metadata": {
        "id": "6plvIIceeksz",
        "colab_type": "text"
      },
      "source": [
        "# Tackling infant mortality in United States\n",
        "![alt text](https://cdn1.imggmi.com/uploads/2019/12/2/55702e2cb1e1740000cd25fc49d30c2b-full.png)\n",
        "\n",
        "[New Jersey](https://www.cnn.com/2017/01/26/health/new-jersey-baby-boxes-safe-sleep/index.html) [Ohio](https://www.cleveland.com/metro/2017/03/free_baby_boxes_offered_to_ohi.html) [Alabama](https://whnt.com/2017/03/27/alabama-initiates-statewide-baby-box-program/) [California](https://sacramento.cbslocal.com/2018/03/07/baby-box-sleeping-infant/)"
      ]
    },
    {
      "cell_type": "markdown",
      "metadata": {
        "id": "HFUO9grt2nzh",
        "colab_type": "text"
      },
      "source": [
        "## Interactive discussion with student\n",
        "You have all read about this Finnish baby boxes. What do you think of the baby boxes? \n"
      ]
    },
    {
      "cell_type": "markdown",
      "metadata": {
        "id": "krhXSQBjfhU7",
        "colab_type": "text"
      },
      "source": [
        "Potential answers\n",
        "\n",
        "* Finland has lowest imr - must be doing something right\n",
        "* imr in Finland has been decreasing "
      ]
    },
    {
      "cell_type": "markdown",
      "metadata": {
        "id": "TL_9FppUKTAC",
        "colab_type": "text"
      },
      "source": [
        "# Infant mortality in Finland\n",
        "## Trends in infant mortality\n",
        "One piece of evidence that appeared in both articles is the following graph of infant mortality in Finland. It demonstrates that since the introduction of the baby box program in 1938, Finland's infant mortality rate has been falling. \n",
        "\n",
        "![alt text](https://ichef.bbci.co.uk/news/624/media/images/67954000/gif/_67954690_infant_mortality_464_2.gif)\n",
        "\n",
        "**Discussion Question** What comes to your mind when you look at this graph? \n",
        "Do a think-pair-share and discuss as a class."
      ]
    },
    {
      "cell_type": "markdown",
      "metadata": {
        "id": "uVYzM8WaopPf",
        "colab_type": "text"
      },
      "source": [
        "Let's try to reproduce this graph. We can get the original dataset from [Statistics Finland](https://findikaattori.fi/en/45#_ga=2.191680490.1742356036.1576481773-110359197.1572887718). "
      ]
    },
    {
      "cell_type": "code",
      "metadata": {
        "id": "6v576PjrFg_A",
        "colab_type": "code",
        "cellView": "form",
        "colab": {}
      },
      "source": [
        "#@title Import Libraries\n",
        "import pandas as pd\n",
        "import numpy as np\n",
        "import matplotlib.pyplot as plt"
      ],
      "execution_count": 0,
      "outputs": []
    },
    {
      "cell_type": "code",
      "metadata": {
        "id": "ZPGGM4EvFkI8",
        "colab_type": "code",
        "cellView": "form",
        "colab": {}
      },
      "source": [
        "#@title Load the Finland infant mortality data\n",
        "finland_imr_url = 'https://github.com/sanqian-zhang/DS10FinnishBabyBox/raw/master/imevaiskuolleisuus.xls'\n",
        "finland_imr = pd.read_excel(finland_imr_url, sheet_name=0, skiprows=2, decimal=',')\n",
        "# Naming the columns appropriately and removing rows \n",
        "finland_imr.columns = ['year', 'IMR']\n",
        "finland_imr = finland_imr.dropna().copy()\n",
        "finland_imr['year'] = finland_imr.year.astype('float32')"
      ],
      "execution_count": 0,
      "outputs": []
    },
    {
      "cell_type": "code",
      "metadata": {
        "id": "1gLtSUapOkYa",
        "colab_type": "code",
        "cellView": "form",
        "outputId": "0ad881f1-73ca-4fbb-f91b-14b3bb6893af",
        "colab": {
          "base_uri": "https://localhost:8080/",
          "height": 279
        }
      },
      "source": [
        "#@title Reproducting graph of Infant Mortality in Finland \n",
        "starting_year = 1935 #@param {type:\"slider\", min:1751, max:1935, step:1}\n",
        "finland_imr[finland_imr.year > starting_year].plot.line(x='year', y='IMR')\n",
        "plt.axvline(x=1938, color='r')\n",
        "\n",
        "#some historical events in Finland\n",
        "#plt.axvline(x=1808, color='g') # finnish war\n",
        "#plt.axvline(x=1866, color='g') # finnish famine, 1866 - 1868\n",
        "#plt.axvline(x=1918, color='g') # ww1 period + spanish flu\n",
        "#plt.axvline(x=1939, color='g') # various wars, including ww2\n",
        "\n",
        "plt.ylabel('Infant Mortality per 1000 live births')\n",
        "plt.show()"
      ],
      "execution_count": 0,
      "outputs": [
        {
          "output_type": "display_data",
          "data": {
            "image/png": "[encoded data removed]",
            "text/plain": [
              "<Figure size 432x288 with 1 Axes>"
            ]
          },
          "metadata": {
            "tags": []
          }
        }
      ]
    },
    {
      "cell_type": "markdown",
      "metadata": {
        "id": "3D4Y6g7TpcrL",
        "colab_type": "text"
      },
      "source": [
        "One misleading aspect of the graph presented in the articles is that it started the graph in 1935. After changing the starting year of the graph, we make the following observations: \n",
        "> * The overall trend in IMR is decreasing over time. The decrease started long before 1930s-1940s. When we examine the entire graph, we cannot claim that the decrease started after the implementation of the Baby Box program. \n",
        "> * There are a lot of fluctuations in IMR from year to year: \n",
        ">> - some of the fluctuations correspond to historical events such as war or famine.\n",
        ">> - fluctuations tend to be higher in the past in the past.  "
      ]
    },
    {
      "cell_type": "markdown",
      "metadata": {
        "id": "dHYY5FcPgNL3",
        "colab_type": "text"
      },
      "source": [
        "## More analysis based on the time series\n",
        "\n",
        "We observe that the downward trend in IMR started way before the baby box program started. However, does that imply that nothing changed about the IMR in Finland from 1940s? \n",
        "\n",
        "Let's take a closer look at the data. "
      ]
    },
    {
      "cell_type": "markdown",
      "metadata": {
        "id": "U61ScTpBrzhf",
        "colab_type": "text"
      },
      "source": [
        "### 1. Addressing fluctuations in the data. \n",
        "One aspect we highlighted about the data is that the fluctuation in data is much higher in the past (when the value of IMR is higher). At more recent times, the fluctuations are getting smaller. What are possible reasons? \n",
        "\n",
        "One, of course, is that we can argue that data quality is improving over time. However, more fundamentally, we might expect that this is due to multiplicative error in the data. \n",
        "\n",
        "When we encounter non-negative quantities like rate or prices (income), it is more reasonable when we think of errors in relative scale. Think about price, a \\\\$10 discount on a \\\\$100 dollar item gives a 10% reduction in price, while a \\\\$10 discount on a \\\\$1000 dollar item gives a 1% reduction in price. It doesn't make sense to consider the \\\\$10 dollar difference to have the same impact on the \\\\$100 dollar item and the \\\\$1000 item. Similarly, when we look at error in our data that is non-negative, the amount of distortion caused by an error of magnitude 1 has different impact when the true quantity is 1 or 10 or 100. Hence, it would be much more sensible to consider error on a relative scale. \n",
        "\n",
        "How do we incorporate the idea of such multiplicative error? One common tool is taking the $\\log$ transformation. It doesn't matter which base we use - typically we use the natural $\\log$. Why does the $\\log$ transformation work? \n",
        "\n",
        "Suppose the true value of the data is $x$, and our measured value is $0.99x$. The error in measurement is $0.01x$ which changes depending on the value of $x$. However, if we consider the log-transformation, the logged-true value is $\\log(x)$. The logged-measured value is $\\log(0.99x)$. By properties of the log, \n",
        "$$\n",
        "\\log(ab) = \\log(a) + \\log(b),\n",
        "$$ this quantity is $\\log(0.99)+\\log(x)$. Hence, the error on log-scale is $-\\log(0.99)$. This error doesn't depend on the value of $x$. \n",
        " "
      ]
    },
    {
      "cell_type": "code",
      "metadata": {
        "id": "mHkWLW0tLaUI",
        "colab_type": "code",
        "cellView": "both",
        "outputId": "e5dbf37f-0f6e-4265-c9d2-c6cb80adaf25",
        "colab": {
          "base_uri": "https://localhost:8080/",
          "height": 296
        }
      },
      "source": [
        "#@title Getting log-transformed data\n",
        "finland_imr['log10_IMR'] = np.log10(finland_imr.IMR)\n",
        "finland_imr.plot.line(x='year', y='log10_IMR')\n",
        "plt.axvline(x=1938, color='r', lw=0.5, ls = '--')\n",
        "plt.ylabel('Log( Infant Mortality Rate )')"
      ],
      "execution_count": 0,
      "outputs": [
        {
          "output_type": "execute_result",
          "data": {
            "text/plain": [
              "Text(0, 0.5, 'Log( Infant Mortality Rate )')"
            ]
          },
          "metadata": {
            "tags": []
          },
          "execution_count": 4
        },
        {
          "output_type": "display_data",
          "data": {
            "image/png": "[encoded data removed]",
            "text/plain": [
              "<Figure size 432x288 with 1 Axes>"
            ]
          },
          "metadata": {
            "tags": []
          }
        }
      ]
    },
    {
      "cell_type": "code",
      "metadata": {
        "id": "_4BtpGKFDUNT",
        "colab_type": "code",
        "colab": {}
      },
      "source": [
        ""
      ],
      "execution_count": 0,
      "outputs": []
    },
    {
      "cell_type": "markdown",
      "metadata": {
        "id": "8kibhFtewqhH",
        "colab_type": "text"
      },
      "source": [
        "After log-transformation, we get a clearer picture of the trend. Indeed the data has been consistently decreasing. However, the speed of change seems different before and after the baby box program.\n",
        "\n",
        "To take a closer look, I took the data before 1935, and the data after 1940, and fitted seperate $\\texttt{lowess}$ curves to each data series. Lo(cally) we(ighted) s(catterplot) s(moothing) is one way to understand trend in the data without making explicit assumptions about the shape of the trend. The $\\texttt{frac}$ parameter in the function controls the smoothness of the resulting line. Play around with the parameter to see what happens to the fitted trend lines. "
      ]
    },
    {
      "cell_type": "code",
      "metadata": {
        "id": "6NjVrXtg8jcQ",
        "colab_type": "code",
        "cellView": "form",
        "outputId": "52509c6f-fecc-43f7-cb49-44f313a0ca9f",
        "colab": {
          "base_uri": "https://localhost:8080/",
          "height": 279
        }
      },
      "source": [
        "#@title Fitting a lowess\n",
        "frac_in_lowess = 0.15 #@param {type:\"slider\", min:0, max:1, step:0.05}\n",
        "from statsmodels.nonparametric.smoothers_lowess import lowess\n",
        "y_smooth_before = lowess(finland_imr.log10_IMR[finland_imr.year < 1935],\n",
        "            finland_imr.year[finland_imr.year < 1935],\n",
        "            is_sorted=True,\n",
        "            frac=frac_in_lowess)\n",
        "y_smooth_after = lowess(finland_imr.log10_IMR[finland_imr.year > 1940],\n",
        "            finland_imr.year[finland_imr.year > 1940],\n",
        "            is_sorted=True,\n",
        "            frac=frac_in_lowess)\n",
        "plt.plot(finland_imr.year[finland_imr.year < 1935], y_smooth_before[:,1])\n",
        "plt.plot(finland_imr.year[finland_imr.year > 1940], y_smooth_after[:,1])\n",
        "plt.ylabel('Log( Infant Mortality Rate )')\n",
        "plt.xlabel('Year')\n",
        "plt.show()"
      ],
      "execution_count": 0,
      "outputs": [
        {
          "output_type": "display_data",
          "data": {
            "image/png": "[encoded data removed]",
            "text/plain": [
              "<Figure size 432x288 with 1 Axes>"
            ]
          },
          "metadata": {
            "tags": []
          }
        }
      ]
    },
    {
      "cell_type": "code",
      "metadata": {
        "id": "BaCOV-VUiBiP",
        "colab_type": "code",
        "outputId": "dd24ad44-d850-4786-9ce0-651881da6032",
        "colab": {
          "base_uri": "https://localhost:8080/",
          "height": 236
        }
      },
      "source": [
        "## simulate constant percentage reduction \n",
        "\n",
        "T = 100\n",
        "time_seq = np.linspace(start=1, stop=T, num=T) - 1\n",
        "log_imr_t0 = 2.5\n",
        "#rate_of_reduction=0.2\n",
        "#log_imr = time_seq * np.log(rate_of_reduction) + log_imr_t0 "
      ],
      "execution_count": 0,
      "outputs": [
        {
          "output_type": "error",
          "ename": "NameError",
          "evalue": "ignored",
          "traceback": [
            "\u001b[0;31m---------------------------------------------------------------------------\u001b[0m",
            "\u001b[0;31mNameError\u001b[0m                                 Traceback (most recent call last)",
            "\u001b[0;32m<ipython-input-1-12125dae3654>\u001b[0m in \u001b[0;36m<module>\u001b[0;34m()\u001b[0m\n\u001b[1;32m      1\u001b[0m \u001b[0;34m\u001b[0m\u001b[0m\n\u001b[1;32m      2\u001b[0m \u001b[0mT\u001b[0m \u001b[0;34m=\u001b[0m \u001b[0;36m100\u001b[0m\u001b[0;34m\u001b[0m\u001b[0;34m\u001b[0m\u001b[0m\n\u001b[0;32m----> 3\u001b[0;31m \u001b[0mtime_seq\u001b[0m \u001b[0;34m=\u001b[0m \u001b[0mnp\u001b[0m\u001b[0;34m.\u001b[0m\u001b[0mlinspace\u001b[0m\u001b[0;34m(\u001b[0m\u001b[0mstart\u001b[0m\u001b[0;34m=\u001b[0m\u001b[0;36m1\u001b[0m\u001b[0;34m,\u001b[0m \u001b[0mstop\u001b[0m\u001b[0;34m=\u001b[0m\u001b[0mT\u001b[0m\u001b[0;34m,\u001b[0m \u001b[0mnum\u001b[0m\u001b[0;34m=\u001b[0m\u001b[0mT\u001b[0m\u001b[0;34m)\u001b[0m \u001b[0;34m-\u001b[0m \u001b[0;36m1\u001b[0m\u001b[0;34m\u001b[0m\u001b[0;34m\u001b[0m\u001b[0m\n\u001b[0m\u001b[1;32m      4\u001b[0m \u001b[0mlog_imr_t0\u001b[0m \u001b[0;34m=\u001b[0m \u001b[0;36m2.5\u001b[0m\u001b[0;34m\u001b[0m\u001b[0;34m\u001b[0m\u001b[0m\n\u001b[1;32m      5\u001b[0m \u001b[0;31m#rate_of_reduction=0.2\u001b[0m\u001b[0;34m\u001b[0m\u001b[0;34m\u001b[0m\u001b[0;34m\u001b[0m\u001b[0m\n",
            "\u001b[0;31mNameError\u001b[0m: name 'np' is not defined"
          ]
        }
      ]
    },
    {
      "cell_type": "code",
      "metadata": {
        "id": "vHsYorPLjhNr",
        "colab_type": "code",
        "colab": {}
      },
      "source": [
        "log_imr_r2 = time_seq * np.log(0.2) + log_imr_t0 \n",
        "log_imr_r8 = time_seq * np.log(0.8) + log_imr_t0 "
      ],
      "execution_count": 0,
      "outputs": []
    },
    {
      "cell_type": "code",
      "metadata": {
        "id": "80Uj2fpwi1TV",
        "colab_type": "code",
        "outputId": "1efa9c91-429c-4038-de8a-742e66bfd917",
        "colab": {
          "base_uri": "https://localhost:8080/",
          "height": 282
        }
      },
      "source": [
        "plt.plot(np.exp(log_imr_r2))\n",
        "plt.plot(np.exp(log_imr_r8))\n",
        "plt.legend(['r=0.2', 'r=0.8'])"
      ],
      "execution_count": 0,
      "outputs": [
        {
          "output_type": "execute_result",
          "data": {
            "text/plain": [
              "<matplotlib.legend.Legend at 0x7fd9c43b9be0>"
            ]
          },
          "metadata": {
            "tags": []
          },
          "execution_count": 21
        },
        {
          "output_type": "display_data",
          "data": {
            "image/png": "[encoded data removed]",
            "text/plain": [
              "<Figure size 432x288 with 1 Axes>"
            ]
          },
          "metadata": {
            "tags": []
          }
        }
      ]
    },
    {
      "cell_type": "markdown",
      "metadata": {
        "id": "jATlLBYw_z5k",
        "colab_type": "text"
      },
      "source": [
        "### 2. Analyzing the rate of change\n",
        "We observe that the fitted trend lines look very different before and after the baby box program. From the trend lines, it seems that there is a change in rate of change. If we were given a smooth trend line as a function of $t$, we would have been analyzing the 2nd order derivative. However, the data is much more noisy that any smooth function of $t$. How can we examine this difference? "
      ]
    },
    {
      "cell_type": "markdown",
      "metadata": {
        "id": "T9eOCYd6hiEy",
        "colab_type": "text"
      },
      "source": [
        "One trick is to analyze the $k$-year lagged difference. That is, we look at the observation in year $t$, $y_t$ and compare it against $y_{t-k}$ for some value of $k$. "
      ]
    },
    {
      "cell_type": "code",
      "metadata": {
        "id": "5ypFmh-LZBJM",
        "colab_type": "code",
        "outputId": "2139d5d2-2265-4f8c-ddb3-5c79d0f33765",
        "cellView": "both",
        "colab": {
          "base_uri": "https://localhost:8080/",
          "height": 238
        }
      },
      "source": [
        "#@title Lagged difference in IMR\n",
        "k_lag = 1 #@param {type:\"slider\", min:1, max:20, step:1}\n",
        "plt.plot(finland_imr.year, finland_imr.log10_IMR.diff(periods=k_lag))\n",
        "average_diff_before = np.mean(finland_imr.log10_IMR.diff(periods=k_lag)[finland_imr.year < 1935])\n",
        "plt.axhline(y=average_diff_before, color='black', lw=0.5, ls='--')\n",
        "average_diff_after = np.mean(finland_imr.log10_IMR.diff(periods=k_lag)[finland_imr.year > 1940])\n",
        "plt.axhline(y=average_diff_after, color='orange', lw=1, ls='--')\n",
        "plt.axvline(x=1938, color='r', lw=0.5, ls='--')"
      ],
      "execution_count": 0,
      "outputs": [
        {
          "output_type": "error",
          "ename": "NameError",
          "evalue": "ignored",
          "traceback": [
            "\u001b[0;31m---------------------------------------------------------------------------\u001b[0m",
            "\u001b[0;31mNameError\u001b[0m                                 Traceback (most recent call last)",
            "\u001b[0;32m<ipython-input-1-77111a7b9819>\u001b[0m in \u001b[0;36m<module>\u001b[0;34m()\u001b[0m\n\u001b[1;32m      1\u001b[0m \u001b[0mk_lag\u001b[0m \u001b[0;34m=\u001b[0m \u001b[0;36m1\u001b[0m \u001b[0;31m#@param {type:\"slider\", min:1, max:20, step:1}\u001b[0m\u001b[0;34m\u001b[0m\u001b[0;34m\u001b[0m\u001b[0m\n\u001b[0;32m----> 2\u001b[0;31m \u001b[0mplt\u001b[0m\u001b[0;34m.\u001b[0m\u001b[0mplot\u001b[0m\u001b[0;34m(\u001b[0m\u001b[0mfinland_imr\u001b[0m\u001b[0;34m.\u001b[0m\u001b[0myear\u001b[0m\u001b[0;34m,\u001b[0m \u001b[0mfinland_imr\u001b[0m\u001b[0;34m.\u001b[0m\u001b[0mlog10_IMR\u001b[0m\u001b[0;34m.\u001b[0m\u001b[0mdiff\u001b[0m\u001b[0;34m(\u001b[0m\u001b[0mperiods\u001b[0m\u001b[0;34m=\u001b[0m\u001b[0mk_lag\u001b[0m\u001b[0;34m)\u001b[0m\u001b[0;34m)\u001b[0m\u001b[0;34m\u001b[0m\u001b[0;34m\u001b[0m\u001b[0m\n\u001b[0m\u001b[1;32m      3\u001b[0m \u001b[0maverage_diff_before\u001b[0m \u001b[0;34m=\u001b[0m \u001b[0mnp\u001b[0m\u001b[0;34m.\u001b[0m\u001b[0mmean\u001b[0m\u001b[0;34m(\u001b[0m\u001b[0mfinland_imr\u001b[0m\u001b[0;34m.\u001b[0m\u001b[0mlog10_IMR\u001b[0m\u001b[0;34m.\u001b[0m\u001b[0mdiff\u001b[0m\u001b[0;34m(\u001b[0m\u001b[0mperiods\u001b[0m\u001b[0;34m=\u001b[0m\u001b[0mk_lag\u001b[0m\u001b[0;34m)\u001b[0m\u001b[0;34m[\u001b[0m\u001b[0mfinland_imr\u001b[0m\u001b[0;34m.\u001b[0m\u001b[0myear\u001b[0m \u001b[0;34m<\u001b[0m \u001b[0;36m1935\u001b[0m\u001b[0;34m]\u001b[0m\u001b[0;34m)\u001b[0m\u001b[0;34m\u001b[0m\u001b[0;34m\u001b[0m\u001b[0m\n\u001b[1;32m      4\u001b[0m \u001b[0mplt\u001b[0m\u001b[0;34m.\u001b[0m\u001b[0maxhline\u001b[0m\u001b[0;34m(\u001b[0m\u001b[0my\u001b[0m\u001b[0;34m=\u001b[0m\u001b[0maverage_diff_before\u001b[0m\u001b[0;34m,\u001b[0m \u001b[0mcolor\u001b[0m\u001b[0;34m=\u001b[0m\u001b[0;34m'black'\u001b[0m\u001b[0;34m,\u001b[0m \u001b[0mlw\u001b[0m\u001b[0;34m=\u001b[0m\u001b[0;36m0.5\u001b[0m\u001b[0;34m,\u001b[0m \u001b[0mls\u001b[0m\u001b[0;34m=\u001b[0m\u001b[0;34m'--'\u001b[0m\u001b[0;34m)\u001b[0m\u001b[0;34m\u001b[0m\u001b[0;34m\u001b[0m\u001b[0m\n\u001b[1;32m      5\u001b[0m \u001b[0maverage_diff_after\u001b[0m \u001b[0;34m=\u001b[0m \u001b[0mnp\u001b[0m\u001b[0;34m.\u001b[0m\u001b[0mmean\u001b[0m\u001b[0;34m(\u001b[0m\u001b[0mfinland_imr\u001b[0m\u001b[0;34m.\u001b[0m\u001b[0mlog10_IMR\u001b[0m\u001b[0;34m.\u001b[0m\u001b[0mdiff\u001b[0m\u001b[0;34m(\u001b[0m\u001b[0mperiods\u001b[0m\u001b[0;34m=\u001b[0m\u001b[0mk_lag\u001b[0m\u001b[0;34m)\u001b[0m\u001b[0;34m[\u001b[0m\u001b[0mfinland_imr\u001b[0m\u001b[0;34m.\u001b[0m\u001b[0myear\u001b[0m \u001b[0;34m>\u001b[0m \u001b[0;36m1940\u001b[0m\u001b[0;34m]\u001b[0m\u001b[0;34m)\u001b[0m\u001b[0;34m\u001b[0m\u001b[0;34m\u001b[0m\u001b[0m\n",
            "\u001b[0;31mNameError\u001b[0m: name 'plt' is not defined"
          ]
        }
      ]
    },
    {
      "cell_type": "code",
      "metadata": {
        "id": "cG6sXfKaDzAj",
        "colab_type": "code",
        "outputId": "6001bbe3-f14e-4b8c-8b22-ab339f1a8f1e",
        "colab": {
          "base_uri": "https://localhost:8080/",
          "height": 282
        }
      },
      "source": [
        "plt.plot(finland_imr.year, finland_imr.log10_IMR.diff(periods=1))"
      ],
      "execution_count": 0,
      "outputs": [
        {
          "output_type": "execute_result",
          "data": {
            "text/plain": [
              "[<matplotlib.lines.Line2D at 0x7f4f91f29b70>]"
            ]
          },
          "metadata": {
            "tags": []
          },
          "execution_count": 6
        },
        {
          "output_type": "display_data",
          "data": {
            "image/png": "[encoded data removed]",
            "text/plain": [
              "<Figure size 432x288 with 1 Axes>"
            ]
          },
          "metadata": {
            "tags": []
          }
        }
      ]
    },
    {
      "cell_type": "markdown",
      "metadata": {
        "id": "F2Nyjc4WGnYW",
        "colab_type": "text"
      },
      "source": [
        "From the graph, we can see that the average of $k$-lagged difference is lower after 1940 than before 1935. "
      ]
    },
    {
      "cell_type": "markdown",
      "metadata": {
        "id": "wWYkppMgiEBk",
        "colab_type": "text"
      },
      "source": [
        "# Pause and reflection\n",
        "Think about what we did so far. What analysis did we do? What did you learn? What is your perspective on effectiveness of the Finnish baby box? \n",
        "\n",
        "Talk to your neighbour about this. "
      ]
    },
    {
      "cell_type": "markdown",
      "metadata": {
        "id": "-Q7ljcRNjv26",
        "colab_type": "text"
      },
      "source": [
        "# What do the Finnish think? \n",
        "\n",
        "States in the US were not the only governments to take an interest in the Finnish baby boxes. In 2017, Scotland decided to [issue baby boxes](https://www.mygov.scot/baby-box/) too. And here is how the [ Finnish responded:](https://www.theguardian.com/society/2018/may/03/finland-disputes-scotlands-baby-box-claims-after-expert-warning)\n",
        "\n",
        ">> “We don’t want to promote the idea that there is evidence the baby box as such has decreased infant mortality in Finland or that Finland has made such claims. Rather, it has been the improving of our healthcare system of which the baby box is a part of, that our low infant mortality can be attributed to,” a Kela spokesperson said.\n",
        "\n",
        ">> “Empirical data on the effect of the maternity package on infant mortality does not exist.”\n"
      ]
    },
    {
      "cell_type": "markdown",
      "metadata": {
        "id": "H2TdgHFSLHTv",
        "colab_type": "text"
      },
      "source": [
        "# What happened in Finland in 1940s? \n",
        "* The original [baby box program](https://blogi.thl.fi/finlands-low-infant-mortality-has-multiple-contributing-factors/)\n",
        "> It was a means by which pregnant women were encouraged to use maternity welfare services, and mothers gained access to public health care services. Mothers were also encouraged through family policy to look after their own and their child’s health.\n",
        " \n"
      ]
    },
    {
      "cell_type": "markdown",
      "metadata": {
        "id": "HalgWvOxbzCU",
        "colab_type": "text"
      },
      "source": [
        "Given the context, consider the following claim:\n",
        "* Trends in Finland's infant mortality rate changed since 1940. \n",
        "* The baby box program was implemented between 1938 - 1940.\n",
        "* Hence, the baby box program changed trends in Finland's infant mortality rate. \n",
        "\n",
        "To what extent do you agree with the claims above? "
      ]
    },
    {
      "cell_type": "markdown",
      "metadata": {
        "id": "EM9CmqrvWOzZ",
        "colab_type": "text"
      },
      "source": [
        "\n",
        ">> The occurrence of an effect after an event doesn't imply causal impact of an event. Maybe the effect would have happened regardless of the event (time trend). Maybe the effect is caused by other events that we didn't observe. "
      ]
    },
    {
      "cell_type": "markdown",
      "metadata": {
        "id": "TFpdg7S-cMcU",
        "colab_type": "text"
      },
      "source": [
        "Consider two more questions:\n",
        "* Did the baby box program change the trends in Finland's infant mortality rate?\n",
        "* Did the use of baby box change the trends in Finland's infant mortality rate?\n",
        "\n",
        "How do the answer to these two questions differ? "
      ]
    },
    {
      "cell_type": "markdown",
      "metadata": {
        "id": "uz4QyjckWoG6",
        "colab_type": "text"
      },
      "source": [
        ">> Program itself having an effect doesn't tell us which part of the program was effective. "
      ]
    },
    {
      "cell_type": "markdown",
      "metadata": {
        "id": "KzV-ZkNvmEo7",
        "colab_type": "text"
      },
      "source": [
        "## Policy impact evaluation\n",
        "It seems that we cannot answer the question whether baby boxes are effective in reducing infant mortality cleanly. \n",
        "If you can go back to 1938 in Finland - how would you establish empirical evidence on whether the the baby box program worked? \n"
      ]
    },
    {
      "cell_type": "markdown",
      "metadata": {
        "id": "77WZvO8-lhWw",
        "colab_type": "text"
      },
      "source": [
        "Here are some guiding questions to go through.\n",
        "1. Did the baby box program work?\n",
        "2. If the baby box program worked, what was the mechanism by which it worked? \n",
        "> * Did it work because of improving pre-natal care?\n",
        "> * Did it work because of pre-natal education?\n",
        "> * Did it work because of letting babies sleeping in baby boxes?\n",
        "> * Did it work because of better benefits (goods given)?"
      ]
    },
    {
      "cell_type": "markdown",
      "metadata": {
        "id": "FKe1Mi7uugrR",
        "colab_type": "text"
      },
      "source": [
        "Things to discuss\n",
        "- Use RCT to determine effect\n",
        "- Need to distinguish between effect of the program overall vs which is the element that was effective "
      ]
    },
    {
      "cell_type": "markdown",
      "metadata": {
        "id": "rct8QomIvrix",
        "colab_type": "text"
      },
      "source": [
        "## Generalizing results \n",
        "\n",
        "Suppose the baby box program worked in Finland - how do we know it would work in the US? \n",
        "\n",
        "* Depend on mechanism and context \n",
        "* Need to be careful about generalization of result"
      ]
    },
    {
      "cell_type": "markdown",
      "metadata": {
        "id": "9vbVceQRwQy2",
        "colab_type": "text"
      },
      "source": [
        "# Last part\n",
        "Say you are the mayor of washington DC - one of the states in US with high IMR. Your consultants suggested that you can try to roll out the baby box program. What would you do? "
      ]
    },
    {
      "cell_type": "markdown",
      "metadata": {
        "id": "1voZDcq0iqF_",
        "colab_type": "text"
      },
      "source": [
        "# Homework \n",
        "Idea for homework: focus on dissecting causal claims: \n",
        "Here is a [review](https://www.glamour.com/story/curology-review) of a skincare product. Identify the causal claim(s) made in the review and discuss potential confounding factors. \n",
        "How would you establish a valid causal claim on this individual? To what extent is this result generalizable? "
      ]
    }
  ]
}