{
 "cells": [
  {
   "cell_type": "markdown",
   "metadata": {
    "slideshow": {
     "slide_type": "skip"
    }
   },
   "source": [
    "<a href=\"https://colab.research.google.com/github/stat10/DS10-Case-Studies/blob/master/Mexico-Deaths.ipynb\" target=\"_parent\"><img src=\"https://colab.research.google.com/assets/colab-badge.svg\" alt=\"Open In Colab\"/></a>"
   ]
  },
  {
   "cell_type": "code",
   "execution_count": 9,
   "metadata": {
    "slideshow": {
     "slide_type": "skip"
    }
   },
   "outputs": [],
   "source": [
    "import numpy as np\n",
    "import pandas as pd\n",
    "import matplotlib.pyplot as plt\n",
    "from pandas.plotting import register_matplotlib_converters\n",
    "import os\n",
    "register_matplotlib_converters()"
   ]
  },
  {
   "cell_type": "markdown",
   "metadata": {
    "slideshow": {
     "slide_type": "slide"
    }
   },
   "source": [
    "# Mexico for Spring Break or Death\n",
    "---"
   ]
  },
  {
   "cell_type": "markdown",
   "metadata": {
    "slideshow": {
     "slide_type": "slide"
    }
   },
   "source": [
    "## Mexico for spring break is dangerous?\n",
    "![alt text](https://raw.githubusercontent.com/stat10/DS10-Case-Studies/master/Images/test.png)"
   ]
  },
  {
   "cell_type": "markdown",
   "metadata": {
    "slideshow": {
     "slide_type": "slide"
    }
   },
   "source": [
    "![alt text](https://raw.githubusercontent.com/stat10/DS10-Case-Studies/master/Images/news_clips_group.png)"
   ]
  },
  {
   "cell_type": "markdown",
   "metadata": {
    "slideshow": {
     "slide_type": "slide"
    }
   },
   "source": [
    "## What parties have a stake in the outcome?"
   ]
  },
  {
   "cell_type": "markdown",
   "metadata": {
    "slideshow": {
     "slide_type": "fragment"
    }
   },
   "source": []
  },
  {
   "cell_type": "markdown",
   "metadata": {
    "slideshow": {
     "slide_type": "fragment"
    }
   },
   "source": [
    "- the public\n",
    "- travel agents\n",
    "- mexico tourism board\n",
    "- airlines\n",
    "- US government\n",
    "- US embassies\n",
    "- Schools"
   ]
  },
  {
   "cell_type": "markdown",
   "metadata": {
    "slideshow": {
     "slide_type": "slide"
    }
   },
   "source": [
    "![alt text](https://raw.githubusercontent.com/stat10/DS10-Case-Studies/master/Images/Screen-Shot-1.png)"
   ]
  },
  {
   "cell_type": "markdown",
   "metadata": {
    "slideshow": {
     "slide_type": "slide"
    }
   },
   "source": [
    "## What data do we need to know if this is true?"
   ]
  },
  {
   "cell_type": "markdown",
   "metadata": {
    "slideshow": {
     "slide_type": "fragment"
    }
   },
   "source": []
  },
  {
   "cell_type": "markdown",
   "metadata": {
    "slideshow": {
     "slide_type": "slide"
    }
   },
   "source": [
    "## In class Exercise: Find a Data Source for this Online (2 min)\n",
    "\n",
    "In 2003, the Foreign Relations Authorization Act mandated that, \"to the maximum extent practicable, the US Department of State collect and make available on the Department's Bureau of Consular Affairs Internet [website](https://travel.state.gov/content/travel/en/international-travel/while-abroad/death-abroad1/death-statistics.html) certain information with respect to each United States citizen who dies in a foreign country from a non-natural cause. The information required is: \n",
    "\n",
    "1. the date of death; \n",
    "\n",
    "2. the locality where the death occurred; and \n",
    "\n",
    "3. the cause of death, including, if the death resulted from an act of terrorism, a statement disclosing that fact."
   ]
  },
  {
   "cell_type": "markdown",
   "metadata": {
    "slideshow": {
     "slide_type": "slide"
    }
   },
   "source": [
    "![alt text](https://raw.githubusercontent.com/stat10/DS10-Case-Studies/master/Images/Screen2Shot-2.png)"
   ]
  },
  {
   "cell_type": "markdown",
   "metadata": {
    "slideshow": {
     "slide_type": "slide"
    }
   },
   "source": [
    "We would select which country and time frame we are interested in viewing and select \"download\". This then saves the files. We have uploaded all of the data onto a website called \"Github\" to make it easy for you to run code on the data here."
   ]
  },
  {
   "cell_type": "markdown",
   "metadata": {
    "slideshow": {
     "slide_type": "slide"
    }
   },
   "source": [
    "## Load the data for deaths in Mexico from 2002 to 2018 into this Notebook"
   ]
  },
  {
   "cell_type": "markdown",
   "metadata": {
    "slideshow": {
     "slide_type": "subslide"
    }
   },
   "source": [
    "Read in the data and save it as a dataframe, we can take a look at the first few rows of information.\n",
    "\n",
    "You will notice that the data file has the three pieces of required informationn:\n",
    "\n",
    "\n",
    "Date, City, and Cause of Death\n",
    " \n",
    "We can also look at all the types of Cause of Death (remember these are \"unnatural deaths\")"
   ]
  },
  {
   "cell_type": "code",
   "execution_count": 14,
   "metadata": {
    "slideshow": {
     "slide_type": "subslide"
    }
   },
   "outputs": [
    {
     "data": {
      "text/html": [
       "<div>\n",
       "<style scoped>\n",
       "    .dataframe tbody tr th:only-of-type {\n",
       "        vertical-align: middle;\n",
       "    }\n",
       "\n",
       "    .dataframe tbody tr th {\n",
       "        vertical-align: top;\n",
       "    }\n",
       "\n",
       "    .dataframe thead th {\n",
       "        text-align: right;\n",
       "    }\n",
       "</style>\n",
       "<table border=\"1\" class=\"dataframe\">\n",
       "  <thead>\n",
       "    <tr style=\"text-align: right;\">\n",
       "      <th></th>\n",
       "      <th>Date</th>\n",
       "      <th>City</th>\n",
       "      <th>Cause of Death</th>\n",
       "    </tr>\n",
       "  </thead>\n",
       "  <tbody>\n",
       "    <tr>\n",
       "      <th>0</th>\n",
       "      <td>10/2/02</td>\n",
       "      <td>Guadalajara -  Jalisco -  Mexico</td>\n",
       "      <td>Veh. Accident-Auto</td>\n",
       "    </tr>\n",
       "    <tr>\n",
       "      <th>1</th>\n",
       "      <td>10/2/02</td>\n",
       "      <td>Tijuana -  Baja California Norte -  Mexico</td>\n",
       "      <td>Homicide</td>\n",
       "    </tr>\n",
       "    <tr>\n",
       "      <th>2</th>\n",
       "      <td>10/3/02</td>\n",
       "      <td>Hermosillo -  Sonora -  Mexico</td>\n",
       "      <td>Veh. Accident-Auto</td>\n",
       "    </tr>\n",
       "    <tr>\n",
       "      <th>3</th>\n",
       "      <td>10/6/02</td>\n",
       "      <td>Veracruz -  Veracruz -  Mexico</td>\n",
       "      <td>Suicide</td>\n",
       "    </tr>\n",
       "    <tr>\n",
       "      <th>4</th>\n",
       "      <td>10/8/02</td>\n",
       "      <td>Puerto Vallarta -  Jalisco -  Mexico</td>\n",
       "      <td>Veh. Accident-Motorcycle</td>\n",
       "    </tr>\n",
       "  </tbody>\n",
       "</table>\n",
       "</div>"
      ],
      "text/plain": [
       "      Date                                        City  \\\n",
       "0  10/2/02            Guadalajara -  Jalisco -  Mexico   \n",
       "1  10/2/02  Tijuana -  Baja California Norte -  Mexico   \n",
       "2  10/3/02              Hermosillo -  Sonora -  Mexico   \n",
       "3  10/6/02              Veracruz -  Veracruz -  Mexico   \n",
       "4  10/8/02        Puerto Vallarta -  Jalisco -  Mexico   \n",
       "\n",
       "             Cause of Death  \n",
       "0        Veh. Accident-Auto  \n",
       "1                  Homicide  \n",
       "2        Veh. Accident-Auto  \n",
       "3                   Suicide  \n",
       "4  Veh. Accident-Motorcycle  "
      ]
     },
     "execution_count": 14,
     "metadata": {},
     "output_type": "execute_result"
    }
   ],
   "source": [
    "if not os.path.exists('Data/deaths_mexico_2002_2019.csv'):\n",
    "    !wget 'https://raw.githubusercontent.com/stat10/DS10-Case-Studies/master/Data/deaths_mexico_2002_2019.csv'\n",
    "    df_mexico = pd.read_csv('deaths_mexico_2002_2019.csv', encoding='latin-1')\n",
    "else:\n",
    "    df_mexico = pd.read_csv('Data/deaths_mexico_2002_2019.csv', encoding='latin-1')\n",
    "df_mexico.head()"
   ]
  },
  {
   "cell_type": "markdown",
   "metadata": {
    "slideshow": {
     "slide_type": "slide"
    }
   },
   "source": [
    "## Load the data for all deaths abroad from 2002 to 2018 into this Notebook"
   ]
  },
  {
   "cell_type": "code",
   "execution_count": 15,
   "metadata": {
    "slideshow": {
     "slide_type": "fragment"
    }
   },
   "outputs": [
    {
     "data": {
      "text/html": [
       "<div>\n",
       "<style scoped>\n",
       "    .dataframe tbody tr th:only-of-type {\n",
       "        vertical-align: middle;\n",
       "    }\n",
       "\n",
       "    .dataframe tbody tr th {\n",
       "        vertical-align: top;\n",
       "    }\n",
       "\n",
       "    .dataframe thead th {\n",
       "        text-align: right;\n",
       "    }\n",
       "</style>\n",
       "<table border=\"1\" class=\"dataframe\">\n",
       "  <thead>\n",
       "    <tr style=\"text-align: right;\">\n",
       "      <th></th>\n",
       "      <th>Date</th>\n",
       "      <th>City</th>\n",
       "      <th>Cause of Death</th>\n",
       "    </tr>\n",
       "  </thead>\n",
       "  <tbody>\n",
       "    <tr>\n",
       "      <th>0</th>\n",
       "      <td>10/25/03</td>\n",
       "      <td>Shkin -  Afghanistan</td>\n",
       "      <td>Terrorist Action</td>\n",
       "    </tr>\n",
       "    <tr>\n",
       "      <th>1</th>\n",
       "      <td>10/25/03</td>\n",
       "      <td>Shkin -  Afghanistan</td>\n",
       "      <td>Terrorist Action</td>\n",
       "    </tr>\n",
       "    <tr>\n",
       "      <th>2</th>\n",
       "      <td>8/29/04</td>\n",
       "      <td>Kabul -  Afghanistan</td>\n",
       "      <td>Terrorist Action</td>\n",
       "    </tr>\n",
       "    <tr>\n",
       "      <th>3</th>\n",
       "      <td>8/29/04</td>\n",
       "      <td>Kabul -  Afghanistan</td>\n",
       "      <td>Terrorist Action</td>\n",
       "    </tr>\n",
       "    <tr>\n",
       "      <th>4</th>\n",
       "      <td>8/29/04</td>\n",
       "      <td>Kabul -  Afghanistan</td>\n",
       "      <td>Terrorist Action</td>\n",
       "    </tr>\n",
       "  </tbody>\n",
       "</table>\n",
       "</div>"
      ],
      "text/plain": [
       "       Date                  City    Cause of Death\n",
       "0  10/25/03  Shkin -  Afghanistan  Terrorist Action\n",
       "1  10/25/03  Shkin -  Afghanistan  Terrorist Action\n",
       "2   8/29/04  Kabul -  Afghanistan  Terrorist Action\n",
       "3   8/29/04  Kabul -  Afghanistan  Terrorist Action\n",
       "4   8/29/04  Kabul -  Afghanistan  Terrorist Action"
      ]
     },
     "execution_count": 15,
     "metadata": {},
     "output_type": "execute_result"
    }
   ],
   "source": [
    "if not os.path.exists('Data/deaths_all_2002_2019.csv'):\n",
    "    !wget 'https://raw.githubusercontent.com/stat10/DS10-Case-Studies/master/Data/deaths_all_2002_2019.csv'\n",
    "    df_all = pd.read_csv('deaths_all_2002_2019.csv', encoding='latin-1')\n",
    "else:\n",
    "    df_all = pd.read_csv('Data/deaths_all_2002_2019.csv', encoding='latin-1')\n",
    "df_all.head()"
   ]
  },
  {
   "cell_type": "markdown",
   "metadata": {
    "slideshow": {
     "slide_type": "slide"
    }
   },
   "source": [
    "## Look at types of Causes of Death"
   ]
  },
  {
   "cell_type": "code",
   "execution_count": 33,
   "metadata": {
    "slideshow": {
     "slide_type": "fragment"
    }
   },
   "outputs": [
    {
     "name": "stdout",
     "output_type": "stream",
     "text": [
      "Number of different causes of death = 117\n",
      "\n",
      "['Air Accident' 'Armed Conflict' 'DROWNING' 'DROWNING-BEACH'\n",
      " 'DROWNING-Ocean' 'DROWNING-SEA' 'Disaster' 'Drowning' 'Drowning - Beach'\n",
      " 'Drowning - BeachåÂ\\x89ÛÊ' 'Drowning - Ocean' 'Drowning - OceanåÂ\\x89ÛÊ'\n",
      " 'Drowning - Pool' 'Drowning - PoolåÂ\\x89ÛÊ' 'Drowning - River'\n",
      " 'Drowning -Ocean' 'Drowning- BEACH' 'Drowning- LAKE' 'Drowning- Ocean'\n",
      " 'Drowning-BEACH' 'Drowning-Bay' 'Drowning-Beach' 'Drowning-Bridge'\n",
      " 'Drowning-CANAL' 'Drowning-LAKE' 'Drowning-Lake' 'Drowning-OCEAN'\n",
      " 'Drowning-Ocean' 'Drowning-POOL' 'Drowning-Pool' 'Drowning-RIVER'\n",
      " 'Drowning-River' 'Drowning-beach' 'DrowningåÂ\\x89ÛÊ' 'Drug-Related'\n",
      " 'Drug-related' 'Execution' 'Homicide' 'Homocide' 'Hostage-related'\n",
      " 'Hostage-related ' 'Maritime Accident' 'Natural Disaster' 'Other'\n",
      " 'Other Accid.-Fall' 'Other Accident' 'Other Accident - Fall'\n",
      " 'Other Accident - Mountain Climbing' 'Other Accident - Rafting'\n",
      " 'Other Accident - fall' 'Other Accident-' 'Other Accident- Hiking'\n",
      " 'Other Accident- fall' 'Other Accident-Fall' 'Other Accident-Mountain'\n",
      " 'Other Accident-fall' 'Other AccidentåÂ\\x89ÛÊ' 'Other accident'\n",
      " 'OtheråÂ\\x89ÛÊ Accident' 'Suicide' 'Terrorist Action' 'Train Accident'\n",
      " 'Under Investigation' 'Undetermined/Unknown' 'Undetermined/unknown'\n",
      " 'Unknown' 'Unknown/Undetermined' 'Veh Accident - Auto'\n",
      " 'Veh Accident - Motorcycle' 'Veh-Accident-Bus' 'Veh. Accid'\n",
      " 'Veh. Accid - Auto' 'Veh. Accid - Pedestr.' 'Veh. Accid- Auto'\n",
      " 'Veh. Accid- Bus' 'Veh. Accid- Other' 'Veh. Accid- Pedestr'\n",
      " 'Veh. Accid-Auto' 'Veh. Accid-Bus' 'Veh. Accid-Motorcy.'\n",
      " 'Veh. Accid-Other' 'Veh. Accid-Pedestr.' 'Veh. Accid-Pedestrian'\n",
      " 'Veh. Accid-Train' 'Veh. Accid-bike' 'Veh. Accident'\n",
      " 'Veh. Accident - Auto' 'Veh. Accident - Bus' 'Veh. Accident - Motorcycle'\n",
      " 'Veh. Accident -Auto' 'Veh. Accident- Auto' 'Veh. Accident- Bus'\n",
      " 'Veh. Accident- Pedestrian' 'Veh. Accident-Auto' 'Veh. Accident-Bus'\n",
      " 'Veh. Accident-Motorcycle' 'Veh. Accident-Other' 'Veh. Accident-Pedestr'\n",
      " 'Veh. Accident-Pedestrian' 'Veh. Accident-Train' 'Veh. Accident-other'\n",
      " 'Veh. AccidentåÂ\\x89ÛÊ' 'Veh.Accident-Auto' 'Veh.Accident-Bus'\n",
      " 'Vehic. Accident- Other' 'Vehic. Accident-Auto'\n",
      " 'Vehic. Accident-Motorcycle' 'Vehic. Accident-Train'\n",
      " 'Vehicle Accident - Auto' 'Vehicle Accident - Bus'\n",
      " 'Vehicle Accident - Motorcycle' 'Vehicle Accident - Other'\n",
      " 'Vehicle Accident - Pedestrian' 'Vehicle Accident - Train'\n",
      " 'Vehicle Acid.-Auto' 'homicide' 'other Accident']\n"
     ]
    }
   ],
   "source": [
    "cause_of_deaths = df_all['Cause of Death'].unique()\n",
    "cause_of_deaths.sort()\n",
    "print('Number of different causes of death =', len(cause_of_deaths))\n",
    "print('')\n",
    "print(cause_of_deaths)"
   ]
  },
  {
   "cell_type": "markdown",
   "metadata": {
    "slideshow": {
     "slide_type": "slide"
    }
   },
   "source": [
    "## What are the potential issues with the data?"
   ]
  },
  {
   "cell_type": "markdown",
   "metadata": {
    "slideshow": {
     "slide_type": "fragment"
    }
   },
   "source": []
  },
  {
   "cell_type": "markdown",
   "metadata": {
    "slideshow": {
     "slide_type": "slide"
    }
   },
   "source": [
    "### Let's look at how many deaths there were in Mexico in 2018 versus how many deaths in total."
   ]
  },
  {
   "cell_type": "markdown",
   "metadata": {
    "slideshow": {
     "slide_type": "fragment"
    }
   },
   "source": [
    "Number of deaths in Mexico in 2018 = 196"
   ]
  },
  {
   "cell_type": "markdown",
   "metadata": {
    "slideshow": {
     "slide_type": "fragment"
    }
   },
   "source": [
    "Number of deaths in total abroad in 2018 = 724"
   ]
  },
  {
   "cell_type": "code",
   "execution_count": 38,
   "metadata": {
    "slideshow": {
     "slide_type": "subslide"
    }
   },
   "outputs": [
    {
     "name": "stdout",
     "output_type": "stream",
     "text": [
      "Number of deaths in Mexico in 2018 = 196\n"
     ]
    }
   ],
   "source": [
    "## Code to find number of deaths in Mexico in 2018\n",
    "\n",
    "## make the date column recognzied as a date for mexico\n",
    "df_mexico['Date'] = pd.to_datetime(df_mexico['Date'])\n",
    "start_date = '2018-01-01'\n",
    "end_date = '2018-12-31'\n",
    "mask = (df_mexico['Date'] >= start_date) & (df_mexico['Date'] <= end_date)\n",
    "df_mexico_2018 = df_mexico.loc[mask]\n",
    "deaths_mexico_2018 = len(df_mexico_2018.index)\n",
    "print('Number of deaths in Mexico in 2018 =', deaths_mexico_2018)"
   ]
  },
  {
   "cell_type": "code",
   "execution_count": 39,
   "metadata": {
    "slideshow": {
     "slide_type": "subslide"
    }
   },
   "outputs": [
    {
     "name": "stdout",
     "output_type": "stream",
     "text": [
      "Number of deaths in total abroad in 2018 = 724\n"
     ]
    }
   ],
   "source": [
    "## Code to find number of deaths in total abroad in 2018\n",
    "\n",
    "## make the date column recognzied as a date for mexico\n",
    "df_all['Date'] = pd.to_datetime(df_all['Date'])\n",
    "start_date = '2018-01-01'\n",
    "end_date = '2018-12-31'\n",
    "mask = (df_all['Date'] >= start_date) & (df_all['Date'] <= end_date)\n",
    "df_all_2018 = df_all.loc[mask]\n",
    "deaths_all_2018 = len(df_all_2018.index)\n",
    "print('Number of deaths in total abroad in 2018 =', deaths_all_2018)"
   ]
  },
  {
   "cell_type": "markdown",
   "metadata": {
    "slideshow": {
     "slide_type": "slide"
    }
   },
   "source": [
    "![alt text](https://raw.githubusercontent.com/stat10/DS10-Case-Studies/master/Images/preview.jpg)"
   ]
  },
  {
   "cell_type": "markdown",
   "metadata": {
    "slideshow": {
     "slide_type": "slide"
    }
   },
   "source": [
    "## What do we need to look at in order to understand if this is true?"
   ]
  },
  {
   "cell_type": "code",
   "execution_count": null,
   "metadata": {
    "slideshow": {
     "slide_type": "fragment"
    }
   },
   "outputs": [],
   "source": []
  },
  {
   "cell_type": "markdown",
   "metadata": {
    "slideshow": {
     "slide_type": "slide"
    }
   },
   "source": [
    "### We can see some serious issue with the data when we try to do that"
   ]
  },
  {
   "cell_type": "code",
   "execution_count": null,
   "metadata": {
    "slideshow": {
     "slide_type": "fragment"
    }
   },
   "outputs": [],
   "source": [
    "cause_of_deaths_2018 = df_mexico_2018['Cause of Death'].unique()\n",
    "cause_of_deaths_2018.sort()\n",
    "print(cause_of_deaths_2018)\n",
    "## This result is different from the one in R notebook\n",
    "## Is the data set the same? Or has those issues been fixed in the new dataset?"
   ]
  },
  {
   "cell_type": "markdown",
   "metadata": {
    "slideshow": {
     "slide_type": "slide"
    }
   },
   "source": [
    "### Number of homicides in 2018"
   ]
  },
  {
   "cell_type": "markdown",
   "metadata": {
    "slideshow": {
     "slide_type": "fragment"
    }
   },
   "source": [
    "Number of homicides in Mexico in 2018 = 67"
   ]
  },
  {
   "cell_type": "markdown",
   "metadata": {
    "slideshow": {
     "slide_type": "fragment"
    }
   },
   "source": [
    "Number of homicides in total abroad in 2018 = 132"
   ]
  },
  {
   "cell_type": "code",
   "execution_count": 41,
   "metadata": {
    "slideshow": {
     "slide_type": "subslide"
    }
   },
   "outputs": [
    {
     "name": "stdout",
     "output_type": "stream",
     "text": [
      "Number of homicides in Mexico in 2018 = 67\n"
     ]
    }
   ],
   "source": [
    "## Code to find number of homicides in Mexico in 2018\n",
    "\n",
    "hom_mexico_2018 = (df_mexico_2018['Cause of Death'].values == 'Homicide').sum()\n",
    "print('Number of homicides in Mexico in 2018 =', hom_mexico_2018)"
   ]
  },
  {
   "cell_type": "code",
   "execution_count": 42,
   "metadata": {
    "slideshow": {
     "slide_type": "subslide"
    }
   },
   "outputs": [
    {
     "name": "stdout",
     "output_type": "stream",
     "text": [
      "Number of homicides in total abroad in 2018 = 132\n"
     ]
    }
   ],
   "source": [
    "## Code to find number of homicides in total abroad in 2018\n",
    "\n",
    "hom_all_2018 = (df_all_2018['Cause of Death'].values == 'Homicide').sum()\n",
    "print('Number of homicides in total abroad in 2018 =', hom_all_2018)"
   ]
  },
  {
   "cell_type": "markdown",
   "metadata": {
    "slideshow": {
     "slide_type": "slide"
    }
   },
   "source": [
    "![alt text](https://raw.githubusercontent.com/stat10/DS10-Case-Studies/master/Images/preview2.jpg)"
   ]
  },
  {
   "cell_type": "markdown",
   "metadata": {
    "slideshow": {
     "slide_type": "slide"
    }
   },
   "source": [
    "![alt text](https://raw.githubusercontent.com/stat10/DS10-Case-Studies/master/Images/preview3.jpg)"
   ]
  },
  {
   "cell_type": "markdown",
   "metadata": {
    "slideshow": {
     "slide_type": "slide"
    }
   },
   "source": [
    "### Load Italy deaths data"
   ]
  },
  {
   "cell_type": "code",
   "execution_count": 18,
   "metadata": {
    "slideshow": {
     "slide_type": "fragment"
    }
   },
   "outputs": [
    {
     "data": {
      "text/html": [
       "<div>\n",
       "<style scoped>\n",
       "    .dataframe tbody tr th:only-of-type {\n",
       "        vertical-align: middle;\n",
       "    }\n",
       "\n",
       "    .dataframe tbody tr th {\n",
       "        vertical-align: top;\n",
       "    }\n",
       "\n",
       "    .dataframe thead th {\n",
       "        text-align: right;\n",
       "    }\n",
       "</style>\n",
       "<table border=\"1\" class=\"dataframe\">\n",
       "  <thead>\n",
       "    <tr style=\"text-align: right;\">\n",
       "      <th></th>\n",
       "      <th>Date</th>\n",
       "      <th>City</th>\n",
       "      <th>Cause of Death</th>\n",
       "    </tr>\n",
       "  </thead>\n",
       "  <tbody>\n",
       "    <tr>\n",
       "      <th>0</th>\n",
       "      <td>11/4/02</td>\n",
       "      <td>'strada Provinciale 99' -  Km. 1.3 -  Tortona ...</td>\n",
       "      <td>Veh. Accident-Auto</td>\n",
       "    </tr>\n",
       "    <tr>\n",
       "      <th>1</th>\n",
       "      <td>11/13/02</td>\n",
       "      <td>Venice -  Italy</td>\n",
       "      <td>Other Accident</td>\n",
       "    </tr>\n",
       "    <tr>\n",
       "      <th>2</th>\n",
       "      <td>11/30/02</td>\n",
       "      <td>Perugia -  Italy</td>\n",
       "      <td>Suicide</td>\n",
       "    </tr>\n",
       "    <tr>\n",
       "      <th>3</th>\n",
       "      <td>1/4/03</td>\n",
       "      <td>Italy</td>\n",
       "      <td>Other Accident</td>\n",
       "    </tr>\n",
       "    <tr>\n",
       "      <th>4</th>\n",
       "      <td>5/7/03</td>\n",
       "      <td>Reggio Calabria -  Italy</td>\n",
       "      <td>Suicide</td>\n",
       "    </tr>\n",
       "  </tbody>\n",
       "</table>\n",
       "</div>"
      ],
      "text/plain": [
       "       Date                                               City  \\\n",
       "0   11/4/02  'strada Provinciale 99' -  Km. 1.3 -  Tortona ...   \n",
       "1  11/13/02                                    Venice -  Italy   \n",
       "2  11/30/02                                   Perugia -  Italy   \n",
       "3    1/4/03                                              Italy   \n",
       "4    5/7/03                           Reggio Calabria -  Italy   \n",
       "\n",
       "       Cause of Death  \n",
       "0  Veh. Accident-Auto  \n",
       "1      Other Accident  \n",
       "2             Suicide  \n",
       "3      Other Accident  \n",
       "4             Suicide  "
      ]
     },
     "execution_count": 18,
     "metadata": {},
     "output_type": "execute_result"
    }
   ],
   "source": [
    "if not os.path.exists('Data/deaths_italy_2002_2019.csv'):\n",
    "    !wget 'https://raw.githubusercontent.com/stat10/DS10-Case-Studies/master/Data/deaths_italy_2002_2019.csv'\n",
    "    df_italy = pd.read_csv('deaths_italy_2002_2019.csv', encoding='latin-1')\n",
    "else:\n",
    "    df_italy = pd.read_csv('Data/deaths_italy_2002_2019.csv', encoding='latin-1')\n",
    "df_italy.head()"
   ]
  },
  {
   "cell_type": "markdown",
   "metadata": {
    "slideshow": {
     "slide_type": "slide"
    }
   },
   "source": [
    "### Find number of deaths and homicies Italy in 2018"
   ]
  },
  {
   "cell_type": "code",
   "execution_count": 44,
   "metadata": {
    "slideshow": {
     "slide_type": "fragment"
    }
   },
   "outputs": [
    {
     "name": "stdout",
     "output_type": "stream",
     "text": [
      "Number of deaths in Italy in 2018 = 3\n",
      "Number of homicides in Italy in 2018 = 0\n"
     ]
    }
   ],
   "source": [
    "df_italy['Date'] = pd.to_datetime(df_italy['Date'])\n",
    "start_date = '2018-01-01'\n",
    "end_date = '2018-12-31'\n",
    "mask = (df_italy['Date'] >= start_date) & (df_italy['Date'] <= end_date)\n",
    "df_italy_2018 = df_italy.loc[mask]\n",
    "deaths_italy_2018 = len(df_italy_2018.index)\n",
    "print('Number of deaths in Italy in 2018 =', deaths_italy_2018)\n",
    "hom_italy_2018 = (df_italy_2018['Cause of Death'].values == 'Homicide').sum()\n",
    "print('Number of homicides in Italy in 2018 =', hom_italy_2018)"
   ]
  },
  {
   "cell_type": "markdown",
   "metadata": {
    "slideshow": {
     "slide_type": "slide"
    }
   },
   "source": [
    "### Load Dominican Republic deaths data"
   ]
  },
  {
   "cell_type": "code",
   "execution_count": 21,
   "metadata": {
    "slideshow": {
     "slide_type": "fragment"
    }
   },
   "outputs": [
    {
     "data": {
      "text/html": [
       "<div>\n",
       "<style scoped>\n",
       "    .dataframe tbody tr th:only-of-type {\n",
       "        vertical-align: middle;\n",
       "    }\n",
       "\n",
       "    .dataframe tbody tr th {\n",
       "        vertical-align: top;\n",
       "    }\n",
       "\n",
       "    .dataframe thead th {\n",
       "        text-align: right;\n",
       "    }\n",
       "</style>\n",
       "<table border=\"1\" class=\"dataframe\">\n",
       "  <thead>\n",
       "    <tr style=\"text-align: right;\">\n",
       "      <th></th>\n",
       "      <th>Date</th>\n",
       "      <th>City</th>\n",
       "      <th>Cause of Death</th>\n",
       "    </tr>\n",
       "  </thead>\n",
       "  <tbody>\n",
       "    <tr>\n",
       "      <th>0</th>\n",
       "      <td>10/29/02</td>\n",
       "      <td>Road Santana To Nizao -  Bani -  Dominican Rep...</td>\n",
       "      <td>Other Accident</td>\n",
       "    </tr>\n",
       "    <tr>\n",
       "      <th>1</th>\n",
       "      <td>11/4/02</td>\n",
       "      <td>San Isidro Air Base -  Santo Domingo -  Domini...</td>\n",
       "      <td>Air Accident</td>\n",
       "    </tr>\n",
       "    <tr>\n",
       "      <th>2</th>\n",
       "      <td>11/24/02</td>\n",
       "      <td>Santo Domingo -  Dominican Republic</td>\n",
       "      <td>Homicide</td>\n",
       "    </tr>\n",
       "    <tr>\n",
       "      <th>3</th>\n",
       "      <td>12/11/02</td>\n",
       "      <td>Provincia La Vega -  Dominican Republic</td>\n",
       "      <td>Veh. Accident-Auto</td>\n",
       "    </tr>\n",
       "    <tr>\n",
       "      <th>4</th>\n",
       "      <td>12/22/02</td>\n",
       "      <td>On The Road To La Romana -  Dominican Republic</td>\n",
       "      <td>Veh. Accident-Auto</td>\n",
       "    </tr>\n",
       "  </tbody>\n",
       "</table>\n",
       "</div>"
      ],
      "text/plain": [
       "       Date                                               City  \\\n",
       "0  10/29/02  Road Santana To Nizao -  Bani -  Dominican Rep...   \n",
       "1   11/4/02  San Isidro Air Base -  Santo Domingo -  Domini...   \n",
       "2  11/24/02                Santo Domingo -  Dominican Republic   \n",
       "3  12/11/02            Provincia La Vega -  Dominican Republic   \n",
       "4  12/22/02     On The Road To La Romana -  Dominican Republic   \n",
       "\n",
       "       Cause of Death  \n",
       "0      Other Accident  \n",
       "1        Air Accident  \n",
       "2            Homicide  \n",
       "3  Veh. Accident-Auto  \n",
       "4  Veh. Accident-Auto  "
      ]
     },
     "execution_count": 21,
     "metadata": {},
     "output_type": "execute_result"
    }
   ],
   "source": [
    "if not os.path.exists('Data/deaths_DR_2002_2019.csv'):\n",
    "    !wget 'https://raw.githubusercontent.com/stat10/DS10-Case-Studies/master/Data/deaths_DR_2002_2019.csv'\n",
    "    df_dr = pd.read_csv('deaths_DR_2002_2019.csv', encoding='latin-1')\n",
    "else:\n",
    "    df_dr = pd.read_csv('Data/deaths_DR_2002_2019.csv', encoding='latin-1')\n",
    "df_dr.head()"
   ]
  },
  {
   "cell_type": "markdown",
   "metadata": {
    "slideshow": {
     "slide_type": "slide"
    }
   },
   "source": [
    "### Find number of deaths and homicies in the Dominican Republic in 2018"
   ]
  },
  {
   "cell_type": "code",
   "execution_count": 196,
   "metadata": {
    "slideshow": {
     "slide_type": "fragment"
    }
   },
   "outputs": [
    {
     "name": "stdout",
     "output_type": "stream",
     "text": [
      "Number of deaths in Dominican Republic in 2018 = 13\n",
      "Number of homicides in Dominican Republic in 2018 = 3\n"
     ]
    }
   ],
   "source": [
    "df_dr['Date'] = pd.to_datetime(df_dr['Date'])\n",
    "start_date = '2018-01-01'\n",
    "end_date = '2018-12-31'\n",
    "mask = (df_dr['Date'] >= start_date) & (df_dr['Date'] <= end_date)\n",
    "df_dr_2018 = df_dr.loc[mask]\n",
    "deaths_dr_2018 = len(df_dr_2018.index)\n",
    "print('Number of deaths in Dominican Republic in 2018 =', deaths_dr_2018)\n",
    "hom_dr_2018 = (df_dr_2018['Cause of Death'].values == 'Homicide').sum()\n",
    "print('Number of homicides in Dominican Republic in 2018 =', hom_dr_2018)"
   ]
  },
  {
   "cell_type": "markdown",
   "metadata": {
    "slideshow": {
     "slide_type": "slide"
    }
   },
   "source": [
    "![alt text](https://raw.githubusercontent.com/stat10/DS10-Case-Studies/master/Images/preview4.jpg)"
   ]
  },
  {
   "cell_type": "markdown",
   "metadata": {
    "slideshow": {
     "slide_type": "slide"
    }
   },
   "source": [
    "## What other data do we need?"
   ]
  },
  {
   "cell_type": "code",
   "execution_count": null,
   "metadata": {
    "slideshow": {
     "slide_type": "fragment"
    }
   },
   "outputs": [],
   "source": []
  },
  {
   "cell_type": "markdown",
   "metadata": {
    "slideshow": {
     "slide_type": "fragment"
    }
   },
   "source": [
    "Tourism"
   ]
  },
  {
   "cell_type": "markdown",
   "metadata": {
    "slideshow": {
     "slide_type": "slide"
    }
   },
   "source": [
    "## Exercise:\n",
    "\n",
    "Find the Data Source online (2 min)"
   ]
  },
  {
   "cell_type": "markdown",
   "metadata": {
    "slideshow": {
     "slide_type": "slide"
    }
   },
   "source": [
    "Monthly U.S. citizen departures are collected and [reported in Tourism Industries U.S. International Air Travel Statistics (I-92 data)](https://travel.trade.gov/research/monthly/departures/) Program. Each month NTTO processes and reports outbound figures in the \"U.S. International Air Passenger Statistics Report\". To help the public better understand the international market we produce a monthly table on-line."
   ]
  },
  {
   "cell_type": "markdown",
   "metadata": {
    "slideshow": {
     "slide_type": "subslide"
    }
   },
   "source": [
    "![alt text](https://raw.githubusercontent.com/stat10/DS10-Case-Studies/master/Images/preview5.jpg)"
   ]
  },
  {
   "cell_type": "markdown",
   "metadata": {
    "slideshow": {
     "slide_type": "slide"
    }
   },
   "source": [
    "### Read in and plot tourism data from 2002 to 2018 from Europe, Caribbean, South America, Mexico, Canada, and total tourism"
   ]
  },
  {
   "cell_type": "code",
   "execution_count": 115,
   "metadata": {
    "slideshow": {
     "slide_type": "subslide"
    }
   },
   "outputs": [
    {
     "data": {
      "text/html": [
       "<div>\n",
       "<style scoped>\n",
       "    .dataframe tbody tr th:only-of-type {\n",
       "        vertical-align: middle;\n",
       "    }\n",
       "\n",
       "    .dataframe tbody tr th {\n",
       "        vertical-align: top;\n",
       "    }\n",
       "\n",
       "    .dataframe thead th {\n",
       "        text-align: right;\n",
       "    }\n",
       "</style>\n",
       "<table border=\"1\" class=\"dataframe\">\n",
       "  <thead>\n",
       "    <tr style=\"text-align: right;\">\n",
       "      <th></th>\n",
       "      <th>year</th>\n",
       "      <th>europe</th>\n",
       "      <th>caribbean</th>\n",
       "      <th>southamer</th>\n",
       "      <th>mexico</th>\n",
       "      <th>mexico-air</th>\n",
       "      <th>canada</th>\n",
       "      <th>canada-air</th>\n",
       "      <th>total</th>\n",
       "    </tr>\n",
       "  </thead>\n",
       "  <tbody>\n",
       "    <tr>\n",
       "      <th>0</th>\n",
       "      <td>2002</td>\n",
       "      <td>10677881</td>\n",
       "      <td>4324345</td>\n",
       "      <td>1675376</td>\n",
       "      <td>4175927</td>\n",
       "      <td>4175927</td>\n",
       "      <td>3792550</td>\n",
       "      <td>3792550</td>\n",
       "      <td>31365865</td>\n",
       "    </tr>\n",
       "    <tr>\n",
       "      <th>1</th>\n",
       "      <td>2003</td>\n",
       "      <td>10992891</td>\n",
       "      <td>4941373</td>\n",
       "      <td>1845248</td>\n",
       "      <td>4562351</td>\n",
       "      <td>4562351</td>\n",
       "      <td>3502064</td>\n",
       "      <td>3502064</td>\n",
       "      <td>32516222</td>\n",
       "    </tr>\n",
       "    <tr>\n",
       "      <th>2</th>\n",
       "      <td>2004</td>\n",
       "      <td>12243834</td>\n",
       "      <td>5165041</td>\n",
       "      <td>1985898</td>\n",
       "      <td>5223552</td>\n",
       "      <td>5223552</td>\n",
       "      <td>3922702</td>\n",
       "      <td>3922702</td>\n",
       "      <td>36497344</td>\n",
       "    </tr>\n",
       "    <tr>\n",
       "      <th>3</th>\n",
       "      <td>2005</td>\n",
       "      <td>12552629</td>\n",
       "      <td>5397458</td>\n",
       "      <td>2180777</td>\n",
       "      <td>5672740</td>\n",
       "      <td>5672740</td>\n",
       "      <td>3912198</td>\n",
       "      <td>3912198</td>\n",
       "      <td>38372404</td>\n",
       "    </tr>\n",
       "    <tr>\n",
       "      <th>4</th>\n",
       "      <td>2006</td>\n",
       "      <td>12995893</td>\n",
       "      <td>5780787</td>\n",
       "      <td>2317921</td>\n",
       "      <td>5747999</td>\n",
       "      <td>5747999</td>\n",
       "      <td>3861639</td>\n",
       "      <td>3861639</td>\n",
       "      <td>39758010</td>\n",
       "    </tr>\n",
       "  </tbody>\n",
       "</table>\n",
       "</div>"
      ],
      "text/plain": [
       "   year    europe  caribbean  southamer   mexico  mexico-air   canada  \\\n",
       "0  2002  10677881    4324345    1675376  4175927     4175927  3792550   \n",
       "1  2003  10992891    4941373    1845248  4562351     4562351  3502064   \n",
       "2  2004  12243834    5165041    1985898  5223552     5223552  3922702   \n",
       "3  2005  12552629    5397458    2180777  5672740     5672740  3912198   \n",
       "4  2006  12995893    5780787    2317921  5747999     5747999  3861639   \n",
       "\n",
       "   canada-air     total  \n",
       "0     3792550  31365865  \n",
       "1     3502064  32516222  \n",
       "2     3922702  36497344  \n",
       "3     3912198  38372404  \n",
       "4     3861639  39758010  "
      ]
     },
     "execution_count": 115,
     "metadata": {},
     "output_type": "execute_result"
    }
   ],
   "source": [
    "travel = pd.DataFrame(columns=['year', 'europe', 'caribbean', 'southamer', 'mexico', \n",
    "                               'mexico-air', 'canada', 'canada-air', 'total'])\n",
    "travel['year'] = pd.date_range(start='2002', end='2019', freq='Y').year\n",
    "travel['europe'] = ([10677881, 10992891, 12243834, 12552629, 12995893, 13329777, 12505627, 11979018, \n",
    "                  11103708, 10825923, 11244637, 11407988, 11892216, 12598860, 13614365, 15792769, 17742258])\n",
    "travel['caribbean'] = ([4324345, 4941373, 5165041, 5397458, 5780787, 5649454, 5686838, 5530518, 5716066, \n",
    "                     6031974, 6435343, 6545774, 7171872, 7648197, 7878885, 8320516, 8702217])\n",
    "travel['southamer'] = ([1675376, 1845248, 1985898, 2180777, 2317921, 2463366, 2546511, 2573688, 2129024, \n",
    "                     1653593, 1702869, 1735188, 1771505, 1869463, 2010477, 1925300,  2104107])\n",
    "travel['mexico'] = ([4175927, 4562351, 5223552, 5672740, 5747999, 5799865, 5889363, 5263604, 5383108, \n",
    "                  20084000, 20366668, 20546361, 25881635, 28733286, 31194398, 34946950, 36923011])\n",
    "travel['mexico-air'] = ([4175927, 4562351, 5223552, 5672740, 5747999, 5799865, 5889363, 5263604, \n",
    "                         5383108, 5537383, 5772321, 6219043, 6930590, 7993665, 8933753 , 9810713, 10075187])\n",
    "travel['canada'] = ([3792550, 3502064, 3922702, 3912198, 3861639, 3770453, 3581759, 3280273, 3465111, \n",
    "                     11596943, 11853981, 12007976, 11514572, 12474500, 13894867, 14280387, 14341438])\n",
    "travel['canada-air'] = ([3792550, 3502064, 3922702, 3912198, 3861639, 3770453, 3581759, 3280273, \n",
    "                         3465111, 3518788, 3534659, 3770362, 3410123, 3633045, 4515539, 4815830 , 4584209])\n",
    "travel['total'] = ([31365865, 32516222, 36497344, 38372404, 39758010, 40798278, 40259650, 38844301, 37354842,\n",
    "                    58703951, 60722794, 61569800, 68176355, 73997139, 80226167, 87554795, 93038257])\n",
    "travel.head()"
   ]
  },
  {
   "cell_type": "code",
   "execution_count": 116,
   "metadata": {
    "slideshow": {
     "slide_type": "subslide"
    }
   },
   "outputs": [
    {
     "data": {
      "image/png": "[encoded data removed]",
      "text/plain": [
       "<Figure size 720x432 with 1 Axes>"
      ]
     },
     "metadata": {},
     "output_type": "display_data"
    }
   ],
   "source": [
    "fig1, ax1 = plt.subplots(figsize=(10,6))\n",
    "ax1.plot(travel['year'], travel['europe'] / 1000000, 'o--', label='Europe')\n",
    "ax1.plot(travel['year'], travel['caribbean'] / 1000000, 'o--', label='Caribbean')\n",
    "ax1.plot(travel['year'], travel['southamer'] / 1000000, 'o--', label='South America')\n",
    "ax1.plot(travel['year'], travel['mexico'] / 1000000, 'o--', label='Mexico')\n",
    "ax1.plot(travel['year'], travel['canada'] / 1000000, 'o--', label='Canada')\n",
    "ax1.plot(travel['year'], travel['total'] / 1000000, 'o--', label='Total')\n",
    "ax1.set_xlabel('Year')\n",
    "ax1.set_ylabel('Travelers in Millions')\n",
    "ax1.legend()\n",
    "plt.show(fig1)"
   ]
  },
  {
   "cell_type": "markdown",
   "metadata": {
    "slideshow": {
     "slide_type": "slide"
    }
   },
   "source": [
    "## What do you notice in this graph"
   ]
  },
  {
   "cell_type": "code",
   "execution_count": null,
   "metadata": {
    "slideshow": {
     "slide_type": "fragment"
    }
   },
   "outputs": [],
   "source": []
  },
  {
   "cell_type": "markdown",
   "metadata": {
    "slideshow": {
     "slide_type": "fragment"
    }
   },
   "source": [
    "A huge spike between 2010 and 2012"
   ]
  },
  {
   "cell_type": "markdown",
   "metadata": {
    "slideshow": {
     "slide_type": "slide"
    }
   },
   "source": [
    "![alt text](https://raw.githubusercontent.com/stat10/DS10-Case-Studies/master/Images/preview6.jpg)"
   ]
  },
  {
   "cell_type": "markdown",
   "metadata": {
    "slideshow": {
     "slide_type": "slide"
    }
   },
   "source": [
    "However, if we just take a snapshot of time and look at 2018 and compare Mexico's travel versus deaths we start to see something interest"
   ]
  },
  {
   "cell_type": "markdown",
   "metadata": {
    "slideshow": {
     "slide_type": "subslide"
    }
   },
   "source": [
    "![alt text](https://raw.githubusercontent.com/stat10/DS10-Case-Studies/master/Images/preview7.jpg)"
   ]
  },
  {
   "cell_type": "code",
   "execution_count": 118,
   "metadata": {
    "slideshow": {
     "slide_type": "subslide"
    }
   },
   "outputs": [
    {
     "name": "stdout",
     "output_type": "stream",
     "text": [
      "Proportion of US Travelers to Mexico from 2002 to 2018:\n",
      "0     13.0\n",
      "1     14.0\n",
      "2     14.0\n",
      "3     15.0\n",
      "4     14.0\n",
      "5     14.0\n",
      "6     15.0\n",
      "7     14.0\n",
      "8     14.0\n",
      "9     34.0\n",
      "10    34.0\n",
      "11    33.0\n",
      "12    38.0\n",
      "13    39.0\n",
      "14    39.0\n",
      "15    40.0\n",
      "16    40.0\n",
      "dtype: float64\n"
     ]
    }
   ],
   "source": [
    "# proportion of US travellers to mexico \n",
    "prop_mexico_travel = travel['mexico'] / travel['total']\n",
    "# proportion of US travellers to mexico by air\n",
    "prop_mexico_air_travel = travel['mexico-air'] / travel['total']\n",
    "\n",
    "print('Proportion of US Travelers to Mexico from 2002 to 2018:') \n",
    "print(round(prop_mexico_travel * 100))"
   ]
  },
  {
   "cell_type": "markdown",
   "metadata": {
    "slideshow": {
     "slide_type": "slide"
    }
   },
   "source": [
    "## Separate the deaths in Mexico by year"
   ]
  },
  {
   "cell_type": "code",
   "execution_count": 126,
   "metadata": {
    "slideshow": {
     "slide_type": "subslide"
    }
   },
   "outputs": [
    {
     "data": {
      "text/html": [
       "<div>\n",
       "<style scoped>\n",
       "    .dataframe tbody tr th:only-of-type {\n",
       "        vertical-align: middle;\n",
       "    }\n",
       "\n",
       "    .dataframe tbody tr th {\n",
       "        vertical-align: top;\n",
       "    }\n",
       "\n",
       "    .dataframe thead th {\n",
       "        text-align: right;\n",
       "    }\n",
       "</style>\n",
       "<table border=\"1\" class=\"dataframe\">\n",
       "  <thead>\n",
       "    <tr style=\"text-align: right;\">\n",
       "      <th></th>\n",
       "      <th>year</th>\n",
       "      <th>deaths</th>\n",
       "      <th>homicides</th>\n",
       "    </tr>\n",
       "  </thead>\n",
       "  <tbody>\n",
       "    <tr>\n",
       "      <th>0</th>\n",
       "      <td>2002</td>\n",
       "      <td>77</td>\n",
       "      <td>9</td>\n",
       "    </tr>\n",
       "    <tr>\n",
       "      <th>1</th>\n",
       "      <td>2003</td>\n",
       "      <td>199</td>\n",
       "      <td>40</td>\n",
       "    </tr>\n",
       "    <tr>\n",
       "      <th>2</th>\n",
       "      <td>2004</td>\n",
       "      <td>202</td>\n",
       "      <td>37</td>\n",
       "    </tr>\n",
       "    <tr>\n",
       "      <th>3</th>\n",
       "      <td>2005</td>\n",
       "      <td>236</td>\n",
       "      <td>50</td>\n",
       "    </tr>\n",
       "    <tr>\n",
       "      <th>4</th>\n",
       "      <td>2006</td>\n",
       "      <td>195</td>\n",
       "      <td>43</td>\n",
       "    </tr>\n",
       "  </tbody>\n",
       "</table>\n",
       "</div>"
      ],
      "text/plain": [
       "   year  deaths  homicides\n",
       "0  2002      77          9\n",
       "1  2003     199         40\n",
       "2  2004     202         37\n",
       "3  2005     236         50\n",
       "4  2006     195         43"
      ]
     },
     "execution_count": 126,
     "metadata": {},
     "output_type": "execute_result"
    }
   ],
   "source": [
    "year = []\n",
    "ndeaths = []\n",
    "nhomicides = []\n",
    "for y in range(2002, 2019, 1):\n",
    "    start_date = str(y) + '-01-01'\n",
    "    end_date = str(y) + '-12-31'\n",
    "    df_mexico_year = df_mexico.loc[(df_mexico['Date'] >= start_date) & (df_mexico['Date'] <= end_date)]\n",
    "    nd = len(df_mexico_year.index)\n",
    "    nhom = (df_mexico_year['Cause of Death'].values == 'Homicide').sum()\n",
    "    year.append(y)\n",
    "    ndeaths.append(nd)\n",
    "    nhomicides.append(nhom)\n",
    "data = {'year':year, 'deaths':ndeaths, 'homicides':nhomicides}\n",
    "mexico_deaths = pd.DataFrame(data)\n",
    "mexico_deaths.head()"
   ]
  },
  {
   "cell_type": "markdown",
   "metadata": {
    "slideshow": {
     "slide_type": "slide"
    }
   },
   "source": [
    "## Separate all deaths abroad by year"
   ]
  },
  {
   "cell_type": "code",
   "execution_count": 127,
   "metadata": {
    "slideshow": {
     "slide_type": "subslide"
    }
   },
   "outputs": [
    {
     "data": {
      "text/html": [
       "<div>\n",
       "<style scoped>\n",
       "    .dataframe tbody tr th:only-of-type {\n",
       "        vertical-align: middle;\n",
       "    }\n",
       "\n",
       "    .dataframe tbody tr th {\n",
       "        vertical-align: top;\n",
       "    }\n",
       "\n",
       "    .dataframe thead th {\n",
       "        text-align: right;\n",
       "    }\n",
       "</style>\n",
       "<table border=\"1\" class=\"dataframe\">\n",
       "  <thead>\n",
       "    <tr style=\"text-align: right;\">\n",
       "      <th></th>\n",
       "      <th>year</th>\n",
       "      <th>deaths</th>\n",
       "      <th>homicides</th>\n",
       "    </tr>\n",
       "  </thead>\n",
       "  <tbody>\n",
       "    <tr>\n",
       "      <th>0</th>\n",
       "      <td>2002</td>\n",
       "      <td>228</td>\n",
       "      <td>35</td>\n",
       "    </tr>\n",
       "    <tr>\n",
       "      <th>1</th>\n",
       "      <td>2003</td>\n",
       "      <td>756</td>\n",
       "      <td>120</td>\n",
       "    </tr>\n",
       "    <tr>\n",
       "      <th>2</th>\n",
       "      <td>2004</td>\n",
       "      <td>865</td>\n",
       "      <td>128</td>\n",
       "    </tr>\n",
       "    <tr>\n",
       "      <th>3</th>\n",
       "      <td>2005</td>\n",
       "      <td>838</td>\n",
       "      <td>142</td>\n",
       "    </tr>\n",
       "    <tr>\n",
       "      <th>4</th>\n",
       "      <td>2006</td>\n",
       "      <td>653</td>\n",
       "      <td>104</td>\n",
       "    </tr>\n",
       "  </tbody>\n",
       "</table>\n",
       "</div>"
      ],
      "text/plain": [
       "   year  deaths  homicides\n",
       "0  2002     228         35\n",
       "1  2003     756        120\n",
       "2  2004     865        128\n",
       "3  2005     838        142\n",
       "4  2006     653        104"
      ]
     },
     "execution_count": 127,
     "metadata": {},
     "output_type": "execute_result"
    }
   ],
   "source": [
    "year = []\n",
    "ndeaths = []\n",
    "nhomicides = []\n",
    "for y in range(2002, 2019, 1):\n",
    "    start_date = str(y) + '-01-01'\n",
    "    end_date = str(y) + '-12-31'\n",
    "    df_all_year = df_all.loc[(df_all['Date'] >= start_date) & (df_all['Date'] <= end_date)]\n",
    "    nd = len(df_all_year.index)\n",
    "    nhom = (df_all_year['Cause of Death'].values == 'Homicide').sum()\n",
    "    year.append(y)\n",
    "    ndeaths.append(nd)\n",
    "    nhomicides.append(nhom)\n",
    "data = {'year':year, 'deaths':ndeaths, 'homicides':nhomicides}\n",
    "all_deaths = pd.DataFrame(data)\n",
    "all_deaths.head()"
   ]
  },
  {
   "cell_type": "markdown",
   "metadata": {
    "slideshow": {
     "slide_type": "slide"
    }
   },
   "source": [
    "### Proportion of US travelers deaths in Mexico from 2002 to 2018"
   ]
  },
  {
   "cell_type": "code",
   "execution_count": 121,
   "metadata": {
    "slideshow": {
     "slide_type": "fragment"
    }
   },
   "outputs": [
    {
     "name": "stdout",
     "output_type": "stream",
     "text": [
      "Proportion of US Travelers deaths in Mexico from 2002 to 2018:\n",
      "0     34.0\n",
      "1     26.0\n",
      "2     23.0\n",
      "3     28.0\n",
      "4     30.0\n",
      "5     31.0\n",
      "6     30.0\n",
      "7     26.0\n",
      "8     26.0\n",
      "9     29.0\n",
      "10    28.0\n",
      "11    25.0\n",
      "12    30.0\n",
      "13    27.0\n",
      "14    31.0\n",
      "15    30.0\n",
      "16    27.0\n",
      "Name: deaths, dtype: float64\n"
     ]
    }
   ],
   "source": [
    "prop_deaths_mexico = mexico_deaths['deaths'] / all_deaths['deaths']\n",
    "print('Proportion of US Travelers deaths in Mexico from 2002 to 2018:')\n",
    "print(round(prop_deaths_mexico * 100))"
   ]
  },
  {
   "cell_type": "markdown",
   "metadata": {
    "slideshow": {
     "slide_type": "slide"
    }
   },
   "source": [
    "## Plot of deaths vs travellers"
   ]
  },
  {
   "cell_type": "code",
   "execution_count": 122,
   "metadata": {
    "slideshow": {
     "slide_type": "fragment"
    }
   },
   "outputs": [
    {
     "data": {
      "image/png": "[encoded data removed]",
      "text/plain": [
       "<Figure size 720x432 with 1 Axes>"
      ]
     },
     "metadata": {},
     "output_type": "display_data"
    }
   ],
   "source": [
    "fig2, ax2 = plt.subplots(figsize=(10,6))\n",
    "ax2.plot(travel['year'], prop_mexico_travel * 100, 'o--', label='Travelling to Mexico')\n",
    "ax2.plot(travel['year'], prop_deaths_mexico * 100, 'o--', label='Deaths in Mexico')\n",
    "ax2.set_xlabel('Year')\n",
    "ax2.set_ylabel('Proportion of US citizens')\n",
    "ax2.legend()\n",
    "plt.show(fig2)"
   ]
  },
  {
   "cell_type": "markdown",
   "metadata": {
    "slideshow": {
     "slide_type": "slide"
    }
   },
   "source": [
    "### We need to remove 2002 to 2010 because the collection was different"
   ]
  },
  {
   "cell_type": "code",
   "execution_count": 124,
   "metadata": {
    "slideshow": {
     "slide_type": "subslide"
    }
   },
   "outputs": [
    {
     "data": {
      "image/png": "[encoded data removed]",
      "text/plain": [
       "<Figure size 720x432 with 1 Axes>"
      ]
     },
     "metadata": {},
     "output_type": "display_data"
    }
   ],
   "source": [
    "fig2, ax2 = plt.subplots(figsize=(10,6))\n",
    "ax2.plot(travel['year'][9:17], prop_mexico_travel[9:17] * 100, 'o--', label='Travelling to Mexico')\n",
    "ax2.plot(travel['year'][9:17], prop_deaths_mexico[9:17] * 100, 'o--', label='Deaths in Mexico')\n",
    "ax2.set_xlabel('Year')\n",
    "ax2.set_ylabel('Proportion of US citizens')\n",
    "ax2.legend()\n",
    "plt.show(fig2)"
   ]
  },
  {
   "cell_type": "markdown",
   "metadata": {
    "slideshow": {
     "slide_type": "slide"
    }
   },
   "source": [
    "### We also discussed the idea of homicides versus all deaths so we can plot the proportion of homicides as well"
   ]
  },
  {
   "cell_type": "code",
   "execution_count": 128,
   "metadata": {
    "slideshow": {
     "slide_type": "subslide"
    }
   },
   "outputs": [
    {
     "data": {
      "image/png": "[encoded data removed]",
      "text/plain": [
       "<Figure size 720x432 with 1 Axes>"
      ]
     },
     "metadata": {},
     "output_type": "display_data"
    }
   ],
   "source": [
    "prop_homicides_mexico = mexico_deaths['homicides'] / all_deaths['homicides']\n",
    "fig3, ax3 = plt.subplots(figsize=(10,6))\n",
    "ax3.plot(travel['year'][9:17], prop_mexico_travel[9:17] * 100, 'o--', label='Travelling to Mexico')\n",
    "ax3.plot(travel['year'][9:17], prop_deaths_mexico[9:17] * 100, 'o--', label='Deaths in Mexico')\n",
    "ax3.plot(travel['year'][9:17], prop_homicides_mexico[9:17] * 100, 'o--', label='Homicides in Mexico')\n",
    "ax3.set_xlabel('Year')\n",
    "ax3.set_ylabel('Proportion of US citizens')\n",
    "ax3.legend()\n",
    "plt.show(fig3)"
   ]
  },
  {
   "cell_type": "markdown",
   "metadata": {
    "slideshow": {
     "slide_type": "slide"
    }
   },
   "source": [
    "## What data issues do we still have – are these fair comparisons?"
   ]
  },
  {
   "cell_type": "code",
   "execution_count": null,
   "metadata": {
    "slideshow": {
     "slide_type": "fragment"
    }
   },
   "outputs": [],
   "source": []
  },
  {
   "cell_type": "markdown",
   "metadata": {
    "slideshow": {
     "slide_type": "fragment"
    }
   },
   "source": [
    "- Need to look at countries close to US i.e. canada \n",
    "- drug cartels etc in mexico so maybe only fair to actaully look at tourist locations \n",
    "- maybe only look at by air"
   ]
  },
  {
   "cell_type": "markdown",
   "metadata": {
    "slideshow": {
     "slide_type": "slide"
    }
   },
   "source": [
    "### Read in and plot the proportion of deaths in Canada versus the proportion of travel to Canada"
   ]
  },
  {
   "cell_type": "code",
   "execution_count": 22,
   "metadata": {
    "slideshow": {
     "slide_type": "subslide"
    }
   },
   "outputs": [
    {
     "data": {
      "text/html": [
       "<div>\n",
       "<style scoped>\n",
       "    .dataframe tbody tr th:only-of-type {\n",
       "        vertical-align: middle;\n",
       "    }\n",
       "\n",
       "    .dataframe tbody tr th {\n",
       "        vertical-align: top;\n",
       "    }\n",
       "\n",
       "    .dataframe thead th {\n",
       "        text-align: right;\n",
       "    }\n",
       "</style>\n",
       "<table border=\"1\" class=\"dataframe\">\n",
       "  <thead>\n",
       "    <tr style=\"text-align: right;\">\n",
       "      <th></th>\n",
       "      <th>year</th>\n",
       "      <th>deaths</th>\n",
       "      <th>homicides</th>\n",
       "    </tr>\n",
       "  </thead>\n",
       "  <tbody>\n",
       "    <tr>\n",
       "      <th>0</th>\n",
       "      <td>2002</td>\n",
       "      <td>5</td>\n",
       "      <td>0</td>\n",
       "    </tr>\n",
       "    <tr>\n",
       "      <th>1</th>\n",
       "      <td>2003</td>\n",
       "      <td>23</td>\n",
       "      <td>0</td>\n",
       "    </tr>\n",
       "    <tr>\n",
       "      <th>2</th>\n",
       "      <td>2004</td>\n",
       "      <td>20</td>\n",
       "      <td>3</td>\n",
       "    </tr>\n",
       "    <tr>\n",
       "      <th>3</th>\n",
       "      <td>2005</td>\n",
       "      <td>19</td>\n",
       "      <td>0</td>\n",
       "    </tr>\n",
       "    <tr>\n",
       "      <th>4</th>\n",
       "      <td>2006</td>\n",
       "      <td>7</td>\n",
       "      <td>1</td>\n",
       "    </tr>\n",
       "  </tbody>\n",
       "</table>\n",
       "</div>"
      ],
      "text/plain": [
       "   year  deaths  homicides\n",
       "0  2002       5          0\n",
       "1  2003      23          0\n",
       "2  2004      20          3\n",
       "3  2005      19          0\n",
       "4  2006       7          1"
      ]
     },
     "execution_count": 22,
     "metadata": {},
     "output_type": "execute_result"
    }
   ],
   "source": [
    "if not os.path.exists('Data/deaths_canada_2002_2019.csv'):\n",
    "    !wget 'https://raw.githubusercontent.com/stat10/DS10-Case-Studies/master/Data/deaths_canada_2002_2019.csv'\n",
    "    df_canada = pd.read_csv('deaths_canada_2002_2019.csv', encoding='latin-1')\n",
    "else:\n",
    "    df_canada = pd.read_csv('Data/deaths_canada_2002_2019.csv', encoding='latin-1')\n",
    "df_canada['Date'] = pd.to_datetime(df_canada['Date'])\n",
    "year = []\n",
    "ndeaths = []\n",
    "nhomicides = []\n",
    "for y in range(2002, 2019, 1):\n",
    "    start_date = str(y) + '-01-01'\n",
    "    end_date = str(y) + '-12-31'\n",
    "    df_canada_year = df_canada.loc[(df_canada['Date'] >= start_date) & (df_canada['Date'] <= end_date)]\n",
    "    nd = len(df_canada_year.index)\n",
    "    nhom = (df_canada_year['Cause of Death'].values == 'Homicide').sum()\n",
    "    year.append(y)\n",
    "    ndeaths.append(nd)\n",
    "    nhomicides.append(nhom)\n",
    "data = {'year':year, 'deaths':ndeaths, 'homicides':nhomicides}\n",
    "canada_deaths = pd.DataFrame(data)\n",
    "canada_deaths.head()"
   ]
  },
  {
   "cell_type": "code",
   "execution_count": 146,
   "metadata": {
    "slideshow": {
     "slide_type": "subslide"
    }
   },
   "outputs": [
    {
     "data": {
      "image/png": "[encoded data removed]",
      "text/plain": [
       "<Figure size 720x432 with 1 Axes>"
      ]
     },
     "metadata": {},
     "output_type": "display_data"
    }
   ],
   "source": [
    "prop_canada_air_travel = travel['canada-air'] / travel['total']\n",
    "prop_canada_travel = travel['canada'] / travel['total']\n",
    "prop_death_canada = canada_deaths['deaths'] / all_deaths['deaths']\n",
    "fig4, ax4 = plt.subplots(figsize=(10,6))\n",
    "ax4.plot(travel['year'][9:17], prop_canada_travel[9:17] * 100, 'o--', label='Travelling to Canada')\n",
    "ax4.plot(travel['year'][9:17], prop_canada_air_travel[9:17] * 100, 'o--', label='Travelling to Canada by air')\n",
    "ax4.plot(travel['year'][9:17], prop_death_canada[9:17] * 100, 'o--', label='Deaths in Canada')\n",
    "ax4.set_xlabel('Year')\n",
    "ax4.set_ylabel('Proportion of US citizens')\n",
    "ax4.legend()\n",
    "plt.show(fig4)"
   ]
  },
  {
   "cell_type": "markdown",
   "metadata": {
    "slideshow": {
     "slide_type": "slide"
    }
   },
   "source": [
    "This only gives us Canada's proportions, but what if we plot both mexico and canada on the same graph? What if we do two things to try to control for all of our data issues?\n",
    "1. only look at travel by air to both countries\n",
    "2. only look at deaths in Mexico in the top 10 tourist destination cities"
   ]
  },
  {
   "cell_type": "markdown",
   "metadata": {
    "slideshow": {
     "slide_type": "slide"
    }
   },
   "source": [
    "### Plot Canada deaths and travel by air versus Mexico deaths (in top tourist locations) and travel by air"
   ]
  },
  {
   "cell_type": "code",
   "execution_count": 188,
   "metadata": {
    "slideshow": {
     "slide_type": "subslide"
    }
   },
   "outputs": [],
   "source": [
    "year = []\n",
    "ndeaths = []\n",
    "for y in range(2002, 2019, 1):\n",
    "    start_date = str(y) + '-01-01'\n",
    "    end_date = str(y) + '-12-31'\n",
    "    df_mexico_tourist = df_mexico.loc[(df_mexico['Date'] >= start_date) & (df_mexico['Date'] <= end_date)]\n",
    "    nd_tour = (len(df_mexico_tourist[df_mexico_tourist['City'].str.contains('Cancun')]) +\n",
    "               len(df_mexico_tourist[df_mexico_tourist['City'].str.contains('Cabo San Lucas')]))\n",
    "    year.append(y)\n",
    "    ndeaths.append(nd_tour)\n",
    "data = {'year':year, 'deaths':ndeaths}\n",
    "mexico_tourist_deaths = pd.DataFrame(data)\n",
    "prop_tour_deaths_mexico = mexico_tourist_deaths['deaths'] / all_deaths['deaths']"
   ]
  },
  {
   "cell_type": "code",
   "execution_count": 194,
   "metadata": {
    "slideshow": {
     "slide_type": "subslide"
    }
   },
   "outputs": [
    {
     "data": {
      "image/png": "[encoded data removed]",
      "text/plain": [
       "<Figure size 720x432 with 1 Axes>"
      ]
     },
     "metadata": {},
     "output_type": "display_data"
    }
   ],
   "source": [
    "fig5, ax5 = plt.subplots(figsize=(10,6))\n",
    "ax5.plot(travel['year'][9:17], prop_mexico_air_travel[9:17] * 100, 'or-', label='Travelling to Mexico by air')\n",
    "ax5.plot(travel['year'][9:17], prop_tour_deaths_mexico[9:17] * 100, 'or--', label='Deaths in Mexico tourist locations')\n",
    "ax5.plot(travel['year'][9:17], prop_canada_air_travel[9:17] * 100, 'ok--', label='Travelling to Canada by air')\n",
    "ax5.plot(travel['year'][9:17], prop_death_canada[9:17] * 100, 'ok-', label='Deaths in Canada')\n",
    "ax5.set_xlabel('Year')\n",
    "ax5.set_ylabel('Proportion of US citizens')\n",
    "ax5.legend(loc='right', bbox_to_anchor=(0.9,0.7))\n",
    "plt.show(fig5)"
   ]
  },
  {
   "cell_type": "markdown",
   "metadata": {
    "slideshow": {
     "slide_type": "slide"
    }
   },
   "source": [
    "## What is this telling us?"
   ]
  },
  {
   "cell_type": "code",
   "execution_count": null,
   "metadata": {
    "slideshow": {
     "slide_type": "fragment"
    }
   },
   "outputs": [],
   "source": []
  },
  {
   "cell_type": "markdown",
   "metadata": {
    "slideshow": {
     "slide_type": "fragment"
    }
   },
   "source": [
    "top tourist spots in mexico are safer than going to canada"
   ]
  },
  {
   "cell_type": "markdown",
   "metadata": {
    "slideshow": {
     "slide_type": "slide"
    }
   },
   "source": [
    "### How do we understand our Spring Break risk even using the very conservative numbers:\n",
    "\n",
    "In 2018:\n",
    "\n",
    "*   196 Total deaths in Mexico \n",
    "*   67 Total homicides in Mexico \n",
    "*   36,923,011 US travelers to Mexico\n",
    "\n",
    "That means there were\n",
    "\n",
    "\n",
    "*   .53 Deaths per 100,000 travelers\n",
    "*   .18 Homicides per 100,000 travelers\n",
    "\n",
    "What could we compare that to?"
   ]
  },
  {
   "cell_type": "markdown",
   "metadata": {
    "slideshow": {
     "slide_type": "slide"
    }
   },
   "source": [
    "## Exercise:\n",
    "\n",
    "Find something to compare that to.\n",
    "\n",
    "[This](https://ourworldindata.org/does-the-news-reflect-what-we-die-from) is a good place to start"
   ]
  },
  {
   "cell_type": "markdown",
   "metadata": {
    "slideshow": {
     "slide_type": "slide"
    }
   },
   "source": [
    "![alt text](https://raw.githubusercontent.com/stat10/DS10-Case-Studies/master/Images/preview8.jpg)"
   ]
  },
  {
   "cell_type": "markdown",
   "metadata": {
    "slideshow": {
     "slide_type": "slide"
    }
   },
   "source": [
    "## Communication of this Data Science Information\n",
    "\n",
    "Now that we have found the real truth behind the data using data science techniques, how do we properly communicate this information?"
   ]
  },
  {
   "cell_type": "markdown",
   "metadata": {
    "slideshow": {
     "slide_type": "slide"
    }
   },
   "source": [
    "We pick a headline that asks the question we wanted to know and gives a teaser about what data science question we are choosing. \n",
    "![alt text](https://raw.githubusercontent.com/stat10/DS10-Case-Studies/master/Images/preview9.jpg)"
   ]
  },
  {
   "cell_type": "markdown",
   "metadata": {
    "slideshow": {
     "slide_type": "slide"
    }
   },
   "source": [
    "1.  *The issue in a nutshell*\n",
    "    - **a tragic death created headlines about Mexico being dangerous**\n",
    "    \n",
    "2.  *The question we need to answer*\n",
    "    - **is Mexico dangerous and will your be at risk**"
   ]
  },
  {
   "cell_type": "markdown",
   "metadata": {
    "slideshow": {
     "slide_type": "slide"
    }
   },
   "source": [
    "3. *What is the data?*\n",
    "![alt text](https://raw.githubusercontent.com/stat10/DS10-Case-Studies/master/Images/preview10.jpg)"
   ]
  },
  {
   "cell_type": "markdown",
   "metadata": {
    "slideshow": {
     "slide_type": "slide"
    }
   },
   "source": [
    "4. *What are issues with data?*\n",
    "![alt text](https://raw.githubusercontent.com/stat10/DS10-Case-Studies/master/Images/preview11.jpg)"
   ]
  },
  {
   "cell_type": "markdown",
   "metadata": {
    "slideshow": {
     "slide_type": "slide"
    }
   },
   "source": [
    "5. *What other data do we need?*\n",
    "![alt text](https://raw.githubusercontent.com/stat10/DS10-Case-Studies/master/Images/preview12.jpg)"
   ]
  },
  {
   "cell_type": "markdown",
   "metadata": {
    "slideshow": {
     "slide_type": "slide"
    }
   },
   "source": [
    "6. *Deeper dive into the data with a further question*\n",
    "![alt text](https://raw.githubusercontent.com/stat10/DS10-Case-Studies/master/Images/preview13.jpg)"
   ]
  },
  {
   "cell_type": "markdown",
   "metadata": {
    "slideshow": {
     "slide_type": "slide"
    }
   },
   "source": [
    "7. *Issues with the conclusion from the data*\n",
    "![alt text](https://raw.githubusercontent.com/stat10/DS10-Case-Studies/master/Images/preview14.jpg)"
   ]
  },
  {
   "cell_type": "markdown",
   "metadata": {
    "slideshow": {
     "slide_type": "slide"
    }
   },
   "source": [
    "8. *Why do we care? How is this important to the stakeholders?*\n",
    "![alt text](https://raw.githubusercontent.com/stat10/DS10-Case-Studies/master/Images/preview15.jpg)"
   ]
  },
  {
   "cell_type": "markdown",
   "metadata": {
    "slideshow": {
     "slide_type": "slide"
    }
   },
   "source": [
    "9. *Overall data science issue at play*\n",
    "![alt text](https://raw.githubusercontent.com/stat10/DS10-Case-Studies/master/Images/preview16.jpg)"
   ]
  },
  {
   "cell_type": "markdown",
   "metadata": {
    "slideshow": {
     "slide_type": "slide"
    }
   },
   "source": [
    "## Homework 1: Communicate the Data Science Case\n",
    "![alt text](https://raw.githubusercontent.com/stat10/DS10-Case-Studies/master/Images/preview17.jpg)"
   ]
  },
  {
   "cell_type": "markdown",
   "metadata": {
    "slideshow": {
     "slide_type": "slide"
    }
   },
   "source": [
    "The Transport for London (TFL) (authorizing authority for taxis, transportation etc.) has stripped Uber of its license to operate. \n",
    " \n",
    "Why, while there are a lot of theories about it, TFL said that it was because Uber was dangerous. And the public went along with it. Why? Because somehow they believe that Uber dangerous. \n",
    " \n",
    "Where did that idea come from?"
   ]
  },
  {
   "cell_type": "markdown",
   "metadata": {
    "slideshow": {
     "slide_type": "slide"
    }
   },
   "source": [
    "![alt text](https://raw.githubusercontent.com/stat10/DS10-Case-Studies/master/Images/preview18.jpg)"
   ]
  },
  {
   "cell_type": "markdown",
   "metadata": {
    "slideshow": {
     "slide_type": "slide"
    }
   },
   "source": [
    "The licensed taxi drivers association (LTDA) but up a very striking billboard in London:\n",
    "\n",
    "“Last year there were 154 rapes and sexual assaults by minicab drivers in London. At least 32 of these were uber drivers. Don’t take a risk with a minicab, only use a black cab”\n",
    " \n",
    "For some context, taxis are black cabs and minicabs (which include ubers)\n",
    "Here is an image of a crying young woman who has obviously just been sexually assaulted by one of these minicab or uber drivers.  \n",
    "\n",
    "If you notice the Met Police logo and the Transport for London logo are on this very clearly. \n",
    " \n",
    "Pretty powerful stuff there. \n",
    " \n",
    "Very powerful. "
   ]
  },
  {
   "cell_type": "markdown",
   "metadata": {
    "slideshow": {
     "slide_type": "subslide"
    }
   },
   "source": [
    "### Except it wasn’t true. "
   ]
  },
  {
   "cell_type": "markdown",
   "metadata": {
    "slideshow": {
     "slide_type": "slide"
    }
   },
   "source": [
    "![alt text](https://raw.githubusercontent.com/stat10/DS10-Case-Studies/master/Images/preview19.jpg)"
   ]
  },
  {
   "cell_type": "markdown",
   "metadata": {
    "slideshow": {
     "slide_type": "slide"
    }
   },
   "source": [
    "What the freedom of information request from the Met police actually said is that over the year there had been “154 allegations of rape or sexual assault had been made where the suspect was alleged to be a taxi driver. 32 of these stated they were by an uber driver.“\n",
    "\n",
    "The black cabs, Licensed Taxi Driver’s Association, took themselves out of it. \n",
    "\n",
    "When eventually the London Taxi Driver’s Association were asked about it, they said sorry, it was a mistype. They were then told to take it down and they did. "
   ]
  },
  {
   "cell_type": "markdown",
   "metadata": {
    "slideshow": {
     "slide_type": "slide"
    }
   },
   "source": [
    "![alt text](https://raw.githubusercontent.com/stat10/DS10-Case-Studies/master/Images/preview20.jpg)"
   ]
  },
  {
   "cell_type": "markdown",
   "metadata": {
    "slideshow": {
     "slide_type": "slide"
    }
   },
   "source": [
    "And just  replaced it with another one.\n",
    " \n",
    "“Last year there were 32 allegations of sexual assault made against Uber drivers. Why up your risk with a minicab?”\n",
    " \n",
    "Ok, that is the truth, fair enough. So is it true that you do up your risk with Uber?"
   ]
  },
  {
   "cell_type": "markdown",
   "metadata": {
    "slideshow": {
     "slide_type": "slide"
    }
   },
   "source": [
    "![alt text](https://raw.githubusercontent.com/stat10/DS10-Case-Studies/master/Images/preview21.jpg)"
   ]
  },
  {
   "cell_type": "markdown",
   "metadata": {
    "slideshow": {
     "slide_type": "slide"
    }
   },
   "source": [
    "## Let's look"
   ]
  },
  {
   "cell_type": "markdown",
   "metadata": {
    "slideshow": {
     "slide_type": "subslide"
    }
   },
   "source": [
    "*How many Assaults are Uber Drivers responsible for?*\n",
    "Just over 20% of sexual assaults by taxis drivers are by an Uber driver - is that disproportionately high or low compared to the number of journeys? Because, if for example, uber does all the journeys, all the taxis rides, the black cabs and other minicab drivers are out of business, than Uber should be associated with 100% of the sexual assaults by taxis in London.\n",
    " \n",
    "According to TFL, every week there are 2-3 million journeys in all kinds of taxis including Uber. \n",
    " \n",
    "Uber in London do more than a million of these. \n",
    " \n",
    "So Uber does more than 1/3 of all taxi journeys in London but they are only associated with 1/5 of the sexual assaults. \n",
    " \n",
    "So no reason to believe that Uber drivers are any more dangerous than any other kind of taxi driver, actually quite the opposite. "
   ]
  },
  {
   "cell_type": "markdown",
   "metadata": {
    "slideshow": {
     "slide_type": "subslide"
    }
   },
   "source": [
    "*What about the other headlines “Rates of Sexual Assault by taxis at an all time high!”*\n",
    " \n",
    "In 2015 136 reports of rape or sexual assault\n",
    "But by definition, a 5 year high means that it was as high 5 years ago. \n",
    "In 2009 (3 yrs before uber began operating in london) the number of sexual assaults and rapes was the same 136 \n",
    " \n",
    "Uber in no way contributed to an increase in sexual assaults by taxi drivers. "
   ]
  },
  {
   "cell_type": "markdown",
   "metadata": {
    "slideshow": {
     "slide_type": "slide"
    }
   },
   "source": [
    "## Homework Assignment:\n",
    "Write an article about the Uber ban in London like the Mexico for Spring break article. Include the same questions/issues in the Mexico for Spring break article including data, data issues, and risk. "
   ]
  }
 ],
 "metadata": {
  "celltoolbar": "Slideshow",
  "kernelspec": {
   "display_name": "Python 3",
   "language": "python",
   "name": "python3"
  },
  "language_info": {
   "codemirror_mode": {
    "name": "ipython",
    "version": 3
   },
   "file_extension": ".py",
   "mimetype": "text/x-python",
   "name": "python",
   "nbconvert_exporter": "python",
   "pygments_lexer": "ipython3",
   "version": "3.6.2"
  }
 },
 "nbformat": 4,
 "nbformat_minor": 2
}
